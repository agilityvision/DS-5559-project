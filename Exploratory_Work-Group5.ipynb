{
 "cells": [
  {
   "cell_type": "markdown",
   "metadata": {},
   "source": [
    "## Exploratory Data Analysis"
   ]
  },
  {
   "cell_type": "markdown",
   "metadata": {},
   "source": [
    "5.11 Assignment \n",
    "\n",
    "Brad Howlett (bth2g)  \n",
    "Eric Larson (rel4yx)  \n",
    "Hanim Song (hs4cf) \n",
    "---"
   ]
  },
  {
   "cell_type": "code",
   "execution_count": 1,
   "metadata": {},
   "outputs": [],
   "source": [
    "import os\n",
    "from pyspark.sql import SparkSession\n",
    "import pyspark.sql.types as typ\n",
    "import pyspark.sql.functions as F\n",
    "from pyspark.sql import DataFrame\n",
    "from functools import reduce\n",
    "from pyspark.sql.functions import col, asc\n",
    "from pyspark.sql import SQLContext\n",
    "from pyspark.sql.types import StructType\n",
    "from pyspark.sql.types import StructField\n",
    "from pyspark.sql.types import StringType, DoubleType, DateType\n",
    "from pyspark.sql import SparkSession\n",
    "import pandas as pd\n",
    "import numpy as np"
   ]
  },
  {
   "cell_type": "code",
   "execution_count": 2,
   "metadata": {},
   "outputs": [],
   "source": [
    "spark = SparkSession \\\n",
    "    .builder \\\n",
    "    .getOrCreate()\n",
    "\n",
    "sc = spark.sparkContext"
   ]
  },
  {
   "cell_type": "markdown",
   "metadata": {},
   "source": [
    "### Based on data from : https://www.fec.gov/data/browse-data/?tab=bulk-data   \n",
    "This is House/Senate campaign finance data:"
   ]
  },
  {
   "cell_type": "code",
   "execution_count": 3,
   "metadata": {},
   "outputs": [],
   "source": [
    "#storing all files in dictionaries for easy reference\n",
    "f_campaigns = {'2019-2020':'campaign_2020.txt',\n",
    "               '2017-2018':'campaign_2018.txt',\n",
    "               '2015-2016':'campaign_2016.txt'}\n",
    "\n",
    "#no header provided by FEC to upload\n",
    "header_row = ['CAND_ID',\n",
    "              'CAND_NAME',\n",
    "              'CAND_ICI',\n",
    "              'PTY_CD',\n",
    "              'CAND_PTY_AFFILIATION',\n",
    "              'TTL_RECEIPTS',\n",
    "              'TRANS_FROM_AUTH',\n",
    "              'TTL_DISB',\n",
    "              'TRANS_TO_AUTH',\n",
    "              'COH_BOP',\n",
    "              'COH_COP',\n",
    "              'CAND_CONTRIB',\n",
    "              'CAND_LOANS',\n",
    "              'OTHER_LOANS',\n",
    "              'CAND_LOAN_REPAY',\n",
    "              'OTHER_LOAN_REPAY',\n",
    "              'DEBTS_OWED_BY',\n",
    "              'TTL_INDIV_CONTRIB',\n",
    "              'CAND_OFFICE_ST',\n",
    "              'CAND_OFFICE_DISTRICT',\n",
    "              'SPEC_ELECTION',\n",
    "              'PRIM_ELECTION',\n",
    "              'RUN_ELECTION',\n",
    "              'GEN_ELECTION',\n",
    "              'GEN_ELECTION_PRECENT',\n",
    "              'OTHER_POL_CMTE_CONTRIB',\n",
    "              'POL_PTY_CONTRIB',\n",
    "              'CVG_END_DT',\n",
    "              'INDIV_REFUNDS',\n",
    "              'CMTE_REFUNDS']"
   ]
  },
  {
   "cell_type": "markdown",
   "metadata": {},
   "source": [
    "**Create dataframes and combine the three files together for analysis:**"
   ]
  },
  {
   "cell_type": "code",
   "execution_count": 63,
   "metadata": {},
   "outputs": [],
   "source": [
    "df_temp20 = sc.textFile(f_campaigns['2019-2020']).map(lambda row: [elem for elem in row.split('|')])\n",
    "df_temp18 = sc.textFile(f_campaigns['2017-2018']).map(lambda row: [elem for elem in row.split('|')])\n",
    "df_temp16 = sc.textFile(f_campaigns['2015-2016']).map(lambda row: [elem for elem in row.split('|')]) \n",
    "\n",
    "#default to stringtype for ease of loading, then adjust below:\n",
    "fields = [*[typ.StructField(h[:], typ.StringType(), True) for h in header_row]]\n",
    "schema = typ.StructType(fields)\n",
    "\n",
    "df_20 = spark.createDataFrame(df_temp20, schema)\n",
    "df_18 = spark.createDataFrame(df_temp18, schema)\n",
    "df_16 = spark.createDataFrame(df_temp16, schema)\n",
    "\n",
    "dfs = [df_20, df_18, df_16]\n",
    "\n",
    "df = reduce(DataFrame.unionAll, dfs)\n",
    "\n",
    "#casting necessary numeric values:\n",
    "df = df.withColumn('TTL_RECEIPTS', df['TTL_RECEIPTS'].cast(DoubleType()))\n",
    "df = df.withColumn('TTL_INDIV_CONTRIB', df['TTL_INDIV_CONTRIB'].cast(DoubleType()))\n",
    "df = df.withColumn('CAND_CONTRIB', df['CAND_CONTRIB'].cast(DoubleType()))\n",
    "df = df.withColumn('OTHER_POL_CMTE_CONTRIB', df['OTHER_POL_CMTE_CONTRIB'].cast(DoubleType()))\n",
    "df = df.withColumn('POL_PTY_CONTRIB', df['POL_PTY_CONTRIB'].cast(DoubleType()))"
   ]
  },
  {
   "cell_type": "markdown",
   "metadata": {},
   "source": [
    "---\n",
    "**Number of records:**"
   ]
  },
  {
   "cell_type": "code",
   "execution_count": 51,
   "metadata": {},
   "outputs": [
    {
     "data": {
      "text/plain": [
       "7149"
      ]
     },
     "execution_count": 51,
     "metadata": {},
     "output_type": "execute_result"
    }
   ],
   "source": [
    "df.count()"
   ]
  },
  {
   "cell_type": "markdown",
   "metadata": {},
   "source": [
    "---\n",
    "**Number of columns:**"
   ]
  },
  {
   "cell_type": "code",
   "execution_count": 16,
   "metadata": {},
   "outputs": [
    {
     "data": {
      "text/plain": [
       "30"
      ]
     },
     "execution_count": 16,
     "metadata": {},
     "output_type": "execute_result"
    }
   ],
   "source": [
    "len(df.columns)"
   ]
  },
  {
   "cell_type": "markdown",
   "metadata": {},
   "source": [
    "---\n",
    "**Statistical summary of response variable:**"
   ]
  },
  {
   "cell_type": "markdown",
   "metadata": {},
   "source": [
    "Our statistical summary will be based on whether a candidate won or lost the relevant political race.  \n",
    "  \n",
    "We are still gathering and joining that data to this set."
   ]
  },
  {
   "cell_type": "markdown",
   "metadata": {},
   "source": [
    "---\n",
    "**Statistical summary of potential predictor variables:**"
   ]
  },
  {
   "cell_type": "markdown",
   "metadata": {},
   "source": [
    "Total receipts -"
   ]
  },
  {
   "cell_type": "code",
   "execution_count": 54,
   "metadata": {},
   "outputs": [
    {
     "name": "stdout",
     "output_type": "stream",
     "text": [
      "+-------+-------------------+\n",
      "|summary|       TTL_RECEIPTS|\n",
      "+-------+-------------------+\n",
      "|  count|               7149|\n",
      "|   mean| 2266553.4508938333|\n",
      "| stddev|6.004019782547508E7|\n",
      "|    min|                0.0|\n",
      "|    max|      4.824617973E9|\n",
      "+-------+-------------------+\n",
      "\n"
     ]
    }
   ],
   "source": [
    "df.select('TTL_RECEIPTS').describe().show()"
   ]
  },
  {
   "cell_type": "markdown",
   "metadata": {},
   "source": [
    "Contributions by individuals -"
   ]
  },
  {
   "cell_type": "code",
   "execution_count": 55,
   "metadata": {},
   "outputs": [
    {
     "name": "stdout",
     "output_type": "stream",
     "text": [
      "+-------+-------------------+\n",
      "|summary|  TTL_INDIV_CONTRIB|\n",
      "+-------+-------------------+\n",
      "|  count|               7149|\n",
      "|   mean|  3570474.139283814|\n",
      "| stddev|2.231747534710199E8|\n",
      "|    min|                0.0|\n",
      "|    max|    1.8853982587E10|\n",
      "+-------+-------------------+\n",
      "\n"
     ]
    }
   ],
   "source": [
    "df.select('TTL_INDIV_CONTRIB').describe().show()"
   ]
  },
  {
   "cell_type": "markdown",
   "metadata": {},
   "source": [
    "Contributions by candidates -"
   ]
  },
  {
   "cell_type": "code",
   "execution_count": 57,
   "metadata": {},
   "outputs": [
    {
     "name": "stdout",
     "output_type": "stream",
     "text": [
      "+-------+-------------------+\n",
      "|summary|       CAND_CONTRIB|\n",
      "+-------+-------------------+\n",
      "|  count|               7149|\n",
      "|   mean|  621843.8302853543|\n",
      "| stddev|3.607460293607057E7|\n",
      "|    min|                0.0|\n",
      "|    max|      2.831281203E9|\n",
      "+-------+-------------------+\n",
      "\n"
     ]
    }
   ],
   "source": [
    "df.select('CAND_CONTRIB').describe().show()"
   ]
  },
  {
   "cell_type": "markdown",
   "metadata": {},
   "source": [
    "Contributions from party committees -"
   ]
  },
  {
   "cell_type": "code",
   "execution_count": 64,
   "metadata": {},
   "outputs": [
    {
     "name": "stdout",
     "output_type": "stream",
     "text": [
      "+-------+------------------+\n",
      "|summary|   POL_PTY_CONTRIB|\n",
      "+-------+------------------+\n",
      "|  count|              7149|\n",
      "|   mean|1594.4136438662752|\n",
      "| stddev| 37564.26071346217|\n",
      "|    min|               0.0|\n",
      "|    max|         3100000.0|\n",
      "+-------+------------------+\n",
      "\n"
     ]
    }
   ],
   "source": [
    "df.select('POL_PTY_CONTRIB').describe().show()"
   ]
  },
  {
   "cell_type": "markdown",
   "metadata": {},
   "source": [
    "Contributions from other political committees -"
   ]
  },
  {
   "cell_type": "code",
   "execution_count": 65,
   "metadata": {},
   "outputs": [
    {
     "name": "stdout",
     "output_type": "stream",
     "text": [
      "+-------+----------------------+\n",
      "|summary|OTHER_POL_CMTE_CONTRIB|\n",
      "+-------+----------------------+\n",
      "|  count|                  7149|\n",
      "|   mean|     449703.3054748916|\n",
      "| stddev|  2.2751089972151406E7|\n",
      "|    min|                   0.0|\n",
      "|    max|           1.9235003E9|\n",
      "+-------+----------------------+\n",
      "\n"
     ]
    }
   ],
   "source": [
    "df.select('OTHER_POL_CMTE_CONTRIB').describe().show()"
   ]
  },
  {
   "cell_type": "markdown",
   "metadata": {},
   "source": [
    "Candidate status (C = Challenger, O = Open, I = Incumbent) -"
   ]
  },
  {
   "cell_type": "code",
   "execution_count": 61,
   "metadata": {},
   "outputs": [
    {
     "name": "stdout",
     "output_type": "stream",
     "text": [
      "+--------+-----+\n",
      "|CAND_ICI|count|\n",
      "+--------+-----+\n",
      "|       C| 3857|\n",
      "|       O| 1779|\n",
      "|       I| 1441|\n",
      "|        |   72|\n",
      "+--------+-----+\n",
      "\n"
     ]
    }
   ],
   "source": [
    "#some data cleaning to do for the blanks\n",
    "df.groupby('CAND_ICI').count().orderBy('count', ascending = False).show()"
   ]
  },
  {
   "cell_type": "markdown",
   "metadata": {},
   "source": [
    "Candidate party affiliation (count) -"
   ]
  },
  {
   "cell_type": "code",
   "execution_count": 41,
   "metadata": {},
   "outputs": [
    {
     "name": "stdout",
     "output_type": "stream",
     "text": [
      "+--------------------+-----+\n",
      "|CAND_PTY_AFFILIATION|count|\n",
      "+--------------------+-----+\n",
      "|                 DEM| 3227|\n",
      "|                 REP| 3193|\n",
      "|                 IND|  272|\n",
      "|                 LIB|  136|\n",
      "|                 GRE|   55|\n",
      "|                 NPA|   37|\n",
      "|                 DFL|   36|\n",
      "|                 OTH|   35|\n",
      "|                 NNE|   32|\n",
      "|                 UNK|   26|\n",
      "|                  UN|   23|\n",
      "|                 CON|   14|\n",
      "|                   W|    9|\n",
      "|                 NON|    7|\n",
      "|                 IDP|    5|\n",
      "|                 NOP|    5|\n",
      "|                 AMP|    3|\n",
      "|                 PPY|    3|\n",
      "|                 SEP|    3|\n",
      "|                 UNI|    3|\n",
      "+--------------------+-----+\n",
      "only showing top 20 rows\n",
      "\n"
     ]
    }
   ],
   "source": [
    "df.groupby('CAND_PTY_AFFILIATION').count().orderBy('count', ascending = False).show()"
   ]
  },
  {
   "cell_type": "markdown",
   "metadata": {},
   "source": [
    "Candidate state (count) - "
   ]
  },
  {
   "cell_type": "code",
   "execution_count": 59,
   "metadata": {},
   "outputs": [
    {
     "name": "stdout",
     "output_type": "stream",
     "text": [
      "+--------------+-----+\n",
      "|CAND_OFFICE_ST|count|\n",
      "+--------------+-----+\n",
      "|            CA|  695|\n",
      "|            TX|  604|\n",
      "|            00|  513|\n",
      "|            FL|  486|\n",
      "|            NY|  364|\n",
      "|            PA|  263|\n",
      "|            GA|  235|\n",
      "|            IL|  228|\n",
      "|            NC|  224|\n",
      "|            MI|  189|\n",
      "|            OH|  183|\n",
      "|            VA|  171|\n",
      "|            AZ|  170|\n",
      "|            NJ|  170|\n",
      "|            IN|  148|\n",
      "|            TN|  147|\n",
      "|            MD|  147|\n",
      "|            WA|  132|\n",
      "|            MN|  129|\n",
      "|            CO|  125|\n",
      "+--------------+-----+\n",
      "only showing top 20 rows\n",
      "\n"
     ]
    }
   ],
   "source": [
    "df.groupby('CAND_OFFICE_ST').count().orderBy('count', ascending = False).show()"
   ]
  },
  {
   "cell_type": "code",
   "execution_count": 66,
   "metadata": {},
   "outputs": [
    {
     "name": "stdout",
     "output_type": "stream",
     "text": [
      "+--------------------+--------------+--------------------+--------+------------+------------+-----------------+---------------+----------------------+\n",
      "|           CAND_NAME|CAND_OFFICE_ST|CAND_PTY_AFFILIATION|CAND_ICI|TTL_RECEIPTS|CAND_CONTRIB|TTL_INDIV_CONTRIB|POL_PTY_CONTRIB|OTHER_POL_CMTE_CONTRIB|\n",
      "+--------------------+--------------+--------------------+--------+------------+------------+-----------------+---------------+----------------------+\n",
      "|     YOUNG, DONALD E|            AK|                 REP|       I|  1362383.63|         0.0|        637025.31|            0.0|             584444.63|\n",
      "|       GALVIN, ALYSE|            AK|                 IND|       C|  2266364.63|     3394.63|        2116292.8|            0.0|              109350.0|\n",
      "|     AVERHART, JAMES|            AL|                 DEM|       O|    50126.74|         0.0|         23281.74|            0.0|                   0.0|\n",
      "|    GARDNER, KIANI A|            AL|                 DEM|       O|   118661.85|      764.97|         92896.88|            0.0|               19000.0|\n",
      "|COLLINS, FREDERIC...|            AL|                 DEM|       O|    62935.42|     56500.0|          5917.12|            0.0|                   0.0|\n",
      "+--------------------+--------------+--------------------+--------+------------+------------+-----------------+---------------+----------------------+\n",
      "only showing top 5 rows\n",
      "\n"
     ]
    }
   ],
   "source": [
    "df.select('CAND_NAME', \n",
    "          'CAND_OFFICE_ST',\n",
    "          'CAND_PTY_AFFILIATION', \n",
    "          'CAND_ICI', \n",
    "          'TTL_RECEIPTS',\n",
    "          'CAND_CONTRIB',    \n",
    "          'TTL_INDIV_CONTRIB',\n",
    "          'POL_PTY_CONTRIB',\n",
    "          'OTHER_POL_CMTE_CONTRIB').show(5)"
   ]
  },
  {
   "cell_type": "code",
   "execution_count": 67,
   "metadata": {},
   "outputs": [
    {
     "name": "stdout",
     "output_type": "stream",
     "text": [
      "[NbConvertApp] Converting notebook Exploratory_Work-Group5.ipynb to pdf\n",
      "[NbConvertApp] Writing 43970 bytes to ./notebook.tex\n",
      "[NbConvertApp] Building PDF\n",
      "[NbConvertApp] Running xelatex 3 times: ['xelatex', './notebook.tex', '-quiet']\n",
      "[NbConvertApp] Running bibtex 1 time: ['bibtex', './notebook']\n",
      "[NbConvertApp] WARNING | bibtex had problems, most likely because there were no citations\n",
      "[NbConvertApp] PDF successfully created\n",
      "[NbConvertApp] Writing 51768 bytes to Exploratory_Work-Group5.pdf\n"
     ]
    }
   ],
   "source": [
    "!jupyter nbconvert --to pdf Exploratory_Work-Group5.ipynb"
   ]
  }
 ],
 "metadata": {
  "kernelspec": {
   "display_name": "DS 5559",
   "language": "python",
   "name": "ds5559"
  },
  "language_info": {
   "codemirror_mode": {
    "name": "ipython",
    "version": 3
   },
   "file_extension": ".py",
   "mimetype": "text/x-python",
   "name": "python",
   "nbconvert_exporter": "python",
   "pygments_lexer": "ipython3",
   "version": "3.7.6"
  }
 },
 "nbformat": 4,
 "nbformat_minor": 4
}
