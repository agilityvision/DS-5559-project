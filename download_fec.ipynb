{
 "cells": [
  {
   "source": [
    "# Download raw data from FEC website"
   ],
   "cell_type": "markdown",
   "metadata": {}
  },
  {
   "source": [
    "- we wanted a reproducible way to download the data\n",
    "- because the data was too large to add to the git repo\n",
    "- and it makes for a cleaner implementation"
   ],
   "cell_type": "markdown",
   "metadata": {}
  },
  {
   "cell_type": "code",
   "execution_count": 25,
   "metadata": {},
   "outputs": [],
   "source": [
    "import re\n",
    "import os\n",
    "import requests"
   ]
  },
  {
   "cell_type": "markdown",
   "metadata": {},
   "source": [
    "Set our storage destination:"
   ]
  },
  {
   "cell_type": "code",
   "execution_count": 26,
   "metadata": {},
   "outputs": [],
   "source": [
    "FEC_PATH = 'fec_data/'"
   ]
  },
  {
   "cell_type": "code",
   "execution_count": 27,
   "metadata": {},
   "outputs": [],
   "source": [
    "base_url = \"https://www.fec.gov/files/bulk-downloads/{year}/{table}{short_year}.zip\".format"
   ]
  },
  {
   "source": [
    "## A dictionary defining all the different tables to fetch from FEC"
   ],
   "cell_type": "markdown",
   "metadata": {}
  },
  {
   "cell_type": "code",
   "execution_count": 28,
   "metadata": {},
   "outputs": [],
   "source": [
    "tables = {\n",
    "    'ALL_CANDIDATES': {\n",
    "        'abbr': 'weball',\n",
    "        'description': 'https://www.fec.gov/campaign-finance-data/all-candidates-file-description'\n",
    "    },\n",
    "    'CANDIDATE_MASTER': {\n",
    "        'abbr': 'cn',\n",
    "        'description': 'https://www.fec.gov/campaign-finance-data/candidate-master-file-description/'\n",
    "    },\n",
    "    'CANDIDATE_COMMITTEE_LINKAGES': {\n",
    "        'abbr': 'ccl',\n",
    "        'description': 'https://www.fec.gov/campaign-finance-data/contributions-individuals-file-description/'\n",
    "    },\n",
    "    'HOUSE_SENATE_CAMPAIGNS': {\n",
    "        'abbr': 'webl',\n",
    "        'description': 'https://www.fec.gov/campaign-finance-data/current-campaigns-house-and-senate-file-description/'\n",
    "    },\n",
    "    'COMMITTEE_MASTER': {\n",
    "        'abbr': 'cm',\n",
    "        'description': 'https://www.fec.gov/campaign-finance-data/committee-master-file-description/'\n",
    "    },\n",
    "    'PAC_SUMMARY': {\n",
    "        'abbr': 'webk',\n",
    "        'description': 'https://www.fec.gov/campaign-finance-data/pac-and-party-summary-file-description/'\n",
    "    },\n",
    "    'INDIVIDUAL_CONTRIBUTIONS': {\n",
    "        'abbr': 'indiv',\n",
    "        'description': 'https://www.fec.gov/campaign-finance-data/contributions-individuals-file-description/'\n",
    "    },\n",
    "    'COMMITTEE_TO_CANDIDATE_AND_IE': {\n",
    "        'abbr': 'pas2',\n",
    "        'description': 'https://www.fec.gov/campaign-finance-data/contributions-committees-candidates-file-description/'\n",
    "    },\n",
    "    'COMMITTEE_TO_COMMITTEE':{\n",
    "        'abbr': 'oth',\n",
    "        'description': 'https://www.fec.gov/campaign-finance-data/any-transaction-one-committee-another-file-description/'\n",
    "    },\n",
    "    'OPERATING_EXPENSES': {\n",
    "        'abbr': 'oppexp',\n",
    "        'description': 'https://www.fec.gov/campaign-finance-data/operating-expenditures-file-description/'\n",
    "    }\n",
    "}"
   ]
  },
  {
   "source": [
    "## For loop that goes through and fetches all the data\n",
    "- sit back with a cup of coffee while you do the heaving lifting for you"
   ],
   "cell_type": "markdown",
   "metadata": {}
  },
  {
   "cell_type": "code",
   "execution_count": 29,
   "metadata": {
    "tags": []
   },
   "outputs": [
    {
     "output_type": "stream",
     "name": "stdout",
     "text": "ALL_CANDIDATES...\nCANDIDATE_MASTER...\nCANDIDATE_COMMITTEE_LINKAGES...\nHOUSE_SENATE_CAMPAIGNS...\nCOMMITTEE_MASTER...\nPAC_SUMMARY...\nINDIVIDUAL_CONTRIBUTIONS...\nCOMMITTEE_TO_CANDIDATE_AND_IE...\nCOMMITTEE_TO_COMMITTEE...\nOPERATING_EXPENSES...\n"
    }
   ],
   "source": [
    "\n",
    "for name, info in tables.items():\n",
    "    print(f\"{name}...\")\n",
    "    table_abbr = info['abbr']\n",
    "    description_url = info['description']\n",
    "    destination_folder = f\"{FEC_PATH}/{table_abbr}\"\n",
    "    if not os.path.exists(destination_folder):\n",
    "        os.makedirs(destination_folder)\n",
    "\n",
    "    # Download Header File:\n",
    "    try:\n",
    "        url = f'https://www.fec.gov/files/bulk-downloads/data_dictionaries/{table_abbr}_header_file.csv'\n",
    "        filename = re.split('/', url)[-1]\n",
    "        r = requests.get(url)\n",
    "        with open(f'{destination_folder}/{filename}', 'wb') as f:\n",
    "            f.write(r.content)\n",
    "    except Exception as e:\n",
    "        print(f\"Failed to load headers for {name}: {str(e)} {url}\")\n",
    "        \n",
    "    # Download Description:\n",
    "    try:\n",
    "        filename=re.split(\"/\", description_url)[-2] + '.html'\n",
    "        r = requests.get(description_url)\n",
    "        with open(f'{destination_folder}/{filename}', 'wb') as f:\n",
    "            f.write(r.content)\n",
    "    except Exception as e:\n",
    "        print(f\"Failed to load description for {name}: {str(e)} {description_url}\")\n",
    "        \n",
    "    # Download data:\n",
    "    for year in range(2016, 2022, 2):\n",
    "        try:\n",
    "            url = base_url(year=year, table=table_abbr, short_year=str(year)[2:])\n",
    "            filename = re.split('/', url)[-1]\n",
    "            r = requests.get(url)\n",
    "            with open(f'{destination_folder}/{filename}', 'wb') as f:\n",
    "                f.write(r.content)\n",
    "        except Exception as e:\n",
    "            print(f\"Failed to load {name} data for {year}: {str(e)} {url}\")\n",
    "                "
   ]
  },
  {
   "cell_type": "code",
   "execution_count": null,
   "metadata": {},
   "outputs": [],
   "source": []
  },
  {
   "cell_type": "code",
   "execution_count": null,
   "metadata": {},
   "outputs": [],
   "source": []
  },
  {
   "cell_type": "code",
   "execution_count": null,
   "metadata": {},
   "outputs": [],
   "source": []
  }
 ],
 "metadata": {
  "language_info": {
   "codemirror_mode": {
    "name": "ipython",
    "version": 3
   },
   "file_extension": ".py",
   "mimetype": "text/x-python",
   "name": "python",
   "nbconvert_exporter": "python",
   "pygments_lexer": "ipython3",
   "version": "3.7.9-final"
  },
  "kernelspec": {
   "name": "Python 3.7.9 64-bit ('env37')",
   "display_name": "Python 3.7.9 64-bit ('env37')",
   "metadata": {
    "interpreter": {
     "hash": "edbcfefdd728a8139751331458b728c9331834c3a08853653e8631b313def065"
    }
   }
  }
 },
 "nbformat": 4,
 "nbformat_minor": 4
}