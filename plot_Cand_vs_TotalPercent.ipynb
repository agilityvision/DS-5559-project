{
 "cells": [
  {
   "cell_type": "markdown",
   "metadata": {},
   "source": [
    "# Identifying '16 and '18 House of Representative Candidates"
   ]
  },
  {
   "cell_type": "markdown",
   "metadata": {},
   "source": [
    "### PreReqs\n",
    "\n",
    "- *1976-2018-house.xlsx* files from https://electionlab.mit.edu/data, which has information on all House district races with votes per candidate/totals per district\n",
    "- Downloaded the fec_data files from the *download_fec* jupyter notebook"
   ]
  },
  {
   "cell_type": "markdown",
   "metadata": {},
   "source": [
    "### Imports"
   ]
  },
  {
   "cell_type": "code",
   "execution_count": 5,
   "metadata": {},
   "outputs": [
    {
     "name": "stderr",
     "output_type": "stream",
     "text": [
      "/home/hs4cf/.local/lib/python3.7/site-packages/fuzzywuzzy/fuzz.py:11: UserWarning: Using slow pure-python SequenceMatcher. Install python-Levenshtein to remove this warning\n",
      "  warnings.warn('Using slow pure-python SequenceMatcher. Install python-Levenshtein to remove this warning')\n"
     ]
    }
   ],
   "source": [
    "import os\n",
    "from pyspark.sql import SparkSession\n",
    "import pyspark.sql.types as typ\n",
    "import pyspark.sql.functions as F\n",
    "from pyspark.sql import DataFrame\n",
    "from functools import reduce\n",
    "from pyspark.sql.functions import col, asc\n",
    "from pyspark.sql import SQLContext\n",
    "from pyspark.sql.types import StructType\n",
    "from pyspark.sql.types import StructField\n",
    "from pyspark.sql.types import StringType, DoubleType, DateType\n",
    "from pyspark.sql import SparkSession\n",
    "import pandas as pd\n",
    "import numpy as np\n",
    "from fuzzywuzzy import fuzz\n",
    "from fuzzywuzzy import process"
   ]
  },
  {
   "cell_type": "code",
   "execution_count": 6,
   "metadata": {},
   "outputs": [],
   "source": [
    "spark = SparkSession \\\n",
    "    .builder \\\n",
    "    .getOrCreate()\n",
    "\n",
    "sc = spark.sparkContext"
   ]
  },
  {
   "cell_type": "markdown",
   "metadata": {},
   "source": [
    "### Functions:"
   ]
  },
  {
   "cell_type": "code",
   "execution_count": 7,
   "metadata": {},
   "outputs": [],
   "source": [
    "def parse_file(file_name, file_header):\n",
    "    '''Tool to load in an FEC file with associated header and produce a Spark Dataframe'''   \n",
    "\n",
    "    #load data frame and split by delimiter  \n",
    "    df_temp = sc.textFile(file_name).map(lambda row: [elem for elem in row.split('|')])\n",
    "    \n",
    "    #load separate header csv file and prepare schema \n",
    "    #assumes all values are STRING TYPE for simplicity\n",
    "    head_temp = pd.read_csv(file_header)\n",
    "    fields = [*[typ.StructField(h[:], typ.StringType(), True) for h in head_temp.columns]]\n",
    "    schema = typ.StructType(fields)\n",
    "    \n",
    "    #finalize spark dataframe\n",
    "    df = spark.createDataFrame(df_temp, schema)\n",
    "    \n",
    "    return df"
   ]
  },
  {
   "cell_type": "markdown",
   "metadata": {},
   "source": [
    "### Read-in Population of Candidates from FEC Data:"
   ]
  },
  {
   "cell_type": "code",
   "execution_count": 8,
   "metadata": {},
   "outputs": [],
   "source": [
    "df_candidate_20 = parse_file('./fec_data/cn/cn20.txt', './fec_data/cn/cn_header_file.csv')\n",
    "df_candidate_18 = parse_file('./fec_data/cn/cn18.txt', './fec_data/cn/cn_header_file.csv')\n",
    "df_candidate_16 = parse_file('./fec_data/cn/cn16.txt', './fec_data/cn/cn_header_file.csv')\n",
    "\n",
    "dfs = [df_candidate_20, df_candidate_18, df_candidate_16]\n",
    "\n",
    "#join all three data frames\n",
    "df_candidate = reduce(DataFrame.unionAll, dfs)\n",
    "\n",
    "###########################################\n",
    "####### NEED TO Make PYSPARK ##############\n",
    "###########################################\n",
    "\n",
    "#converting to a pandas DF for ease of working with\n",
    "df_candidate = df_candidate.select('*').toPandas() "
   ]
  },
  {
   "cell_type": "markdown",
   "metadata": {},
   "source": [
    "### Read-in Candidate election results from MIT Election Center Data:"
   ]
  },
  {
   "cell_type": "code",
   "execution_count": 10,
   "metadata": {},
   "outputs": [],
   "source": [
    "#data from https://electionlab.mit.edu/data\n",
    "df_MIT = pd.read_excel('1976-2018-house.xlsx')\n",
    "df_filter18 = df_MIT[(df_MIT.year == 2018) & (df_MIT.writein == False)]\n",
    "df_filter16 = df_MIT[(df_MIT.year == 2016) & (df_MIT.writein == False)]"
   ]
  },
  {
   "cell_type": "markdown",
   "metadata": {},
   "source": [
    "---\n",
    "### *One-Time Process [Do Not Repeat]:*"
   ]
  },
  {
   "cell_type": "markdown",
   "metadata": {},
   "source": [
    "Identify 2016 and 2018 House of Representative Candidates from the above file.  \n",
    "- Fuzzywuzzy was used to string match Candidate names from FEC and MIT Election center data\n",
    "- Provides score 0-100 for string match, returned most likely name\n",
    "- String match was good for the majority, but these files were downloaded and visually scanned for accuracy"
   ]
  },
  {
   "cell_type": "markdown",
   "metadata": {},
   "source": [
    "**2016:**"
   ]
  },
  {
   "cell_type": "code",
   "execution_count": null,
   "metadata": {},
   "outputs": [],
   "source": [
    "# df_house16 = df_candidate[(df_candidate.CAND_ELECTION_YR == '2016')&(df_candidate.CAND_OFFICE == 'H')]\n",
    "# df_house16 = df_house16.drop_duplicates(subset = ['CAND_ID']).reset_index(drop=True)\n",
    "\n",
    "# #fuzzywuzzy match attempt between names in FEC/MIT data sets\n",
    "# df_house16['name_match'] = 0\n",
    "# df_house16['score_match'] = 0\n",
    "\n",
    "# name_match = []\n",
    "# score_match = []\n",
    "\n",
    "# for name in df_house16.CAND_NAME:\n",
    "#     ratio = process.extract(name, df_filter16.candidate, limit = 1, scorer=fuzz.token_set_ratio)\n",
    "#     name_match.append(ratio[0][0])\n",
    "#     score_match.append(ratio[0][1])   \n",
    "\n",
    "# df_house16['name_match'] = name_match\n",
    "# df_house16['score_match'] = score_match\n",
    "\n",
    "# df_house16.to_csv('16tempfile.csv')"
   ]
  },
  {
   "cell_type": "markdown",
   "metadata": {},
   "source": [
    "**2018:**"
   ]
  },
  {
   "cell_type": "code",
   "execution_count": null,
   "metadata": {},
   "outputs": [],
   "source": [
    "# df_house18 = df_candidate[(df_candidate.CAND_ELECTION_YR == '2018')&(df_candidate.CAND_OFFICE == 'H')]\n",
    "# df_house18 = df_house18.drop_duplicates(subset = ['CAND_ID']).reset_index(drop=True)\n",
    "\n",
    "# df_house18['name_match'] = 0\n",
    "# df_house18['score_match'] = 0\n",
    "\n",
    "# #fuzzywuzzy match attempt between names in FEC/MIT data sets\n",
    "# name_match = []\n",
    "# score_match = []\n",
    "\n",
    "# for name in df_house18.CAND_NAME:\n",
    "#     ratio = process.extract(name, df_filter18.candidate, limit = 1, scorer=fuzz.token_set_ratio)\n",
    "#     name_match.append(ratio[0][0])\n",
    "#     score_match.append(ratio[0][1])   \n",
    "\n",
    "# df_house18['name_match'] = name_match\n",
    "# df_house18['score_match'] = score_match\n",
    "\n",
    "# df_house18.to_csv('18tempfile.csv')"
   ]
  },
  {
   "cell_type": "markdown",
   "metadata": {},
   "source": [
    "---\n",
    "### Join FEC and MIT Data based on one-time work above"
   ]
  },
  {
   "cell_type": "markdown",
   "metadata": {},
   "source": [
    "**2016:**"
   ]
  },
  {
   "cell_type": "code",
   "execution_count": 12,
   "metadata": {},
   "outputs": [],
   "source": [
    "#This is a version of the FEC data with columns added to join to the MIT Election Center Data\n",
    "df_h16 = pd.read_excel('16tempfile.xlsx')\n",
    "\n",
    "#filter for matches + need to remove any candidates without a CAND_PCC value. Candidates without this value do not have financial information available\n",
    "df_h16 = df_h16[(df_h16.match == 1) & (df_h16.CAND_PCC.notna() == True)]\n",
    "df_h16_final = df_h16.merge(df_filter16, left_on='match_id', right_index=True)"
   ]
  },
  {
   "cell_type": "markdown",
   "metadata": {},
   "source": [
    "**2018:**"
   ]
  },
  {
   "cell_type": "code",
   "execution_count": 13,
   "metadata": {},
   "outputs": [],
   "source": [
    "#This is a version of the FEC data with columns added to join to the MIT Election Center Data\n",
    "df_h18 = pd.read_excel('18tempfile.xlsx')\n",
    "\n",
    "#filter for matches + need to remove any candidates without a CAND_PCC value. candidates without this value do not have financial information available\n",
    "df_h18 = df_h18[(df_h18.match == 1)&(df_h18.CAND_PCC.notna() == True)]\n",
    "df_h18_final = df_h18.merge(df_filter18, left_on='match_id', right_index=True)"
   ]
  },
  {
   "cell_type": "markdown",
   "metadata": {},
   "source": [
    "**Join 2016 and 2018:**"
   ]
  },
  {
   "cell_type": "code",
   "execution_count": 14,
   "metadata": {},
   "outputs": [],
   "source": [
    "df_house = pd.concat([df_h16_final,df_h18_final])\n",
    "df_house['VOTE_percent'] = df_house['candidatevotes']/df_house['totalvotes']\n",
    "\n",
    "cols = ['CAND_ID',\n",
    "        'CAND_NAME',\n",
    "        'CAND_PTY_AFFILIATION',\n",
    "        'CAND_ELECTION_YR',\n",
    "        'CAND_OFFICE_ST',\n",
    "        'CAND_OFFICE',\n",
    "        'CAND_OFFICE_DISTRICT',\n",
    "        'CAND_ICI',\n",
    "        'CAND_STATUS',\n",
    "        'CAND_PCC',\n",
    "        'CAND_CITY',\n",
    "        'CAND_ST',\n",
    "        'CAND_ZIP',\n",
    "        'candidatevotes',\n",
    "        'totalvotes',\n",
    "        'VOTE_percent']\n",
    "\n",
    "df_house = df_house[cols]\n",
    "\n",
    "#identify winners based on greater than 50% of votes\n",
    "df_house['WINNER'] = np.where(df_house['VOTE_percent'] >= 0.5, 1, 0)"
   ]
  },
  {
   "cell_type": "markdown",
   "metadata": {},
   "source": [
    "**Clean Joined Data Based on races with a Winner and races with sum vote totals <= 100%**"
   ]
  },
  {
   "cell_type": "code",
   "execution_count": 15,
   "metadata": {},
   "outputs": [],
   "source": [
    "#identify elections we don't have a winner designated\n",
    "#data is unfortunately not clean from source, some includes primary votes instead of final election results... \n",
    "#cleaning races without a winner based on given criteria and where vote % is >100% (some are over due to duplication or error?)\n",
    "\n",
    "a_temp = df_house.groupby(['CAND_ELECTION_YR','CAND_OFFICE_ST','CAND_OFFICE_DISTRICT']).sum()\n",
    "b_temp = a_temp[(a_temp.VOTE_percent > 1) | (a_temp.WINNER != 1)].reset_index()\n",
    "c_temp = b_temp[['CAND_ELECTION_YR','CAND_OFFICE_ST','CAND_OFFICE_DISTRICT']]\n",
    "\n",
    "#filter out races we don't have clean data \n",
    "keys = list(c_temp.columns.values)\n",
    "i1 = df_house.set_index(keys).index\n",
    "i2 = c_temp.set_index(keys).index\n",
    "df_house = df_house[~i1.isin(i2)]"
   ]
  },
  {
   "cell_type": "markdown",
   "metadata": {},
   "source": [
    "### Final '16 and '18 List of House of Representative Information"
   ]
  },
  {
   "cell_type": "code",
   "execution_count": 30,
   "metadata": {},
   "outputs": [
    {
     "data": {
      "text/html": [
       "<div>\n",
       "<style scoped>\n",
       "    .dataframe tbody tr th:only-of-type {\n",
       "        vertical-align: middle;\n",
       "    }\n",
       "\n",
       "    .dataframe tbody tr th {\n",
       "        vertical-align: top;\n",
       "    }\n",
       "\n",
       "    .dataframe thead th {\n",
       "        text-align: right;\n",
       "    }\n",
       "</style>\n",
       "<table border=\"1\" class=\"dataframe\">\n",
       "  <thead>\n",
       "    <tr style=\"text-align: right;\">\n",
       "      <th></th>\n",
       "      <th>CAND_ID</th>\n",
       "      <th>CAND_NAME</th>\n",
       "      <th>CAND_PTY_AFFILIATION</th>\n",
       "      <th>CAND_ELECTION_YR</th>\n",
       "      <th>CAND_OFFICE_ST</th>\n",
       "      <th>CAND_OFFICE</th>\n",
       "      <th>CAND_OFFICE_DISTRICT</th>\n",
       "      <th>CAND_ICI</th>\n",
       "      <th>CAND_STATUS</th>\n",
       "      <th>CAND_PCC</th>\n",
       "      <th>CAND_CITY</th>\n",
       "      <th>CAND_ST</th>\n",
       "      <th>CAND_ZIP</th>\n",
       "      <th>candidatevotes</th>\n",
       "      <th>totalvotes</th>\n",
       "      <th>VOTE_percent</th>\n",
       "      <th>WINNER</th>\n",
       "    </tr>\n",
       "  </thead>\n",
       "  <tbody>\n",
       "    <tr>\n",
       "      <th>1</th>\n",
       "      <td>H6VA04061</td>\n",
       "      <td>MCEACHIN, ASTON DONALD MR.</td>\n",
       "      <td>DEM</td>\n",
       "      <td>2016</td>\n",
       "      <td>VA</td>\n",
       "      <td>H</td>\n",
       "      <td>4.0</td>\n",
       "      <td>C</td>\n",
       "      <td>C</td>\n",
       "      <td>C00610964</td>\n",
       "      <td>HENRICO</td>\n",
       "      <td>VA</td>\n",
       "      <td>23227.0</td>\n",
       "      <td>200136</td>\n",
       "      <td>346656</td>\n",
       "      <td>0.577333</td>\n",
       "      <td>1</td>\n",
       "    </tr>\n",
       "    <tr>\n",
       "      <th>2</th>\n",
       "      <td>H4NJ10085</td>\n",
       "      <td>FRASER, AARON WALTER</td>\n",
       "      <td>DEM</td>\n",
       "      <td>2016</td>\n",
       "      <td>NJ</td>\n",
       "      <td>H</td>\n",
       "      <td>10.0</td>\n",
       "      <td>C</td>\n",
       "      <td>N</td>\n",
       "      <td>C00668566</td>\n",
       "      <td>JERSEY CITY</td>\n",
       "      <td>NJ</td>\n",
       "      <td>7305.0</td>\n",
       "      <td>1746</td>\n",
       "      <td>222771</td>\n",
       "      <td>0.007838</td>\n",
       "      <td>0</td>\n",
       "    </tr>\n",
       "    <tr>\n",
       "      <th>3</th>\n",
       "      <td>H0CA27085</td>\n",
       "      <td>SCHIFF, ADAM</td>\n",
       "      <td>DEM</td>\n",
       "      <td>2016</td>\n",
       "      <td>CA</td>\n",
       "      <td>H</td>\n",
       "      <td>28.0</td>\n",
       "      <td>I</td>\n",
       "      <td>C</td>\n",
       "      <td>C00343871</td>\n",
       "      <td>LOS ANGELES</td>\n",
       "      <td>CA</td>\n",
       "      <td>90017.0</td>\n",
       "      <td>210883</td>\n",
       "      <td>270409</td>\n",
       "      <td>0.779867</td>\n",
       "      <td>1</td>\n",
       "    </tr>\n",
       "    <tr>\n",
       "      <th>4</th>\n",
       "      <td>H0IL11052</td>\n",
       "      <td>KINZINGER, ADAM</td>\n",
       "      <td>REP</td>\n",
       "      <td>2016</td>\n",
       "      <td>IL</td>\n",
       "      <td>H</td>\n",
       "      <td>16.0</td>\n",
       "      <td>I</td>\n",
       "      <td>C</td>\n",
       "      <td>C00458877</td>\n",
       "      <td>CHANNAHON</td>\n",
       "      <td>IL</td>\n",
       "      <td>604105623.0</td>\n",
       "      <td>259722</td>\n",
       "      <td>259853</td>\n",
       "      <td>0.999496</td>\n",
       "      <td>1</td>\n",
       "    </tr>\n",
       "    <tr>\n",
       "      <th>6</th>\n",
       "      <td>H6WA09025</td>\n",
       "      <td>SMITH, D ADAM</td>\n",
       "      <td>DEM</td>\n",
       "      <td>2016</td>\n",
       "      <td>WA</td>\n",
       "      <td>H</td>\n",
       "      <td>9.0</td>\n",
       "      <td>I</td>\n",
       "      <td>C</td>\n",
       "      <td>C00304709</td>\n",
       "      <td>RENTON</td>\n",
       "      <td>WA</td>\n",
       "      <td>98057.0</td>\n",
       "      <td>205165</td>\n",
       "      <td>281482</td>\n",
       "      <td>0.728874</td>\n",
       "      <td>1</td>\n",
       "    </tr>\n",
       "    <tr>\n",
       "      <th>...</th>\n",
       "      <td>...</td>\n",
       "      <td>...</td>\n",
       "      <td>...</td>\n",
       "      <td>...</td>\n",
       "      <td>...</td>\n",
       "      <td>...</td>\n",
       "      <td>...</td>\n",
       "      <td>...</td>\n",
       "      <td>...</td>\n",
       "      <td>...</td>\n",
       "      <td>...</td>\n",
       "      <td>...</td>\n",
       "      <td>...</td>\n",
       "      <td>...</td>\n",
       "      <td>...</td>\n",
       "      <td>...</td>\n",
       "      <td>...</td>\n",
       "    </tr>\n",
       "    <tr>\n",
       "      <th>1062</th>\n",
       "      <td>H6AL04098</td>\n",
       "      <td>ADERHOLT, ROBERT B. REP.</td>\n",
       "      <td>REP</td>\n",
       "      <td>2018</td>\n",
       "      <td>AL</td>\n",
       "      <td>H</td>\n",
       "      <td>4.0</td>\n",
       "      <td>I</td>\n",
       "      <td>C</td>\n",
       "      <td>C00313247</td>\n",
       "      <td>HALEYVILLE</td>\n",
       "      <td>AL</td>\n",
       "      <td>355651158.0</td>\n",
       "      <td>184255</td>\n",
       "      <td>230969</td>\n",
       "      <td>0.797748</td>\n",
       "      <td>1</td>\n",
       "    </tr>\n",
       "    <tr>\n",
       "      <th>1064</th>\n",
       "      <td>H8AL02197</td>\n",
       "      <td>ISNER, TABITHA KAY</td>\n",
       "      <td>DEM</td>\n",
       "      <td>2018</td>\n",
       "      <td>AL</td>\n",
       "      <td>H</td>\n",
       "      <td>2.0</td>\n",
       "      <td>C</td>\n",
       "      <td>P</td>\n",
       "      <td>C00657437</td>\n",
       "      <td>MONTGOMERY</td>\n",
       "      <td>AL</td>\n",
       "      <td>36106.0</td>\n",
       "      <td>86931</td>\n",
       "      <td>226230</td>\n",
       "      <td>0.384259</td>\n",
       "      <td>0</td>\n",
       "    </tr>\n",
       "    <tr>\n",
       "      <th>1065</th>\n",
       "      <td>H0AL02087</td>\n",
       "      <td>ROBY, MARTHA</td>\n",
       "      <td>REP</td>\n",
       "      <td>2018</td>\n",
       "      <td>AL</td>\n",
       "      <td>H</td>\n",
       "      <td>2.0</td>\n",
       "      <td>I</td>\n",
       "      <td>C</td>\n",
       "      <td>C00462143</td>\n",
       "      <td>MONTGOMERY</td>\n",
       "      <td>AL</td>\n",
       "      <td>361062448.0</td>\n",
       "      <td>138879</td>\n",
       "      <td>226230</td>\n",
       "      <td>0.613884</td>\n",
       "      <td>1</td>\n",
       "    </tr>\n",
       "    <tr>\n",
       "      <th>1066</th>\n",
       "      <td>H4AL01123</td>\n",
       "      <td>BYRNE, BRADLEY ROBERTS</td>\n",
       "      <td>REP</td>\n",
       "      <td>2018</td>\n",
       "      <td>AL</td>\n",
       "      <td>H</td>\n",
       "      <td>1.0</td>\n",
       "      <td>I</td>\n",
       "      <td>C</td>\n",
       "      <td>C00545673</td>\n",
       "      <td>FAIRHOPE</td>\n",
       "      <td>AL</td>\n",
       "      <td>36532.0</td>\n",
       "      <td>153228</td>\n",
       "      <td>242617</td>\n",
       "      <td>0.631563</td>\n",
       "      <td>1</td>\n",
       "    </tr>\n",
       "    <tr>\n",
       "      <th>1067</th>\n",
       "      <td>H8AL01066</td>\n",
       "      <td>KENNEDY, ROBERT JR.</td>\n",
       "      <td>DEM</td>\n",
       "      <td>2018</td>\n",
       "      <td>AL</td>\n",
       "      <td>H</td>\n",
       "      <td>1.0</td>\n",
       "      <td>C</td>\n",
       "      <td>P</td>\n",
       "      <td>C00667949</td>\n",
       "      <td>MOBILE</td>\n",
       "      <td>AL</td>\n",
       "      <td>36608.0</td>\n",
       "      <td>89226</td>\n",
       "      <td>242617</td>\n",
       "      <td>0.367765</td>\n",
       "      <td>0</td>\n",
       "    </tr>\n",
       "  </tbody>\n",
       "</table>\n",
       "<p>1550 rows × 17 columns</p>\n",
       "</div>"
      ],
      "text/plain": [
       "        CAND_ID                   CAND_NAME CAND_PTY_AFFILIATION  \\\n",
       "1     H6VA04061  MCEACHIN, ASTON DONALD MR.                  DEM   \n",
       "2     H4NJ10085        FRASER, AARON WALTER                  DEM   \n",
       "3     H0CA27085                SCHIFF, ADAM                  DEM   \n",
       "4     H0IL11052             KINZINGER, ADAM                  REP   \n",
       "6     H6WA09025               SMITH, D ADAM                  DEM   \n",
       "...         ...                         ...                  ...   \n",
       "1062  H6AL04098    ADERHOLT, ROBERT B. REP.                  REP   \n",
       "1064  H8AL02197          ISNER, TABITHA KAY                  DEM   \n",
       "1065  H0AL02087                ROBY, MARTHA                  REP   \n",
       "1066  H4AL01123      BYRNE, BRADLEY ROBERTS                  REP   \n",
       "1067  H8AL01066         KENNEDY, ROBERT JR.                  DEM   \n",
       "\n",
       "      CAND_ELECTION_YR CAND_OFFICE_ST CAND_OFFICE  CAND_OFFICE_DISTRICT  \\\n",
       "1                 2016             VA           H                   4.0   \n",
       "2                 2016             NJ           H                  10.0   \n",
       "3                 2016             CA           H                  28.0   \n",
       "4                 2016             IL           H                  16.0   \n",
       "6                 2016             WA           H                   9.0   \n",
       "...                ...            ...         ...                   ...   \n",
       "1062              2018             AL           H                   4.0   \n",
       "1064              2018             AL           H                   2.0   \n",
       "1065              2018             AL           H                   2.0   \n",
       "1066              2018             AL           H                   1.0   \n",
       "1067              2018             AL           H                   1.0   \n",
       "\n",
       "     CAND_ICI CAND_STATUS   CAND_PCC    CAND_CITY CAND_ST     CAND_ZIP  \\\n",
       "1           C           C  C00610964      HENRICO      VA      23227.0   \n",
       "2           C           N  C00668566  JERSEY CITY      NJ       7305.0   \n",
       "3           I           C  C00343871  LOS ANGELES      CA      90017.0   \n",
       "4           I           C  C00458877    CHANNAHON      IL  604105623.0   \n",
       "6           I           C  C00304709       RENTON      WA      98057.0   \n",
       "...       ...         ...        ...          ...     ...          ...   \n",
       "1062        I           C  C00313247   HALEYVILLE      AL  355651158.0   \n",
       "1064        C           P  C00657437   MONTGOMERY      AL      36106.0   \n",
       "1065        I           C  C00462143   MONTGOMERY      AL  361062448.0   \n",
       "1066        I           C  C00545673     FAIRHOPE      AL      36532.0   \n",
       "1067        C           P  C00667949       MOBILE      AL      36608.0   \n",
       "\n",
       "      candidatevotes  totalvotes  VOTE_percent  WINNER  \n",
       "1             200136      346656      0.577333       1  \n",
       "2               1746      222771      0.007838       0  \n",
       "3             210883      270409      0.779867       1  \n",
       "4             259722      259853      0.999496       1  \n",
       "6             205165      281482      0.728874       1  \n",
       "...              ...         ...           ...     ...  \n",
       "1062          184255      230969      0.797748       1  \n",
       "1064           86931      226230      0.384259       0  \n",
       "1065          138879      226230      0.613884       1  \n",
       "1066          153228      242617      0.631563       1  \n",
       "1067           89226      242617      0.367765       0  \n",
       "\n",
       "[1550 rows x 17 columns]"
      ]
     },
     "execution_count": 30,
     "metadata": {},
     "output_type": "execute_result"
    }
   ],
   "source": [
    "df_house"
   ]
  },
  {
   "cell_type": "markdown",
   "metadata": {},
   "source": [
    "Export for further integration into project"
   ]
  },
  {
   "cell_type": "code",
   "execution_count": 17,
   "metadata": {},
   "outputs": [],
   "source": [
    "df_house.to_csv('df_house.csv')"
   ]
  },
  {
   "cell_type": "code",
   "execution_count": 40,
   "metadata": {},
   "outputs": [
    {
     "data": {
      "text/plain": [
       "Text(0.5, 1, 'Candiate Party vs Vote Percent')"
      ]
     },
     "execution_count": 40,
     "metadata": {},
     "output_type": "execute_result"
    },
    {
     "data": {
      "text/plain": [
       "<Figure size 1080x720 with 0 Axes>"
      ]
     },
     "metadata": {},
     "output_type": "display_data"
    },
    {
     "data": {
      "image/png": "[encoded data removed]",
      "text/plain": [
       "<Figure size 1152x576 with 1 Axes>"
      ]
     },
     "metadata": {
      "needs_background": "light"
     },
     "output_type": "display_data"
    }
   ],
   "source": [
    "import matplotlib.pyplot as plt\n",
    "import seaborn as sns \n",
    "\n",
    "plt.figure(figsize=(15,10))\n",
    "plt.tight_layout()\n",
    "\n",
    "#df_house_sort= df_house.sort_values('VOTE_percent')\n",
    "votepercent = sns.catplot(\"CAND_PTY_AFFILIATION\", \"VOTE_percent\", data=df_house, kind=\"bar\", size=8, aspect=2, legend=False, palette=\"Blues_d\")\n",
    "\n",
    "votepercent.set_xticklabels(rotation=90)\n",
    "\n",
    "plt.title('Candiate Party vs Vote Percent', size= \"20\")"
   ]
  },
  {
   "cell_type": "markdown",
   "metadata": {},
   "source": [
    "### According to the bar graph summary above, the top 5 Candidate party affilations are Democratic, Republican, Democratic-Farmer-Labor, Working Families, and Unknown Parites. "
   ]
  },
  {
   "cell_type": "code",
   "execution_count": 41,
   "metadata": {},
   "outputs": [
    {
     "name": "stderr",
     "output_type": "stream",
     "text": [
      "/opt/conda/lib/python3.7/site-packages/seaborn/categorical.py:3695: UserWarning: The `size` parameter has been renamed to `height`; please update your code.\n",
      "  warnings.warn(msg, UserWarning)\n"
     ]
    },
    {
     "data": {
      "text/plain": [
       "Text(0.5, 1, 'Candiate Party vs Winner')"
      ]
     },
     "execution_count": 41,
     "metadata": {},
     "output_type": "execute_result"
    },
    {
     "data": {
      "text/plain": [
       "<Figure size 1080x720 with 0 Axes>"
      ]
     },
     "metadata": {},
     "output_type": "display_data"
    },
    {
     "data": {
      "image/png": "[encoded data removed]",
      "text/plain": [
       "<Figure size 1152x576 with 1 Axes>"
      ]
     },
     "metadata": {
      "needs_background": "light"
     },
     "output_type": "display_data"
    }
   ],
   "source": [
    "import matplotlib.pyplot as plt\n",
    "import seaborn as sns \n",
    "\n",
    "plt.figure(figsize=(15,10))\n",
    "plt.tight_layout()\n",
    "\n",
    "#df_house_sort= df_house.sort_values('VOTE_percent')\n",
    "votepercent = sns.catplot(\"CAND_PTY_AFFILIATION\", \"WINNER\", data=df_house, kind=\"bar\", size=8, aspect=2, legend=False, palette=\"Blues_d\")\n",
    "\n",
    "votepercent.set_xticklabels(rotation=90)\n",
    "\n",
    "plt.title('Candiate Party vs Winner', size= \"20\")"
   ]
  },
  {
   "cell_type": "markdown",
   "metadata": {},
   "source": [
    "### According to the bar graph summary above, the parties with Winners are Democratic, Republican, Democratic-Farmer-Labor, and Unknown Parites. "
   ]
  },
  {
   "cell_type": "code",
   "execution_count": null,
   "metadata": {},
   "outputs": [],
   "source": []
  }
 ],
 "metadata": {
  "kernelspec": {
   "display_name": "DS 5559",
   "language": "python",
   "name": "ds5559"
  },
  "language_info": {
   "codemirror_mode": {
    "name": "ipython",
    "version": 3
   },
   "file_extension": ".py",
   "mimetype": "text/x-python",
   "name": "python",
   "nbconvert_exporter": "python",
   "pygments_lexer": "ipython3",
   "version": "3.7.6"
  }
 },
 "nbformat": 4,
 "nbformat_minor": 4
}
