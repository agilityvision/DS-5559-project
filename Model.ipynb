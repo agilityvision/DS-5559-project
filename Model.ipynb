{
 "cells": [
  {
   "cell_type": "markdown",
   "metadata": {},
   "source": [
    "# Combining Features and Building Predictive Models"
   ]
  },
  {
   "cell_type": "code",
   "execution_count": null,
   "metadata": {},
   "outputs": [],
   "source": [
    "## this is for my (Eric) Spark setup, you don't need to run this\n",
    "import findspark\n",
    "findspark.init()"
   ]
  },
  {
   "cell_type": "code",
   "execution_count": 41,
   "metadata": {},
   "outputs": [],
   "source": [
    "import os\n",
    "from pyspark.sql import SparkSession\n",
    "import pyspark.sql.types as typ\n",
    "import pyspark.sql.functions as F\n",
    "from pyspark.sql import DataFrame\n",
    "from functools import reduce\n",
    "from pyspark.sql.functions import col, asc\n",
    "from pyspark.sql import SQLContext\n",
    "from pyspark.sql.types import StructType\n",
    "from pyspark.sql.types import StructField\n",
    "from pyspark.sql.types import StringType, DoubleType, DateType\n",
    "from pyspark.sql import SparkSession\n",
    "import pandas as pd\n",
    "import numpy as np\n",
    "import pyspark.mllib.regression as reg\n",
    "from pyspark.mllib.classification import LogisticRegressionWithLBFGS\n",
    "from pyspark.mllib.evaluation import BinaryClassificationMetrics\n",
    "from pyspark.mllib.tree import RandomForest, GradientBoostedTrees\n",
    "from pyspark.ml.stat import Correlation\n"
   ]
  },
  {
   "cell_type": "code",
   "execution_count": 42,
   "metadata": {},
   "outputs": [],
   "source": [
    "spark = SparkSession \\\n",
    "    .builder \\\n",
    "    .getOrCreate()\n",
    "\n",
    "sc = spark.sparkContext"
   ]
  },
  {
   "cell_type": "markdown",
   "metadata": {},
   "source": [
    "## Import Candidates"
   ]
  },
  {
   "cell_type": "code",
   "execution_count": 43,
   "metadata": {},
   "outputs": [],
   "source": [
    "df_house = spark.read.csv('df_house.csv', inferSchema=True, header=True)"
   ]
  },
  {
   "cell_type": "code",
   "execution_count": 44,
   "metadata": {},
   "outputs": [],
   "source": [
    "#clean up some titles\n",
    "df_house = df_house.withColumnRenamed('candidatevotes', 'CAND_VOTES')\n",
    "df_house = df_house.withColumnRenamed('totalvotes', 'TOTAL_VOTES')\n",
    "df_house = df_house.withColumnRenamed('VOTE_percent', 'PERCENT_VOTES')\n",
    "\n",
    "#drop index that is brought in\n",
    "df_house = df_house.drop(col('_c0'))"
   ]
  },
  {
   "cell_type": "code",
   "execution_count": 45,
   "metadata": {},
   "outputs": [
    {
     "name": "stdout",
     "output_type": "stream",
     "text": [
      "root\n",
      " |-- CAND_ID: string (nullable = true)\n",
      " |-- CAND_NAME: string (nullable = true)\n",
      " |-- CAND_PTY_AFFILIATION: string (nullable = true)\n",
      " |-- CAND_ELECTION_YR: integer (nullable = true)\n",
      " |-- CAND_OFFICE_ST: string (nullable = true)\n",
      " |-- CAND_OFFICE: string (nullable = true)\n",
      " |-- CAND_OFFICE_DISTRICT: double (nullable = true)\n",
      " |-- CAND_ICI: string (nullable = true)\n",
      " |-- CAND_STATUS: string (nullable = true)\n",
      " |-- CAND_PCC: string (nullable = true)\n",
      " |-- CAND_CITY: string (nullable = true)\n",
      " |-- CAND_ST: string (nullable = true)\n",
      " |-- CAND_ZIP: double (nullable = true)\n",
      " |-- CAND_VOTES: integer (nullable = true)\n",
      " |-- TOTAL_VOTES: integer (nullable = true)\n",
      " |-- PERCENT_VOTES: double (nullable = true)\n",
      " |-- WINNER: integer (nullable = true)\n",
      "\n"
     ]
    }
   ],
   "source": [
    "df_house.printSchema()"
   ]
  },
  {
   "cell_type": "markdown",
   "metadata": {},
   "source": [
    "### Add Incumbent feature column as 1/0"
   ]
  },
  {
   "cell_type": "code",
   "execution_count": 46,
   "metadata": {},
   "outputs": [
    {
     "name": "stdout",
     "output_type": "stream",
     "text": [
      "+--------+-----+\n",
      "|CAND_ICI|count|\n",
      "+--------+-----+\n",
      "|    null|    5|\n",
      "|       O|  198|\n",
      "|       C|  655|\n",
      "|       I|  692|\n",
      "+--------+-----+\n",
      "\n"
     ]
    }
   ],
   "source": [
    "df_house.groupBy('CAND_ICI').count().show()"
   ]
  },
  {
   "cell_type": "code",
   "execution_count": 47,
   "metadata": {},
   "outputs": [
    {
     "name": "stdout",
     "output_type": "stream",
     "text": [
      "+--------+-----+\n",
      "|CAND_ICU|count|\n",
      "+--------+-----+\n",
      "|     0.0|  858|\n",
      "|     1.0|  692|\n",
      "+--------+-----+\n",
      "\n"
     ]
    }
   ],
   "source": [
    "df_house = df_house.withColumn('CAND_ICU', F.when(col('CAND_ICI') == 'I', 1.0).otherwise(0.0))\n",
    "df_house.groupBy('CAND_ICU').count().show()"
   ]
  },
  {
   "cell_type": "markdown",
   "metadata": {},
   "source": [
    "Split into 2016, 2018 to add in features as they are year dependent"
   ]
  },
  {
   "cell_type": "code",
   "execution_count": 48,
   "metadata": {},
   "outputs": [],
   "source": [
    "df_house16 = df_house.filter(df_house.CAND_ELECTION_YR == 2016)\n",
    "df_house18 = df_house.filter(df_house.CAND_ELECTION_YR == 2018)"
   ]
  },
  {
   "cell_type": "markdown",
   "metadata": {},
   "source": [
    "## Import Features"
   ]
  },
  {
   "cell_type": "markdown",
   "metadata": {},
   "source": [
    "**2016:**"
   ]
  },
  {
   "cell_type": "code",
   "execution_count": 49,
   "metadata": {},
   "outputs": [],
   "source": [
    "#reading in features 2016\n",
    "avgsum_donation_16 = spark.read.csv('./features/avgsum_donation-16.csv', inferSchema=True, header=True)\n",
    "num_big_donations_16 = spark.read.csv('./features/num_big_donations-16.csv', inferSchema=True, header=True)\n",
    "num_out_of_state_donations_16 = spark.read.csv('./features/num_out_of_state_donations-16.csv', inferSchema=True, header=True)\n",
    "numdonations16 = spark.read.csv('./features/numdonations16.csv', inferSchema=True, header=True)"
   ]
  },
  {
   "cell_type": "markdown",
   "metadata": {},
   "source": [
    "**2018:**"
   ]
  },
  {
   "cell_type": "code",
   "execution_count": 50,
   "metadata": {},
   "outputs": [],
   "source": [
    "#reading in features 2018\n",
    "avgsum_donation_18 = spark.read.csv('./features/avgsum_donation-18.csv', inferSchema=True, header=True)\n",
    "num_big_donations_18 = spark.read.csv('./features/num_big_donations-18.csv', inferSchema=True, header=True)\n",
    "num_out_of_state_donations_18 = spark.read.csv('./features/num_out_of_state_donations-18.csv', inferSchema=True, header=True)\n",
    "numdonations18 = spark.read.csv('./features/numdonations18.csv', inferSchema=True, header=True)"
   ]
  },
  {
   "cell_type": "markdown",
   "metadata": {},
   "source": [
    "**2020:**"
   ]
  },
  {
   "cell_type": "code",
   "execution_count": 51,
   "metadata": {},
   "outputs": [],
   "source": [
    "#reading in features 2020\n",
    "avgsum_donation_20 = spark.read.csv('./features/avgsum_donation-20.csv', inferSchema=True, header=True)\n",
    "num_big_donations_20 = spark.read.csv('./features/num_big_donations-20.csv', inferSchema=True, header=True)\n",
    "num_out_of_state_donations_20 = spark.read.csv('./features/num_out_of_state_donations-20.csv', inferSchema=True, header=True)\n",
    "numdonations20 = spark.read.csv('./features/numdonations20.csv', inferSchema=True, header=True)"
   ]
  },
  {
   "cell_type": "markdown",
   "metadata": {},
   "source": [
    "## Join Candidates to Features"
   ]
  },
  {
   "cell_type": "markdown",
   "metadata": {},
   "source": [
    "**2016:**"
   ]
  },
  {
   "cell_type": "code",
   "execution_count": 52,
   "metadata": {},
   "outputs": [],
   "source": [
    "df_house16 = df_house16.join(avgsum_donation_16, on='CAND_ID', how='left')\n",
    "df_house16 = df_house16.withColumnRenamed('avgdonation','AVERAGE_DONATION')\n",
    "df_house16 = df_house16.withColumnRenamed('sumdonation','TOTAL_DONATIONS')\n",
    "df_house16 = df_house16.drop(col('_c0'))\n",
    "\n",
    "df_house16 = df_house16.join(num_big_donations_16, on='CAND_ID', how='left')\n",
    "df_house16 = df_house16.withColumnRenamed('numdonat','NUMBER_BIG_DONATIONS')\n",
    "df_house16 = df_house16.drop(col('_c0'))\n",
    "\n",
    "df_house16 = df_house16.join(num_out_of_state_donations_16, on='CAND_ID', how='left')\n",
    "df_house16 = df_house16.withColumnRenamed('numdonat','NUMBER_OUT_OF_STATE_DONATIONS')\n",
    "df_house16 = df_house16.drop(col('_c0'))\n",
    "\n",
    "df_house16 = df_house16.join(numdonations16, on='CAND_ID', how='left')\n",
    "df_house16 = df_house16.withColumnRenamed('numdonat','NUMBER_OF_DONATIONS')\n",
    "df_house16 = df_house16.drop(col('_c0'))\n",
    "\n",
    "#identification based on existence, so filling na values with 0 where none found\n",
    "df_house16 = df_house16.fillna({'NUMBER_BIG_DONATIONS':0, 'NUMBER_OUT_OF_STATE_DONATIONS':0})\n",
    "\n",
    "#not not all candidates were able to join - filter out those without contribution info\n",
    "df_house16 = df_house16.filter(col('TOTAL_DONATIONS').isNotNull())\n",
    "\n",
    "#simpler filters\n",
    "df_house16 = df_house16.withColumn('CONCAT', F.concat(col('CAND_ELECTION_YR'),F.lit('_'),col('CAND_OFFICE_ST'),F.lit('_'),col('CAND_OFFICE_DISTRICT')))\n",
    "\n",
    "#identify races that only have information by CONCAT value\n",
    "single_cand16 = df_house16.groupBy('CAND_ELECTION_YR','CAND_OFFICE_ST','CAND_OFFICE_DISTRICT') \\\n",
    "                          .count() \\\n",
    "                          .filter('count == 1') \\\n",
    "                          .select('CAND_ELECTION_YR','CAND_OFFICE_ST','CAND_OFFICE_DISTRICT') \\\n",
    "                          .withColumn('CONCAT', F.concat(col('CAND_ELECTION_YR'),F.lit('_'),col('CAND_OFFICE_ST'),F.lit('_'),col('CAND_OFFICE_DISTRICT'))) \\\n",
    "                          .select('CONCAT').rdd.flatMap(lambda x: x).collect()\n",
    "\n",
    "#create list of \n",
    "all_cand16 = df_house16.select('CONCAT').rdd.flatMap(lambda x: x).collect()\n",
    "\n",
    "#identifies from all races only those not single\n",
    "multi_cand16 = [x for x in all_cand16 if x not in single_cand16]\n",
    "\n",
    "#filter candidate pool to final form\n",
    "df_house16 = df_house16.filter(col('CONCAT').isin(multi_cand16))\n",
    "\n",
    "\n",
    "#calculate totals for various metrics\n",
    "agg_total_donations16 = df_house16.groupBy('CONCAT').agg({'TOTAL_DONATIONS':'sum'}).withColumnRenamed('sum(TOTAL_DONATIONS)','AGG_TOTAL_DONATIONS')\n",
    "df_house16 = df_house16.join(agg_total_donations16, on='CONCAT', how='left')\n",
    "\n",
    "agg_number_big_donations16 = df_house16.groupBy('CONCAT').agg({'NUMBER_BIG_DONATIONS':'sum'}).withColumnRenamed('sum(NUMBER_BIG_DONATIONS)','AGG_NUMBER_BIG_DONATIONS')\n",
    "df_house16 = df_house16.join(agg_number_big_donations16, on='CONCAT', how='left')\n",
    "\n",
    "agg_number_out_of_state_donations16 = df_house16.groupBy('CONCAT').agg({'NUMBER_OUT_OF_STATE_DONATIONS':'sum'}).withColumnRenamed('sum(NUMBER_OUT_OF_STATE_DONATIONS)','AGG_NUMBER_OUT_OF_STATE_DONATIONS')\n",
    "df_house16 = df_house16.join(agg_number_out_of_state_donations16, on='CONCAT', how='left')\n",
    "\n",
    "agg_number_of_donations16 = df_house16.groupBy('CONCAT').agg({'NUMBER_OF_DONATIONS':'sum'}).withColumnRenamed('sum(NUMBER_OF_DONATIONS)','AGG_NUMBER_OF_DONATIONS')\n",
    "df_house16 = df_house16.join(agg_number_of_donations16, on='CONCAT', how='left')\n",
    "\n",
    "\n",
    "#relative calculations between candidates for a given race\n",
    "df_house16 = df_house16.withColumn('REL_TOTAL_DONATIONS', col('TOTAL_DONATIONS')/col('AGG_TOTAL_DONATIONS'))\n",
    "df_house16 = df_house16.withColumn('REL_NUMBER_BIG_DONATIONS', col('NUMBER_BIG_DONATIONS')/col('AGG_NUMBER_BIG_DONATIONS'))\n",
    "df_house16 = df_house16.withColumn('REL_NUMBER_OUT_OF_STATE_DONATIONS', col('NUMBER_OUT_OF_STATE_DONATIONS')/col('AGG_NUMBER_OUT_OF_STATE_DONATIONS'))\n",
    "df_house16 = df_house16.withColumn('REL_NUMBER_OF_DONATIONS', col('NUMBER_OF_DONATIONS')/col('AGG_NUMBER_OF_DONATIONS'))\n",
    "df_house16 = df_house16.withColumn('PERCENT_BIG_DONATIONS', col('NUMBER_BIG_DONATIONS')/col('NUMBER_OF_DONATIONS'))\n",
    "df_house16 = df_house16.withColumn('PERCENT_OUT_OF_STATE_DONATIONS', col('NUMBER_OUT_OF_STATE_DONATIONS')/col('NUMBER_OF_DONATIONS'))\n"
   ]
  },
  {
   "cell_type": "code",
   "execution_count": 13,
   "metadata": {},
   "outputs": [
    {
     "data": {
      "text/plain": [
       "502"
      ]
     },
     "execution_count": 13,
     "metadata": {},
     "output_type": "execute_result"
    }
   ],
   "source": [
    "df_house16.count()"
   ]
  },
  {
   "cell_type": "markdown",
   "metadata": {},
   "source": [
    "**2018:**"
   ]
  },
  {
   "cell_type": "code",
   "execution_count": 53,
   "metadata": {},
   "outputs": [],
   "source": [
    "df_house18 = df_house18.join(avgsum_donation_18, on='CAND_ID', how='left')\n",
    "df_house18 = df_house18.withColumnRenamed('avgdonation','AVERAGE_DONATION')\n",
    "df_house18 = df_house18.withColumnRenamed('sumdonation','TOTAL_DONATIONS')\n",
    "df_house18 = df_house18.drop(col('_c0'))\n",
    "\n",
    "df_house18 = df_house18.join(num_big_donations_18, on='CAND_ID', how='left')\n",
    "df_house18 = df_house18.withColumnRenamed('numdonat','NUMBER_BIG_DONATIONS')\n",
    "df_house18 = df_house18.drop(col('_c0'))\n",
    "\n",
    "df_house18 = df_house18.join(num_out_of_state_donations_18, on='CAND_ID', how='left')\n",
    "df_house18 = df_house18.withColumnRenamed('numdonat','NUMBER_OUT_OF_STATE_DONATIONS')\n",
    "df_house18 = df_house18.drop(col('_c0'))\n",
    "\n",
    "df_house18 = df_house18.join(numdonations18, on='CAND_ID', how='left')\n",
    "df_house18 = df_house18.withColumnRenamed('numdonat','NUMBER_OF_DONATIONS')\n",
    "df_house18 = df_house18.drop(col('_c0'))\n",
    "\n",
    "#identification based on existence, so filling na values with 0 where none found\n",
    "df_house18 = df_house18.fillna({'NUMBER_BIG_DONATIONS':0, 'NUMBER_OUT_OF_STATE_DONATIONS':0})\n",
    "\n",
    "#not not all candidates were able to join - filter out those without contribution info\n",
    "df_house18 = df_house18.filter(col('TOTAL_DONATIONS').isNotNull())\n",
    "\n",
    "#simpler filters\n",
    "df_house18 = df_house18.withColumn('CONCAT', F.concat(col('CAND_ELECTION_YR'),F.lit('_'),col('CAND_OFFICE_ST'),F.lit('_'),col('CAND_OFFICE_DISTRICT')))\n",
    "\n",
    "###\n",
    "\n",
    "#identify races that only have information by CONCAT value\n",
    "single_cand18 = df_house18.groupBy('CAND_ELECTION_YR','CAND_OFFICE_ST','CAND_OFFICE_DISTRICT') \\\n",
    "                          .count() \\\n",
    "                          .filter('count == 1') \\\n",
    "                          .select('CAND_ELECTION_YR','CAND_OFFICE_ST','CAND_OFFICE_DISTRICT') \\\n",
    "                          .withColumn('CONCAT', F.concat(col('CAND_ELECTION_YR'),F.lit('_'),col('CAND_OFFICE_ST'),F.lit('_'),col('CAND_OFFICE_DISTRICT'))) \\\n",
    "                          .select('CONCAT').rdd.flatMap(lambda x: x).collect()\n",
    "\n",
    "#create list of all candidate races\n",
    "all_cand18 = df_house18.select('CONCAT').rdd.flatMap(lambda x: x).collect()\n",
    "\n",
    "#identifies from all races only those not single\n",
    "multi_cand18 = [x for x in all_cand18 if x not in single_cand18]\n",
    "\n",
    "#filter candidate pool to final form\n",
    "df_house18 = df_house18.filter(col('CONCAT').isin(multi_cand18))\n",
    "\n",
    "###\n",
    "\n",
    "#calculate totals for various metrics\n",
    "agg_total_donations18 = df_house18.groupBy('CONCAT').agg({'TOTAL_DONATIONS':'sum'}).withColumnRenamed('sum(TOTAL_DONATIONS)','AGG_TOTAL_DONATIONS')\n",
    "df_house18 = df_house18.join(agg_total_donations18, on='CONCAT', how='left')\n",
    "\n",
    "agg_number_big_donations18 = df_house18.groupBy('CONCAT').agg({'NUMBER_BIG_DONATIONS':'sum'}).withColumnRenamed('sum(NUMBER_BIG_DONATIONS)','AGG_NUMBER_BIG_DONATIONS')\n",
    "df_house18 = df_house18.join(agg_number_big_donations18, on='CONCAT', how='left')\n",
    "\n",
    "agg_number_out_of_state_donations18 = df_house18.groupBy('CONCAT').agg({'NUMBER_OUT_OF_STATE_DONATIONS':'sum'}).withColumnRenamed('sum(NUMBER_OUT_OF_STATE_DONATIONS)','AGG_NUMBER_OUT_OF_STATE_DONATIONS')\n",
    "df_house18 = df_house18.join(agg_number_out_of_state_donations18, on='CONCAT', how='left')\n",
    "\n",
    "agg_number_of_donations18 = df_house18.groupBy('CONCAT').agg({'NUMBER_OF_DONATIONS':'sum'}).withColumnRenamed('sum(NUMBER_OF_DONATIONS)','AGG_NUMBER_OF_DONATIONS')\n",
    "df_house18 = df_house18.join(agg_number_of_donations18, on='CONCAT', how='left')\n",
    "\n",
    "#relative calculations between candidates for a given race\n",
    "df_house18 = df_house18.withColumn('REL_TOTAL_DONATIONS', col('TOTAL_DONATIONS')/col('AGG_TOTAL_DONATIONS'))\n",
    "df_house18 = df_house18.withColumn('REL_NUMBER_BIG_DONATIONS', col('NUMBER_BIG_DONATIONS')/col('AGG_NUMBER_BIG_DONATIONS'))\n",
    "df_house18 = df_house18.withColumn('REL_NUMBER_OUT_OF_STATE_DONATIONS', col('NUMBER_OUT_OF_STATE_DONATIONS')/col('AGG_NUMBER_OUT_OF_STATE_DONATIONS'))\n",
    "df_house18 = df_house18.withColumn('REL_NUMBER_OF_DONATIONS', col('NUMBER_OF_DONATIONS')/col('AGG_NUMBER_OF_DONATIONS'))\n",
    "df_house18 = df_house18.withColumn('PERCENT_BIG_DONATIONS', col('NUMBER_BIG_DONATIONS')/col('NUMBER_OF_DONATIONS'))\n",
    "df_house18 = df_house18.withColumn('PERCENT_OUT_OF_STATE_DONATIONS', col('NUMBER_OUT_OF_STATE_DONATIONS')/col('NUMBER_OF_DONATIONS'))\n"
   ]
  },
  {
   "cell_type": "code",
   "execution_count": 15,
   "metadata": {},
   "outputs": [
    {
     "data": {
      "text/plain": [
       "678"
      ]
     },
     "execution_count": 15,
     "metadata": {},
     "output_type": "execute_result"
    }
   ],
   "source": [
    "df_house18.count()"
   ]
  },
  {
   "cell_type": "markdown",
   "metadata": {},
   "source": [
    "**Combine 2016 and 2018:**"
   ]
  },
  {
   "cell_type": "code",
   "execution_count": 54,
   "metadata": {},
   "outputs": [],
   "source": [
    "df_house = reduce(DataFrame.unionAll, [df_house16, df_house18])"
   ]
  },
  {
   "cell_type": "code",
   "execution_count": 55,
   "metadata": {},
   "outputs": [
    {
     "name": "stdout",
     "output_type": "stream",
     "text": [
      "root\n",
      " |-- CONCAT: string (nullable = true)\n",
      " |-- CAND_ID: string (nullable = true)\n",
      " |-- CAND_NAME: string (nullable = true)\n",
      " |-- CAND_PTY_AFFILIATION: string (nullable = true)\n",
      " |-- CAND_ELECTION_YR: integer (nullable = true)\n",
      " |-- CAND_OFFICE_ST: string (nullable = true)\n",
      " |-- CAND_OFFICE: string (nullable = true)\n",
      " |-- CAND_OFFICE_DISTRICT: double (nullable = true)\n",
      " |-- CAND_ICI: string (nullable = true)\n",
      " |-- CAND_STATUS: string (nullable = true)\n",
      " |-- CAND_PCC: string (nullable = true)\n",
      " |-- CAND_CITY: string (nullable = true)\n",
      " |-- CAND_ST: string (nullable = true)\n",
      " |-- CAND_ZIP: double (nullable = true)\n",
      " |-- CAND_VOTES: integer (nullable = true)\n",
      " |-- TOTAL_VOTES: integer (nullable = true)\n",
      " |-- PERCENT_VOTES: double (nullable = true)\n",
      " |-- WINNER: integer (nullable = true)\n",
      " |-- CAND_ICU: double (nullable = false)\n",
      " |-- AVERAGE_DONATION: double (nullable = true)\n",
      " |-- TOTAL_DONATIONS: double (nullable = true)\n",
      " |-- NUMBER_BIG_DONATIONS: integer (nullable = false)\n",
      " |-- NUMBER_OUT_OF_STATE_DONATIONS: integer (nullable = false)\n",
      " |-- NUMBER_OF_DONATIONS: integer (nullable = true)\n",
      " |-- AGG_TOTAL_DONATIONS: double (nullable = true)\n",
      " |-- AGG_NUMBER_BIG_DONATIONS: long (nullable = true)\n",
      " |-- AGG_NUMBER_OUT_OF_STATE_DONATIONS: long (nullable = true)\n",
      " |-- AGG_NUMBER_OF_DONATIONS: long (nullable = true)\n",
      " |-- REL_TOTAL_DONATIONS: double (nullable = true)\n",
      " |-- REL_NUMBER_BIG_DONATIONS: double (nullable = true)\n",
      " |-- REL_NUMBER_OUT_OF_STATE_DONATIONS: double (nullable = true)\n",
      " |-- REL_NUMBER_OF_DONATIONS: double (nullable = true)\n",
      " |-- PERCENT_BIG_DONATIONS: double (nullable = true)\n",
      " |-- PERCENT_OUT_OF_STATE_DONATIONS: double (nullable = true)\n",
      "\n"
     ]
    }
   ],
   "source": [
    "df_house.printSchema()"
   ]
  },
  {
   "cell_type": "code",
   "execution_count": 16,
   "metadata": {},
   "outputs": [
    {
     "data": {
      "text/plain": [
       "1180"
      ]
     },
     "execution_count": 16,
     "metadata": {},
     "output_type": "execute_result"
    }
   ],
   "source": [
    "df_house.count()"
   ]
  },
  {
   "cell_type": "markdown",
   "metadata": {},
   "source": [
    "## Graphical Data Exploration:"
   ]
  },
  {
   "cell_type": "markdown",
   "metadata": {},
   "source": [
    "Histogram of Relative Total Donations - overlay incumbent receipts/challenger receipts"
   ]
  },
  {
   "cell_type": "code",
   "execution_count": 86,
   "metadata": {},
   "outputs": [],
   "source": [
    "incumbent_donations_rel = list(df_house.filter('CAND_ICU == 1.0').select('REL_TOTAL_DONATIONS').rdd.map(lambda row: row[0]).collect())\n",
    "challenger_donations_rel = list(df_house.filter('CAND_ICU == 0.0').select('REL_TOTAL_DONATIONS').rdd.map(lambda row: row[0]).collect())\n",
    "all_donations = list(df_house.select('TOTAL_DONATIONS').rdd.map(lambda row: row[0]).collect())"
   ]
  },
  {
   "cell_type": "code",
   "execution_count": 89,
   "metadata": {},
   "outputs": [
    {
     "data": {
      "application/vnd.plotly.v1+json": {
       "config": {
        "plotlyServerURL": "https://plot.ly"
       },
       "data": [
        {
         "name": "Incumbent Contributions",
         "opacity": 0.75,
         "type": "histogram",
         "x": [
          0.8948120746936494,
          0.4851264539207089,
          0.9181649794015265,
          0.9791247397909814,
          0.8525777541957101,
          0.36252608425243554,
          0.8295068359174348,
          0.9986647017550675,
          0.6310131889913853,
          0.7464345204080391,
          0.7232853948937876,
          0.6068814802807346,
          0.8635205614069676,
          0.9042337177048527,
          0.5408708400580013,
          0.39709055496502427,
          0.6127335382835818,
          0.920810097717489,
          0.8787546727947853,
          0.9939507835751675,
          0.9809042880482061,
          0.8864588180549092,
          0.9743334413104422,
          0.3267542227470133,
          0.6921635234860021,
          0.7182417970387696,
          0.8639232068260599,
          0.853355893965031,
          0.9612213338450861,
          0.9632728014690879,
          0.6312036349630754,
          0.9379471549678459,
          0.653819552512363,
          0.8995411970832411,
          0.9979792147806005,
          0.9681187839639085,
          0.8948910868768845,
          0.8398447637959235,
          0.9347277530260616,
          0.757965973842847,
          0.9570301418075217,
          0.5491651006977155,
          0.8477240845547332,
          0.97906340243955,
          0.9854737963426248,
          0.9530420948179008,
          0.9964809642158049,
          0.9875986127851775,
          0.9308124052075853,
          0.9901479239248386,
          0.5135695439125518,
          0.9904502569609572,
          0.9162061496306786,
          0.529716427421975,
          0.8505068356868158,
          0.567775374395707,
          0.9226422829438711,
          0.9638905739954358,
          0.9071658552249039,
          0.9953764067282529,
          0.9414060477770939,
          0.7916775987825996,
          0.936610195652101,
          0.6706535372504452,
          0.9883437865792559,
          0.6895439152676706,
          0.8584770693062225,
          0.6935042200248175,
          0.9301341458253989,
          0.7300871820199232,
          0.9673441624912451,
          0.9807914823944789,
          0.865350347012359,
          0.9040904906741818,
          0.888564322219027,
          0.9847964442188148,
          0.866349798650919,
          0.8597547498155487,
          0.3365438000812185,
          0.7348772590277077,
          0.7392080014172803,
          0.9074904591277583,
          0.8689115103214867,
          0.9478412671378693,
          0.8412197510226618,
          0.6248817161037471,
          0.8234280111673847,
          0.9985622374923938,
          0.9127055950585362,
          0.8086756282202585,
          0.7178170370869037,
          0.9874664548321005,
          0.832586528841861,
          0.7528267157507231,
          0.9611585307375083,
          0.9764721476621268,
          0.5710722961249277,
          0.9932618641726579,
          0.46730680812902775,
          0.8499163195013031,
          0.9907339587175799,
          0.9929676511954993,
          0.663558106169297,
          0.5554998897327538,
          0.849909633085942,
          0.9813153961136024,
          0.9808378114978575,
          0.4096719977703393,
          0.3984730983262098,
          0.9991497553541349,
          0.7168098521844222,
          0.5969484352377771,
          0.8819737042489466,
          0.9625466155125694,
          0.6825333953515414,
          0.5108952828058955,
          0.9474317817014446,
          0.5963748246429391,
          0.4134663428003226,
          0.9591536092138744,
          0.6679681622581325,
          0.7890855687659162,
          0.7740245664739884,
          0.7971570462970299,
          0.9934229423678881,
          0.9115378295038231,
          0.9773032952252858,
          0.8886064299623451,
          0.8082401303475102,
          0.9806185769641153,
          0.7015509670510766,
          0.9188468354652489,
          0.874191084174359,
          0.9976070970001167,
          0.8133379508237273,
          0.7002633401327536,
          0.9657010537305541,
          0.7304891676579791,
          0.3626991524164089,
          0.7012375806170472,
          0.7284632996331919,
          0.893277292480576,
          0.7657490839386076,
          0.8643472800958959,
          0.9964603419677727,
          0.9961390538068033,
          0.9121328884054497,
          0.29516633817375193,
          0.6940609572235197,
          0.9917237717850407,
          0.8123768583198997,
          0.9995021606228967,
          0.4561103729970763,
          0.8160101375097761,
          0.9141517342554752,
          0.9492765875220406,
          0.7195465211261011,
          0.9211791208394068,
          0.9785773710482529,
          0.9627657075960847,
          0.6884598131827537,
          0.9014218154080854,
          0.9870101528645211,
          0.9520961889459771,
          0.9104265731037349,
          0.8357479456322779,
          0.3715301983714821,
          0.986411889596603,
          0.8272074355724546,
          0.862280786991073,
          0.7421515406065611,
          0.7503452129145548,
          0.8057061769929801,
          0.9956577621843193,
          0.7826276925765718,
          0.8603082851637764,
          0.7789864689735718,
          0.3556138017917133,
          0.925307121311902,
          0.6776865919450757,
          0.9136045312888815,
          0.9439394023844426,
          0.9497066703016132,
          0.4635198028837379,
          0.8973701090442592,
          0.9495400842462502,
          0.9886311700182815,
          0.9461575658979771,
          0.5069513156350098,
          0.7850188269987692,
          0.9257725224723689,
          0.9880167208546214,
          0.9964254056345627,
          0.860354779245112,
          0.5683349177013314,
          0.47881004151017986,
          0.9904886236478926,
          0.9019068671508733,
          0.7925337241502162,
          0.4742971378000645,
          0.8373626238081728,
          0.7998988054645049,
          0.9594749221282818,
          0.9247574716143907,
          0.8264553356219414,
          0.9885929734361611,
          0.6504458784274568,
          0.6451183794636645,
          0.9473345949226979,
          0.8052226305333005,
          0.46996507242199287,
          0.8971540308608829,
          0.8832335329341318,
          0.6106236134415551,
          0.9934077255692592,
          0.9993768072589491,
          0.5894331971734399,
          0.9968157797468608,
          0.9916854437062966,
          0.8771325835819753,
          0.2800632911392405,
          0.7310963251634094,
          0.9936770889317442,
          0.8403868752307062,
          0.7312837701175995,
          0.15060136621450393,
          0.24094635976751075,
          0.7201079341185513,
          0.8375394227374191,
          0.9152419500996798,
          0.5793402464381464,
          0.8887306612838557,
          0.6909101916511585,
          0.567252453910964,
          0.3365238362844252,
          0.9670567209905961,
          0.9808314761097632,
          0.9846445065995808,
          0.5143792989130946,
          0.9994520592315873,
          0.27964847038395496,
          0.890397496404428,
          0.8510908355643978,
          0.8798131401058468,
          0.9905016894154771,
          0.7701854407278196,
          0.2596648674515084,
          0.9975348328123613,
          0.37298937675074445,
          0.9871550172770223,
          0.3356863718559354,
          0.4715209937643503,
          0.740414954959414,
          0.26246843886880855,
          0.8412419292052029,
          0.7655247295961691,
          0.9101841439415238,
          0.18460440903437947,
          0.2844321799589475,
          0.9502357527045541,
          0.4870852719263551,
          0.17972784355549543,
          0.4782101697128167,
          0.7463537364950993,
          0.9513595120627807,
          0.29652897313316384,
          0.9062312429050344,
          0.17955868059550945,
          0.9563495337899166,
          0.9328207874030873,
          0.9305067541188412,
          0.4239818451826089,
          0.07684223338935753,
          0.31474760610001185,
          0.3299512034550758,
          0.34928589309606245,
          0.7162188043254073,
          0.7822888424542801,
          0.53421629220101,
          0.9588502081305528,
          0.40570685879070584,
          0.6603104774262972,
          0.2422443508234393,
          0.7425752683065818,
          0.3515356666290844,
          0.9396681749622926,
          0.5247709789144255,
          0.8926698636108862,
          0.942257817857903,
          0.936464567067551,
          0.5823474675985981,
          0.9774710372854333,
          0.3659628019074302,
          0.9782196369170812,
          0.31852248520013654,
          0.487564755545545,
          0.9149916712937257,
          0.6266859969196177,
          0.30523167021662195,
          0.30903835376105654,
          0.5006356498436156,
          0.2263270198115214,
          0.9753912786691603,
          0.32976944251748624,
          0.8600552168597637,
          0.8662486271385275,
          0.9219716427700098,
          0.45229130314996785,
          0.11896550970544913,
          0.6399105866515997,
          0.21323575758050145,
          0.9654714253016017,
          0.8664141348958467,
          0.2100374830364856,
          0.835501272971806,
          0.3875910792021664,
          0.9538428750897344,
          0.9828942227658021,
          0.6172842458042676,
          0.43293629187019556,
          0.5760941066359394,
          0.494712025534037,
          0.15332049575753726,
          0.7120730017337034,
          0.5356163256349772,
          0.8730921183526135,
          0.9967972840969141,
          0.4698081819725004,
          0.7929789434553933,
          0.11708823636385059,
          0.34250134804591953,
          0.6926042788399991,
          0.6807784532739153,
          0.8439891619527499,
          0.36280986124131515,
          0.7831484666943472,
          0.703998447204969,
          0.7703636266266802,
          0.9391756583076785,
          0.9497183589326674,
          0.904368176580301,
          0.4203391289604458,
          0.888671008644286,
          0.2560798372250751,
          0.9547224486099791,
          0.27798470832278127,
          0.49434798821071557,
          0.9358581436077058,
          0.8605707219663546,
          0.8786267589494431,
          0.6815816891749314,
          0.9293395047605639,
          0.9973797636506189,
          0.8627291132081715,
          0.9939760160515142,
          0.3311349771731035,
          0.9988551890464488,
          0.16926315717989246,
          0.8370954864531381,
          0.5292109482864953,
          0.9983057474260394,
          0.37760581891210565,
          0.6223941810878943,
          0.3025269932367451,
          0.9092837930400789,
          0.4240453486839214,
          0.33718928138314774,
          0.3899124924269177,
          0.2156097222341092,
          0.37637885785080016,
          0.2834071801188432,
          0.2369241629919044,
          0.9663115299598317,
          0.8650634845563357,
          0.939182579849445,
          0.3672016249637285,
          0.749842524815917,
          0.9692411418546957,
          0.4073215312693957,
          0.9966207657259117,
          0.6825819846290203,
          0.7229947434908709,
          0.6936478636034052,
          0.9390502101893238,
          0.3988948326609831,
          0.9627901565421123,
          0.4417960845654414,
          0.934586882411787,
          0.7956927835514642,
          0.21979402476975363,
          0.3120321685407576,
          0.7906733620113455,
          0.9725353277132869,
          0.7246147332032865,
          0.8136387875094357,
          0.5877077293871772,
          0.3815362843968929,
          0.9971137935015457,
          0.9253187613843351,
          0.6692798271805386,
          0.5560522811723365,
          0.5012477805470036,
          0.8631319358816276,
          0.820354680884296,
          0.9121026703321077,
          0.7446399227940218,
          0.7382243461179753,
          0.15913395788144458,
          0.9545743093398847,
          0.9997450217554018,
          0.7141317776890136,
          0.9545744545106546,
          0.23124399667135484,
          0.9685097548940652,
          0.44231968594295357,
          0.9992974542128411,
          0.9691229803622156,
          0.9230149374309597,
          0.539667388670656,
          0.9581190512053593,
          0.4248781977632019,
          0.04745762711864407,
          0.964546098704064,
          0.5501350157903742,
          0.3306412147158794,
          0.3542365947547157,
          0.9918255239839127,
          0.43850220688741565,
          0.28982115680900256,
          0.18722177661216802,
          0.903718237893574,
          0.7434830498103048,
          0.6840782526940045,
          0.2632083176619874,
          0.8777501198770202,
          0.9861958374450525,
          0.7348534392722232,
          0.9070699853122147,
          0.33746898121049523,
          0.9737754209650388,
          0.8288951491846764,
          0.8411221111877757,
          0.7891658705616451,
          0.8805863781811444,
          0.9797146331071321,
          0.9279210154574742,
          0.8018001639378718,
          0.17323871847235395,
          0.9806187884705985,
          0.41003344113699863,
          0.1508303395136046,
          0.9897152676396812,
          0.17565651743010974,
          0.5364598581481473,
          0.848599598973167,
          0.9696373516956778,
          0.4676754407259373,
          0.2848130544604514,
          0.3160338002977597,
          0.9847119473377846,
          0.2637185908191068,
          0.8193832599118943,
          0.9848389801969084,
          0.618535271471023,
          0.30289035987664675,
          0.5485119990411041,
          0.9162532332612475,
          0.9721174419796972,
          0.8883164070643595,
          0.7257518248175182,
          0.16959503266748435,
          0.8484799988568734,
          0.9029276922946065,
          0.7094312626684154,
          0.48365554981019904,
          0.9004447423483483,
          0.09742045269823982,
          0.8625302533875562,
          0.5196613966078143,
          0.9921786641406649,
          0.776906533926155
         ],
         "xbins": {
          "start": "0"
         }
        },
        {
         "name": "Challenger Contributions",
         "opacity": 0.75,
         "type": "histogram",
         "x": [
          0.009529461195600854,
          0.09565846411074967,
          0.7852874869754665,
          0.21471251302453348,
          0.514873546079291,
          0.079439849263884,
          0.0023951713345894674,
          0.020875260209018687,
          0.14742224580428984,
          0.05201614237041448,
          0.9479838576295855,
          0.6192239439629814,
          0.018249971784583097,
          0.17049316408256524,
          0.0013352982449325432,
          0.3689868110086148,
          0.2535654795919608,
          0.8215997863390532,
          0.17840021366094677,
          0.09864652257239993,
          0.0009040107641670784,
          0.900449466663433,
          0.27671460510621243,
          0.35689598930534794,
          0.03622253041391746,
          0.13647943859303233,
          0.09576628229514732,
          0.4591291599419986,
          0.6029094450349757,
          0.38726646171641815,
          0.07918990228251098,
          0.12124532720521475,
          0.006049216424832437,
          0.04461867426942267,
          0.9553813257305773,
          0.019095711951793937,
          0.11354118194509075,
          0.025666558689557813,
          0.6927809730152168,
          0.3072190269847832,
          0.6732457772529866,
          0.3161355313848541,
          0.6838644686151458,
          0.30783647651399787,
          0.2817582029612304,
          0.13607679317394009,
          0.40233702570128144,
          0.5976629742987186,
          0.14664410603496897,
          0.03877866615491383,
          0,
          0.03672719853091206,
          0.3687963650369246,
          0.062052845032154094,
          0.03632811149151018,
          0.1865223455637399,
          0.12332999043238695,
          0.10045880291675893,
          0.0020207852193995382,
          0.03188121603609146,
          0.1051089131231155,
          0.16015523620407646,
          0.06527224697393841,
          0.24203402615715294,
          0.042969858192478325,
          0.45083489930228454,
          0.15227591544526678,
          0.9058086613803782,
          0.09419133861962183,
          0.02093659756044998,
          0.014526203657375277,
          0.04695790518209925,
          0.988895586788921,
          0.011104413211079031,
          0.46570403231515856,
          0.5342959676848414,
          0.0035190357841951305,
          0.012401387214822486,
          0.06918759479241468,
          0.009852076075161345,
          0.3026762156049755,
          0.18375424048247269,
          0.009549743039042725,
          0.0837938503693214,
          0.47028357257802506,
          0.14949316431318413,
          0.4298192735482193,
          0.0024053520560736617,
          0.0773577170561289,
          0.25985171398093965,
          0.7401482860190604,
          0.03610942600456423,
          0.09283414477509612,
          0.004623593271747071,
          0.05859395222290609,
          0.066910563493707,
          0.9178625025246134,
          0.015226933981679616,
          0.20832240121740042,
          0.06338980434789902,
          0.32934646274955476,
          0.011656213420744068,
          0.31045608473232944,
          0.14152293069377755,
          0.3064957799751825,
          0.06986585417460116,
          0.2699128179800769,
          0.03265583750875491,
          0.019208517605521076,
          0.13464965298764095,
          0.09590950932581827,
          0.11143567778097299,
          0.015203555781185136,
          0.13365020134908107,
          0.1402452501844513,
          0.6634561999187815,
          0.26512274097229227,
          0.26079199858271973,
          0.0925095408722417,
          0.13108848967851322,
          0.05215873286213063,
          0.15878024897733825,
          0.3751182838962529,
          0.8117375301711427,
          0.010976289031356145,
          0.1772861807975011,
          0.17657198883261527,
          0.0014377625076062274,
          0.07881203763556704,
          0.008482367305896717,
          0.19132437177974151,
          0.13191512551972637,
          0.15026783739336994,
          0.012533545167899552,
          0.16741347115813898,
          0.2471732842492769,
          0.03884146926249161,
          0.023527852337873214,
          0.5036861371491257,
          0.49631386285087437,
          0.9838062802214608,
          0.016193719778539197,
          0.4289277038750723,
          0.0067381358273420075,
          0.9875324675324675,
          0.012467532467532468,
          0.5326931918709722,
          0.15008368049869691,
          0.009266041282420114,
          0.9785090664875755,
          0.021490933512424447,
          0.007032348804500703,
          0.336441893830703,
          0.44450011026724623,
          0.15009036691405794,
          0.01868460388639761,
          0.019162188502142442,
          0.5903280022296606,
          0.6015269016737902,
          0.0008502446458650839,
          0.2831901478155778,
          0.2695727843798439,
          0.7304272156201561,
          0.403051564762223,
          0.11802629575105335,
          0.03745338448743058,
          0.3174666046484585,
          0.48910471719410453,
          0.5103466608462063,
          0.48965333915379367,
          0.052568218298555375,
          0.4036251753570609,
          0.5865336571996774,
          0.04084639078612562,
          0.006107252647159285,
          0.4220175338722532,
          0.5718752134805875,
          0.11805618248021425,
          0.21397565526165327,
          0.21091443123408377,
          0.22597543352601157,
          0.20284295370297012,
          0.4358761849775576,
          0.5641238150224424,
          0.00657705763211195,
          0.0070081487854153175,
          0.08145402171076162,
          0.02269670477471419,
          0.11139357003765496,
          0.19175986965248984,
          0.019381423035884766,
          0.29844903294892344,
          0.0811531645347511,
          0.11706269749660954,
          0.008746218329031455,
          0.002392902999883273,
          0.1866620491762727,
          0.2997366598672464,
          0.12330716211548673,
          0.8766928378845132,
          0.03429894626944583,
          0.26951083234202083,
          0.6373008475835911,
          0.2987624193829528,
          0.27153670036680805,
          0.10672270751942409,
          0.23425091606139242,
          0.752488784957526,
          0.247511215042474,
          0.1356527199041041,
          0.0035396580322273794,
          0.0038609461931966692,
          0.08786711159455025,
          0.7048336618262481,
          0.3059390427764803,
          0.008276228214959293,
          0.1876231416801003,
          0.0004978393771033713,
          0.5438896270029236,
          0.18301967112492698,
          0.0009701913652968489,
          0.08584826574452478,
          0.050723412477959466,
          0.4820597984787694,
          0.5179402015212305,
          0.869385756462879,
          0.13061424353712106,
          0.28045347887389893,
          0.07882087916059317,
          0.021422628951747087,
          0.03723429240391529,
          0.9945020708866327,
          0.0054979291133672985,
          0.29966620929864374,
          0.011873977518602565,
          0.09857818459191457,
          0.01298984713547891,
          0.04790381105402287,
          0.08957342689626517,
          0.16425205436772208,
          0.6284698016285178,
          0.013588110403397028,
          0.17279256442754543,
          0.13771921300892695,
          0.2578484593934389,
          0.2496547870854452,
          0.19429382300701994,
          0.004342237815680689,
          0.21737230742342814,
          0.1396917148362235,
          0.22101353102642812,
          0.6443861982082867,
          0.022764782880883273,
          0.05192809580721481,
          0.32231340805492426,
          0.08639546871111849,
          0.0560605976155574,
          0.05029332969838682,
          0.536480197116262,
          0.10262989095574086,
          0.05045991575374978,
          0.011368829981718464,
          0.053842434102022975,
          0.49304868436499016,
          0.21498117300123076,
          0.07422747752763117,
          0.011983279145378542,
          0.37889576370352807,
          0.6211042362964719,
          0.0035745943654372373,
          0.13964522075488803,
          0.4316650822986686,
          0.5211899584898201,
          0.009511376352107423,
          0.09809313284912673,
          0.09285165014909212,
          0.9071483498509079,
          0.2074662758497838,
          0.5257028621999355,
          0.08079138554142563,
          0.08184599065040149,
          0.20010119453549507,
          0.04052507787171827,
          0.07524252838560926,
          0.17354466437805857,
          0.011407026563838903,
          0.3495541215725432,
          0.3548816205363355,
          0.0526654050773021,
          0.19477736946669957,
          0.5300349275780071,
          0.10284596913911713,
          0.11676646706586827,
          0.38937638655844486,
          0.006592274430740892,
          0.19305156784354194,
          0.8069484321564581,
          0.8461251789812291,
          0.15387482101877095,
          0.0006231927410509522,
          0.4105668028265601,
          0.0031842202531392667,
          0.008314556293703387,
          0.5704531930583703,
          0.02157516836013399,
          0.40797163858149577,
          0.12286741641802464,
          0.7199367088607594,
          0.26890367483659067,
          0.006322911068255825,
          0.15961312476929382,
          0.2687162298824005,
          0.8493986337854961,
          0.7590536402324892,
          0.2798920658814486,
          0.5798090270498903,
          0.42019097295010965,
          0.9632684633730138,
          0.03673153662698627,
          0.16246057726258087,
          0.08475804990032018,
          0.4206597535618536,
          0.11126933871614429,
          0.3090898083488414,
          0.43274754608903593,
          0.6634761637155747,
          0.03294327900940386,
          0.019168523890236853,
          0.4450036958688399,
          0.5549963041311601,
          0.7523223778386816,
          0.2476776221613184,
          0.015355493400419213,
          0.48562070108690536,
          0.0005479407684126993,
          0.00029894604384190485,
          0.7200525835722031,
          0.10960250359557201,
          0.14890916443560218,
          0.12018685989415324,
          0.00949831058452287,
          0.22981455927218045,
          0.7403351325484916,
          0.0024651671876386658,
          0.6270106232492555,
          0.012844982722977696,
          0.6643136281440646,
          0.5284790062356497,
          0.13967840526628392,
          0.11990663977430212,
          0.7375315611311914,
          0.15875807079479712,
          0.43174004185429804,
          0.568259958145702,
          0.2344752704038309,
          0.08981585605847624,
          0.8153955909656205,
          0.7155678200410526,
          0.049764247295445874,
          0.18855050104012247,
          0.30383350794508635,
          0.00196249520698286,
          0.018568223881453214,
          0.8202721564445046,
          0.5217898302871833,
          0.25364626350490066,
          0.04864048793721928,
          0.7034710268668362,
          0.09376875709496559,
          0.0002815473844247987,
          0.8201597720200657,
          0.04365046621008334,
          0.06717921259691272,
          0.06949324588115874,
          0.576018154817391,
          0.9231577666106425,
          0.6852523938999882,
          0.003407178243122611,
          0.9965928217568774,
          0.6700487965449242,
          0.6625520569404538,
          0.0022051049884632304,
          0.33524283807108296,
          0.6507141069039376,
          0.28378119567459265,
          0.21771115754571987,
          0.0076036352905040384,
          0.2719200509117336,
          0.7204763137977623,
          0.4657837077989901,
          0.04114979186944726,
          0.5942931412092942,
          0.13832228253129303,
          0.20136724004240977,
          0.5605826644672699,
          0.07852478800942297,
          0.36089254752330713,
          0.7577556491765607,
          0.2574247316934182,
          0.6484643333709156,
          0.06033182503770739,
          0.4752290210855745,
          0.10733013638911378,
          0.057742182142097004,
          0.06353543293244902,
          0.41765253240140193,
          0.022528962714566707,
          0.05455827042575422,
          0.5794789276668156,
          0.02178036308291873,
          0.6814775147998635,
          0.27651165212600487,
          0.7234883478739951,
          0.512435244454455,
          0.0850083287062743,
          0.3733140030803823,
          0.2015005472927072,
          0.7984994527072928,
          0.6947683297833781,
          0.6159423587409936,
          0.38405764125900643,
          0.6902001754428714,
          0.000761470796072029,
          0.40695697201676617,
          0.020070268203669646,
          0.5729727597795642,
          0.4993448472634552,
          1.950289292911782e-05,
          0.7674781306698805,
          0.006194849518598181,
          0.02460872133083965,
          0.6702305574825138,
          0.13994478314023626,
          0.1337513728614725,
          0.07802835722999026,
          0.5477086968500321,
          0.8810344902945508,
          0.3600894133484002,
          0.7867642424194986,
          0.9760425909494232,
          0.023957409050576754,
          0.034528574698398345,
          0.1335858651041532,
          0.7899625169635144,
          0.16449872702819396,
          0.6124089207978336,
          0.046157124910265614,
          0.3064037943869073,
          0.6929324331781976,
          0.0006637724348951148,
          0.26024380290613575,
          0.7397561970938643,
          0.017105777234197966,
          0.38271575419573245,
          0.5670637081298044,
          0.4239058933640606,
          0.5052879744659631,
          0.8466795042424627,
          2.4136371164444212e-05,
          0.28790286189513226,
          0.0014386928700594733,
          0.6974340359319078,
          0.30112727119803273,
          0.46438367436502276,
          0.12690788164738653,
          0.0032027159030858167,
          0.5301918180274996,
          0.20702105654460667,
          0.8829117636361494,
          0.6574986519540805,
          0.5996937243519167,
          0.4003062756480833,
          0.3073957211600009,
          0.3192215467260847,
          0.15601083804725008,
          0.6371901387586849,
          0.21685153330565277,
          0.29600155279503104,
          0.22963637337331977,
          0.06082434169232149,
          0.05028164106733254,
          0.09563182341969896,
          0.7428082608004637,
          0.2571917391995363,
          0.5796608710395542,
          0.11132899135571399,
          0.7439201627749249,
          0.04527755139002083,
          0.003985256573650373,
          0.844696372000437,
          0.15131837142591267,
          0.4241881307369476,
          0.5758118692630524,
          0.8223857698183147,
          0.17761423018168532,
          0.6373216263720788,
          0.3626783736279212,
          0.7220152916772187,
          0.5056520117892844,
          0.06414185639229422,
          0.13942927803364538,
          0.1213732410505569,
          0.3184183108250686,
          0.07066049523943613,
          0.0026202363493810963,
          0.13727088679182847,
          0.006023983948485839,
          0.6688650228268965,
          0.0011448109535512035,
          0.8307368428201075,
          0.1629045135468619,
          0.4707890517135047,
          0.0016942525739606412,
          0.8196157543983631,
          0.1803842456016369,
          0.6974730067632549,
          0.09071620695992115,
          0.5759546513160786,
          0.6628107186168523,
          0.6100875075730823,
          0.7843902777658908,
          0.6236211421491998,
          0.7165928198811568,
          0.7630758370080956,
          0.03368847004016828,
          0.2096095853095198,
          0.7903904146904802,
          0.13493651544366428,
          0.06081742015055501,
          0.6327983750362716,
          0.25015747518408304,
          0.03075885814530435,
          0.5926784687306044,
          0.00337923427408825,
          0.3174180153709797,
          0.2770052565091291,
          0.2473036816343903,
          0.7526963183656097,
          0.3063521363965947,
          0.06094978981067618,
          0.009223094628950892,
          0.591882072710066,
          0.037209843457887685,
          0.9034951114159034,
          0.0965048885840965,
          0.5582039154345586,
          0.06541311758821301,
          0.20430721644853575,
          0.3898860294766125,
          0.6101139705233876,
          0.00019485692343842233,
          0.7800111183068079,
          0.6879678314592423,
          0.20932663798865447,
          0.027464672286713093,
          0.2753852667967135,
          0.1863612124905642,
          0.41229227061282275,
          0.6184637156031071,
          0.0028862064984542762,
          0.07468123861566485,
          0.1819977104109478,
          0.8180022895890522,
          0.3307201728194615,
          0.6844021890040726,
          0.31559781099592743,
          0.44394771882766343,
          0.9781005111622931,
          0.021899488837706843,
          0.49875221945299647,
          0.13686806411837238,
          0.17964531911570397,
          0.08789732966789232,
          0.25536007720597825,
          0.26177565388202473,
          0.8408660421185554,
          0.04542569066011525,
          0.0002549782445981625,
          0.2858682223109864,
          0.011739185912976905,
          0.03368635957636851,
          0.7687560033286451,
          0.03149024510593475,
          0.5576803140570464,
          0.0007025457871589324,
          0.03087701963778449,
          0.653405660846855,
          0.3465943391531449,
          0.07698506256904028,
          0.46033261132934394,
          0.04188094879464062,
          0.339829372005418,
          0.6601706279945819,
          0.7270090381295613,
          0.2729909618704387,
          0.3563600710569457,
          0.6436399289430543,
          0.5751218022367981,
          0.9525423728813559,
          0.0271325841117342,
          0.004384124549650572,
          0.36091824775574577,
          0.6075650435828694,
          0.035453901295935945,
          0.4498649842096259,
          0.6693587852841206,
          0.08708888242096237,
          0.9129111175790376,
          0.6457634052452843,
          0.6891708673403043,
          0.3108291326596957,
          0.00817447601608737,
          0.6829134923039407,
          0.3170865076960592,
          0.5614977931125844,
          0.7101788431909974,
          0.812778223387832,
          0.09628176210642607,
          0.19976820969941791,
          0.8002317903005821,
          0.2565169501896953,
          0.31592174730599554,
          0.7349799660411898,
          0.0010870297780937411,
          0.0007246865187291607,
          0.31647513076890366,
          0.6831809051134331,
          0.00034396411766324535,
          0.12224988012297971,
          0.01380416255494752,
          0.09786820759597459,
          0.16727835313180217,
          0.09293001468778532,
          0.6625310187895048,
          0.006642576256775428,
          0.9933574237432246,
          0.02622457903496123,
          0.17110485081532356,
          0.1588778888122243,
          0.21083412943835483,
          0.1194136218188556,
          0.020285366892867907,
          0.07207898454252584,
          0.19819983606212824,
          0.6903155748853023,
          0.3096844251146977,
          0.826761281527646,
          0.015909544427821984,
          0.0016790390512366677,
          0.0017926280503428333,
          0.0014300486216531363,
          0.5885365102413482,
          0.8491696604863954,
          0.010284732360318773,
          0.8243434825698902,
          0.46354014185185266,
          0.15140040102683303,
          0.030362648304322268,
          0.5323245592740627,
          0.6394575925175388,
          0.0757293530220099,
          0.6839661997022403,
          0.015288052662215446,
          0.734396729491777,
          0.0018846796891161957,
          0.18061674008810572,
          0.015161019803091633,
          0.9553860139699198,
          0.044613986030080204,
          0.3814647285289769,
          0.6971096401233533,
          0.4514880009588959,
          0.08374676673875249,
          0.027882558020302834,
          0.11168359293564047,
          0.254329436240996,
          0.745670563759004,
          0.023987486965589156,
          0.2502606882168926,
          0.9236423536674148,
          0.07635764633258518,
          0.8304049673325157,
          0.15152000114312658,
          0.1820020717274455,
          0.8179979282725545,
          0.6429546688154353,
          0.35704533118456466,
          0.09707230770539352,
          0.2905687373315846,
          0.516344450189801,
          0.07050056913735685,
          0.028148899617455155,
          0.0009057888968397026,
          0.9025795473017602,
          0.13746974661244382,
          0.47943392402864576,
          0.0009046793635399742,
          0.007821335859335136,
          0.22309346607384498
         ],
         "xbins": {
          "start": "0"
         }
        }
       ],
       "layout": {
        "autosize": true,
        "barmode": "overlay",
        "template": {
         "data": {
          "bar": [
           {
            "error_x": {
             "color": "#2a3f5f"
            },
            "error_y": {
             "color": "#2a3f5f"
            },
            "marker": {
             "line": {
              "color": "#E5ECF6",
              "width": 0.5
             }
            },
            "type": "bar"
           }
          ],
          "barpolar": [
           {
            "marker": {
             "line": {
              "color": "#E5ECF6",
              "width": 0.5
             }
            },
            "type": "barpolar"
           }
          ],
          "carpet": [
           {
            "aaxis": {
             "endlinecolor": "#2a3f5f",
             "gridcolor": "white",
             "linecolor": "white",
             "minorgridcolor": "white",
             "startlinecolor": "#2a3f5f"
            },
            "baxis": {
             "endlinecolor": "#2a3f5f",
             "gridcolor": "white",
             "linecolor": "white",
             "minorgridcolor": "white",
             "startlinecolor": "#2a3f5f"
            },
            "type": "carpet"
           }
          ],
          "choropleth": [
           {
            "colorbar": {
             "outlinewidth": 0,
             "ticks": ""
            },
            "type": "choropleth"
           }
          ],
          "contour": [
           {
            "colorbar": {
             "outlinewidth": 0,
             "ticks": ""
            },
            "colorscale": [
             [
              0,
              "#0d0887"
             ],
             [
              0.1111111111111111,
              "#46039f"
             ],
             [
              0.2222222222222222,
              "#7201a8"
             ],
             [
              0.3333333333333333,
              "#9c179e"
             ],
             [
              0.4444444444444444,
              "#bd3786"
             ],
             [
              0.5555555555555556,
              "#d8576b"
             ],
             [
              0.6666666666666666,
              "#ed7953"
             ],
             [
              0.7777777777777778,
              "#fb9f3a"
             ],
             [
              0.8888888888888888,
              "#fdca26"
             ],
             [
              1,
              "#f0f921"
             ]
            ],
            "type": "contour"
           }
          ],
          "contourcarpet": [
           {
            "colorbar": {
             "outlinewidth": 0,
             "ticks": ""
            },
            "type": "contourcarpet"
           }
          ],
          "heatmap": [
           {
            "colorbar": {
             "outlinewidth": 0,
             "ticks": ""
            },
            "colorscale": [
             [
              0,
              "#0d0887"
             ],
             [
              0.1111111111111111,
              "#46039f"
             ],
             [
              0.2222222222222222,
              "#7201a8"
             ],
             [
              0.3333333333333333,
              "#9c179e"
             ],
             [
              0.4444444444444444,
              "#bd3786"
             ],
             [
              0.5555555555555556,
              "#d8576b"
             ],
             [
              0.6666666666666666,
              "#ed7953"
             ],
             [
              0.7777777777777778,
              "#fb9f3a"
             ],
             [
              0.8888888888888888,
              "#fdca26"
             ],
             [
              1,
              "#f0f921"
             ]
            ],
            "type": "heatmap"
           }
          ],
          "heatmapgl": [
           {
            "colorbar": {
             "outlinewidth": 0,
             "ticks": ""
            },
            "colorscale": [
             [
              0,
              "#0d0887"
             ],
             [
              0.1111111111111111,
              "#46039f"
             ],
             [
              0.2222222222222222,
              "#7201a8"
             ],
             [
              0.3333333333333333,
              "#9c179e"
             ],
             [
              0.4444444444444444,
              "#bd3786"
             ],
             [
              0.5555555555555556,
              "#d8576b"
             ],
             [
              0.6666666666666666,
              "#ed7953"
             ],
             [
              0.7777777777777778,
              "#fb9f3a"
             ],
             [
              0.8888888888888888,
              "#fdca26"
             ],
             [
              1,
              "#f0f921"
             ]
            ],
            "type": "heatmapgl"
           }
          ],
          "histogram": [
           {
            "marker": {
             "colorbar": {
              "outlinewidth": 0,
              "ticks": ""
             }
            },
            "type": "histogram"
           }
          ],
          "histogram2d": [
           {
            "colorbar": {
             "outlinewidth": 0,
             "ticks": ""
            },
            "colorscale": [
             [
              0,
              "#0d0887"
             ],
             [
              0.1111111111111111,
              "#46039f"
             ],
             [
              0.2222222222222222,
              "#7201a8"
             ],
             [
              0.3333333333333333,
              "#9c179e"
             ],
             [
              0.4444444444444444,
              "#bd3786"
             ],
             [
              0.5555555555555556,
              "#d8576b"
             ],
             [
              0.6666666666666666,
              "#ed7953"
             ],
             [
              0.7777777777777778,
              "#fb9f3a"
             ],
             [
              0.8888888888888888,
              "#fdca26"
             ],
             [
              1,
              "#f0f921"
             ]
            ],
            "type": "histogram2d"
           }
          ],
          "histogram2dcontour": [
           {
            "colorbar": {
             "outlinewidth": 0,
             "ticks": ""
            },
            "colorscale": [
             [
              0,
              "#0d0887"
             ],
             [
              0.1111111111111111,
              "#46039f"
             ],
             [
              0.2222222222222222,
              "#7201a8"
             ],
             [
              0.3333333333333333,
              "#9c179e"
             ],
             [
              0.4444444444444444,
              "#bd3786"
             ],
             [
              0.5555555555555556,
              "#d8576b"
             ],
             [
              0.6666666666666666,
              "#ed7953"
             ],
             [
              0.7777777777777778,
              "#fb9f3a"
             ],
             [
              0.8888888888888888,
              "#fdca26"
             ],
             [
              1,
              "#f0f921"
             ]
            ],
            "type": "histogram2dcontour"
           }
          ],
          "mesh3d": [
           {
            "colorbar": {
             "outlinewidth": 0,
             "ticks": ""
            },
            "type": "mesh3d"
           }
          ],
          "parcoords": [
           {
            "line": {
             "colorbar": {
              "outlinewidth": 0,
              "ticks": ""
             }
            },
            "type": "parcoords"
           }
          ],
          "pie": [
           {
            "automargin": true,
            "type": "pie"
           }
          ],
          "scatter": [
           {
            "marker": {
             "colorbar": {
              "outlinewidth": 0,
              "ticks": ""
             }
            },
            "type": "scatter"
           }
          ],
          "scatter3d": [
           {
            "line": {
             "colorbar": {
              "outlinewidth": 0,
              "ticks": ""
             }
            },
            "marker": {
             "colorbar": {
              "outlinewidth": 0,
              "ticks": ""
             }
            },
            "type": "scatter3d"
           }
          ],
          "scattercarpet": [
           {
            "marker": {
             "colorbar": {
              "outlinewidth": 0,
              "ticks": ""
             }
            },
            "type": "scattercarpet"
           }
          ],
          "scattergeo": [
           {
            "marker": {
             "colorbar": {
              "outlinewidth": 0,
              "ticks": ""
             }
            },
            "type": "scattergeo"
           }
          ],
          "scattergl": [
           {
            "marker": {
             "colorbar": {
              "outlinewidth": 0,
              "ticks": ""
             }
            },
            "type": "scattergl"
           }
          ],
          "scattermapbox": [
           {
            "marker": {
             "colorbar": {
              "outlinewidth": 0,
              "ticks": ""
             }
            },
            "type": "scattermapbox"
           }
          ],
          "scatterpolar": [
           {
            "marker": {
             "colorbar": {
              "outlinewidth": 0,
              "ticks": ""
             }
            },
            "type": "scatterpolar"
           }
          ],
          "scatterpolargl": [
           {
            "marker": {
             "colorbar": {
              "outlinewidth": 0,
              "ticks": ""
             }
            },
            "type": "scatterpolargl"
           }
          ],
          "scatterternary": [
           {
            "marker": {
             "colorbar": {
              "outlinewidth": 0,
              "ticks": ""
             }
            },
            "type": "scatterternary"
           }
          ],
          "surface": [
           {
            "colorbar": {
             "outlinewidth": 0,
             "ticks": ""
            },
            "colorscale": [
             [
              0,
              "#0d0887"
             ],
             [
              0.1111111111111111,
              "#46039f"
             ],
             [
              0.2222222222222222,
              "#7201a8"
             ],
             [
              0.3333333333333333,
              "#9c179e"
             ],
             [
              0.4444444444444444,
              "#bd3786"
             ],
             [
              0.5555555555555556,
              "#d8576b"
             ],
             [
              0.6666666666666666,
              "#ed7953"
             ],
             [
              0.7777777777777778,
              "#fb9f3a"
             ],
             [
              0.8888888888888888,
              "#fdca26"
             ],
             [
              1,
              "#f0f921"
             ]
            ],
            "type": "surface"
           }
          ],
          "table": [
           {
            "cells": {
             "fill": {
              "color": "#EBF0F8"
             },
             "line": {
              "color": "white"
             }
            },
            "header": {
             "fill": {
              "color": "#C8D4E3"
             },
             "line": {
              "color": "white"
             }
            },
            "type": "table"
           }
          ]
         },
         "layout": {
          "annotationdefaults": {
           "arrowcolor": "#2a3f5f",
           "arrowhead": 0,
           "arrowwidth": 1
          },
          "coloraxis": {
           "colorbar": {
            "outlinewidth": 0,
            "ticks": ""
           }
          },
          "colorscale": {
           "diverging": [
            [
             0,
             "#8e0152"
            ],
            [
             0.1,
             "#c51b7d"
            ],
            [
             0.2,
             "#de77ae"
            ],
            [
             0.3,
             "#f1b6da"
            ],
            [
             0.4,
             "#fde0ef"
            ],
            [
             0.5,
             "#f7f7f7"
            ],
            [
             0.6,
             "#e6f5d0"
            ],
            [
             0.7,
             "#b8e186"
            ],
            [
             0.8,
             "#7fbc41"
            ],
            [
             0.9,
             "#4d9221"
            ],
            [
             1,
             "#276419"
            ]
           ],
           "sequential": [
            [
             0,
             "#0d0887"
            ],
            [
             0.1111111111111111,
             "#46039f"
            ],
            [
             0.2222222222222222,
             "#7201a8"
            ],
            [
             0.3333333333333333,
             "#9c179e"
            ],
            [
             0.4444444444444444,
             "#bd3786"
            ],
            [
             0.5555555555555556,
             "#d8576b"
            ],
            [
             0.6666666666666666,
             "#ed7953"
            ],
            [
             0.7777777777777778,
             "#fb9f3a"
            ],
            [
             0.8888888888888888,
             "#fdca26"
            ],
            [
             1,
             "#f0f921"
            ]
           ],
           "sequentialminus": [
            [
             0,
             "#0d0887"
            ],
            [
             0.1111111111111111,
             "#46039f"
            ],
            [
             0.2222222222222222,
             "#7201a8"
            ],
            [
             0.3333333333333333,
             "#9c179e"
            ],
            [
             0.4444444444444444,
             "#bd3786"
            ],
            [
             0.5555555555555556,
             "#d8576b"
            ],
            [
             0.6666666666666666,
             "#ed7953"
            ],
            [
             0.7777777777777778,
             "#fb9f3a"
            ],
            [
             0.8888888888888888,
             "#fdca26"
            ],
            [
             1,
             "#f0f921"
            ]
           ]
          },
          "colorway": [
           "#636efa",
           "#EF553B",
           "#00cc96",
           "#ab63fa",
           "#FFA15A",
           "#19d3f3",
           "#FF6692",
           "#B6E880",
           "#FF97FF",
           "#FECB52"
          ],
          "font": {
           "color": "#2a3f5f"
          },
          "geo": {
           "bgcolor": "white",
           "lakecolor": "white",
           "landcolor": "#E5ECF6",
           "showlakes": true,
           "showland": true,
           "subunitcolor": "white"
          },
          "hoverlabel": {
           "align": "left"
          },
          "hovermode": "closest",
          "mapbox": {
           "style": "light"
          },
          "paper_bgcolor": "white",
          "plot_bgcolor": "#E5ECF6",
          "polar": {
           "angularaxis": {
            "gridcolor": "white",
            "linecolor": "white",
            "ticks": ""
           },
           "bgcolor": "#E5ECF6",
           "radialaxis": {
            "gridcolor": "white",
            "linecolor": "white",
            "ticks": ""
           }
          },
          "scene": {
           "xaxis": {
            "backgroundcolor": "#E5ECF6",
            "gridcolor": "white",
            "gridwidth": 2,
            "linecolor": "white",
            "showbackground": true,
            "ticks": "",
            "zerolinecolor": "white"
           },
           "yaxis": {
            "backgroundcolor": "#E5ECF6",
            "gridcolor": "white",
            "gridwidth": 2,
            "linecolor": "white",
            "showbackground": true,
            "ticks": "",
            "zerolinecolor": "white"
           },
           "zaxis": {
            "backgroundcolor": "#E5ECF6",
            "gridcolor": "white",
            "gridwidth": 2,
            "linecolor": "white",
            "showbackground": true,
            "ticks": "",
            "zerolinecolor": "white"
           }
          },
          "shapedefaults": {
           "line": {
            "color": "#2a3f5f"
           }
          },
          "ternary": {
           "aaxis": {
            "gridcolor": "white",
            "linecolor": "white",
            "ticks": ""
           },
           "baxis": {
            "gridcolor": "white",
            "linecolor": "white",
            "ticks": ""
           },
           "bgcolor": "#E5ECF6",
           "caxis": {
            "gridcolor": "white",
            "linecolor": "white",
            "ticks": ""
           }
          },
          "title": {
           "x": 0.05
          },
          "xaxis": {
           "automargin": true,
           "gridcolor": "white",
           "linecolor": "white",
           "ticks": "",
           "title": {
            "standoff": 15
           },
           "zerolinecolor": "white",
           "zerolinewidth": 2
          },
          "yaxis": {
           "automargin": true,
           "gridcolor": "white",
           "linecolor": "white",
           "ticks": "",
           "title": {
            "standoff": 15
           },
           "zerolinecolor": "white",
           "zerolinewidth": 2
          }
         }
        },
        "title": {
         "text": "Relative Contributions Received From Individual Donors (>$200)",
         "x": 0.5
        },
        "xaxis": {
         "autorange": true,
         "range": [
          3.469446951953614e-17,
          1.0000000000000002
         ],
         "title": {
          "text": "Percentage"
         },
         "type": "linear"
        },
        "yaxis": {
         "autorange": true,
         "range": [
          0,
          177.89473684210526
         ]
        }
       }
      },
      "image/png": "[encoded data removed]",
      "text/html": [
       "<div>                            <div id=\"50a5d68e-7a72-4e22-9c2a-807e7194c5ad\" class=\"plotly-graph-div\" style=\"height:525px; width:100%;\"></div>            <script type=\"text/javascript\">                require([\"plotly\"], function(Plotly) {                    window.PLOTLYENV=window.PLOTLYENV || {};                                    if (document.getElementById(\"50a5d68e-7a72-4e22-9c2a-807e7194c5ad\")) {                    Plotly.newPlot(                        \"50a5d68e-7a72-4e22-9c2a-807e7194c5ad\",                        [{\"name\": \"Incumbent Contributions\", \"opacity\": 0.75, \"type\": \"histogram\", \"x\": [0.8948120746936494, 0.4851264539207089, 0.9181649794015265, 0.9791247397909814, 0.8525777541957101, 0.36252608425243554, 0.8295068359174348, 0.9986647017550675, 0.6310131889913853, 0.7464345204080391, 0.7232853948937876, 0.6068814802807346, 0.8635205614069676, 0.9042337177048527, 0.5408708400580013, 0.39709055496502427, 0.6127335382835818, 0.920810097717489, 0.8787546727947853, 0.9939507835751675, 0.9809042880482061, 0.8864588180549092, 0.9743334413104422, 0.3267542227470133, 0.6921635234860021, 0.7182417970387696, 0.8639232068260599, 0.853355893965031, 0.9612213338450861, 0.9632728014690879, 0.6312036349630754, 0.9379471549678459, 0.653819552512363, 0.8995411970832411, 0.9979792147806005, 0.9681187839639085, 0.8948910868768845, 0.8398447637959235, 0.9347277530260616, 0.757965973842847, 0.9570301418075217, 0.5491651006977155, 0.8477240845547332, 0.97906340243955, 0.9854737963426248, 0.9530420948179008, 0.9964809642158049, 0.9875986127851775, 0.9308124052075853, 0.9901479239248386, 0.5135695439125518, 0.9904502569609572, 0.9162061496306786, 0.529716427421975, 0.8505068356868158, 0.567775374395707, 0.9226422829438711, 0.9638905739954358, 0.9071658552249039, 0.9953764067282529, 0.9414060477770939, 0.7916775987825996, 0.936610195652101, 0.6706535372504452, 0.9883437865792559, 0.6895439152676706, 0.8584770693062225, 0.6935042200248175, 0.9301341458253989, 0.7300871820199232, 0.9673441624912451, 0.9807914823944789, 0.865350347012359, 0.9040904906741818, 0.888564322219027, 0.9847964442188148, 0.866349798650919, 0.8597547498155487, 0.3365438000812185, 0.7348772590277077, 0.7392080014172803, 0.9074904591277583, 0.8689115103214867, 0.9478412671378693, 0.8412197510226618, 0.6248817161037471, 0.8234280111673847, 0.9985622374923938, 0.9127055950585362, 0.8086756282202585, 0.7178170370869037, 0.9874664548321005, 0.832586528841861, 0.7528267157507231, 0.9611585307375083, 0.9764721476621268, 0.5710722961249277, 0.9932618641726579, 0.46730680812902775, 0.8499163195013031, 0.9907339587175799, 0.9929676511954993, 0.663558106169297, 0.5554998897327538, 0.849909633085942, 0.9813153961136024, 0.9808378114978575, 0.4096719977703393, 0.3984730983262098, 0.9991497553541349, 0.7168098521844222, 0.5969484352377771, 0.8819737042489466, 0.9625466155125694, 0.6825333953515414, 0.5108952828058955, 0.9474317817014446, 0.5963748246429391, 0.4134663428003226, 0.9591536092138744, 0.6679681622581325, 0.7890855687659162, 0.7740245664739884, 0.7971570462970299, 0.9934229423678881, 0.9115378295038231, 0.9773032952252858, 0.8886064299623451, 0.8082401303475102, 0.9806185769641153, 0.7015509670510766, 0.9188468354652489, 0.874191084174359, 0.9976070970001167, 0.8133379508237273, 0.7002633401327536, 0.9657010537305541, 0.7304891676579791, 0.3626991524164089, 0.7012375806170472, 0.7284632996331919, 0.893277292480576, 0.7657490839386076, 0.8643472800958959, 0.9964603419677727, 0.9961390538068033, 0.9121328884054497, 0.29516633817375193, 0.6940609572235197, 0.9917237717850407, 0.8123768583198997, 0.9995021606228967, 0.4561103729970763, 0.8160101375097761, 0.9141517342554752, 0.9492765875220406, 0.7195465211261011, 0.9211791208394068, 0.9785773710482529, 0.9627657075960847, 0.6884598131827537, 0.9014218154080854, 0.9870101528645211, 0.9520961889459771, 0.9104265731037349, 0.8357479456322779, 0.3715301983714821, 0.986411889596603, 0.8272074355724546, 0.862280786991073, 0.7421515406065611, 0.7503452129145548, 0.8057061769929801, 0.9956577621843193, 0.7826276925765718, 0.8603082851637764, 0.7789864689735718, 0.3556138017917133, 0.925307121311902, 0.6776865919450757, 0.9136045312888815, 0.9439394023844426, 0.9497066703016132, 0.4635198028837379, 0.8973701090442592, 0.9495400842462502, 0.9886311700182815, 0.9461575658979771, 0.5069513156350098, 0.7850188269987692, 0.9257725224723689, 0.9880167208546214, 0.9964254056345627, 0.860354779245112, 0.5683349177013314, 0.47881004151017986, 0.9904886236478926, 0.9019068671508733, 0.7925337241502162, 0.4742971378000645, 0.8373626238081728, 0.7998988054645049, 0.9594749221282818, 0.9247574716143907, 0.8264553356219414, 0.9885929734361611, 0.6504458784274568, 0.6451183794636645, 0.9473345949226979, 0.8052226305333005, 0.46996507242199287, 0.8971540308608829, 0.8832335329341318, 0.6106236134415551, 0.9934077255692592, 0.9993768072589491, 0.5894331971734399, 0.9968157797468608, 0.9916854437062966, 0.8771325835819753, 0.2800632911392405, 0.7310963251634094, 0.9936770889317442, 0.8403868752307062, 0.7312837701175995, 0.15060136621450393, 0.24094635976751075, 0.7201079341185513, 0.8375394227374191, 0.9152419500996798, 0.5793402464381464, 0.8887306612838557, 0.6909101916511585, 0.567252453910964, 0.3365238362844252, 0.9670567209905961, 0.9808314761097632, 0.9846445065995808, 0.5143792989130946, 0.9994520592315873, 0.27964847038395496, 0.890397496404428, 0.8510908355643978, 0.8798131401058468, 0.9905016894154771, 0.7701854407278196, 0.2596648674515084, 0.9975348328123613, 0.37298937675074445, 0.9871550172770223, 0.3356863718559354, 0.4715209937643503, 0.740414954959414, 0.26246843886880855, 0.8412419292052029, 0.7655247295961691, 0.9101841439415238, 0.18460440903437947, 0.2844321799589475, 0.9502357527045541, 0.4870852719263551, 0.17972784355549543, 0.4782101697128167, 0.7463537364950993, 0.9513595120627807, 0.29652897313316384, 0.9062312429050344, 0.17955868059550945, 0.9563495337899166, 0.9328207874030873, 0.9305067541188412, 0.4239818451826089, 0.07684223338935753, 0.31474760610001185, 0.3299512034550758, 0.34928589309606245, 0.7162188043254073, 0.7822888424542801, 0.53421629220101, 0.9588502081305528, 0.40570685879070584, 0.6603104774262972, 0.2422443508234393, 0.7425752683065818, 0.3515356666290844, 0.9396681749622926, 0.5247709789144255, 0.8926698636108862, 0.942257817857903, 0.936464567067551, 0.5823474675985981, 0.9774710372854333, 0.3659628019074302, 0.9782196369170812, 0.31852248520013654, 0.487564755545545, 0.9149916712937257, 0.6266859969196177, 0.30523167021662195, 0.30903835376105654, 0.5006356498436156, 0.2263270198115214, 0.9753912786691603, 0.32976944251748624, 0.8600552168597637, 0.8662486271385275, 0.9219716427700098, 0.45229130314996785, 0.11896550970544913, 0.6399105866515997, 0.21323575758050145, 0.9654714253016017, 0.8664141348958467, 0.2100374830364856, 0.835501272971806, 0.3875910792021664, 0.9538428750897344, 0.9828942227658021, 0.6172842458042676, 0.43293629187019556, 0.5760941066359394, 0.494712025534037, 0.15332049575753726, 0.7120730017337034, 0.5356163256349772, 0.8730921183526135, 0.9967972840969141, 0.4698081819725004, 0.7929789434553933, 0.11708823636385059, 0.34250134804591953, 0.6926042788399991, 0.6807784532739153, 0.8439891619527499, 0.36280986124131515, 0.7831484666943472, 0.703998447204969, 0.7703636266266802, 0.9391756583076785, 0.9497183589326674, 0.904368176580301, 0.4203391289604458, 0.888671008644286, 0.2560798372250751, 0.9547224486099791, 0.27798470832278127, 0.49434798821071557, 0.9358581436077058, 0.8605707219663546, 0.8786267589494431, 0.6815816891749314, 0.9293395047605639, 0.9973797636506189, 0.8627291132081715, 0.9939760160515142, 0.3311349771731035, 0.9988551890464488, 0.16926315717989246, 0.8370954864531381, 0.5292109482864953, 0.9983057474260394, 0.37760581891210565, 0.6223941810878943, 0.3025269932367451, 0.9092837930400789, 0.4240453486839214, 0.33718928138314774, 0.3899124924269177, 0.2156097222341092, 0.37637885785080016, 0.2834071801188432, 0.2369241629919044, 0.9663115299598317, 0.8650634845563357, 0.939182579849445, 0.3672016249637285, 0.749842524815917, 0.9692411418546957, 0.4073215312693957, 0.9966207657259117, 0.6825819846290203, 0.7229947434908709, 0.6936478636034052, 0.9390502101893238, 0.3988948326609831, 0.9627901565421123, 0.4417960845654414, 0.934586882411787, 0.7956927835514642, 0.21979402476975363, 0.3120321685407576, 0.7906733620113455, 0.9725353277132869, 0.7246147332032865, 0.8136387875094357, 0.5877077293871772, 0.3815362843968929, 0.9971137935015457, 0.9253187613843351, 0.6692798271805386, 0.5560522811723365, 0.5012477805470036, 0.8631319358816276, 0.820354680884296, 0.9121026703321077, 0.7446399227940218, 0.7382243461179753, 0.15913395788144458, 0.9545743093398847, 0.9997450217554018, 0.7141317776890136, 0.9545744545106546, 0.23124399667135484, 0.9685097548940652, 0.44231968594295357, 0.9992974542128411, 0.9691229803622156, 0.9230149374309597, 0.539667388670656, 0.9581190512053593, 0.4248781977632019, 0.04745762711864407, 0.964546098704064, 0.5501350157903742, 0.3306412147158794, 0.3542365947547157, 0.9918255239839127, 0.43850220688741565, 0.28982115680900256, 0.18722177661216802, 0.903718237893574, 0.7434830498103048, 0.6840782526940045, 0.2632083176619874, 0.8777501198770202, 0.9861958374450525, 0.7348534392722232, 0.9070699853122147, 0.33746898121049523, 0.9737754209650388, 0.8288951491846764, 0.8411221111877757, 0.7891658705616451, 0.8805863781811444, 0.9797146331071321, 0.9279210154574742, 0.8018001639378718, 0.17323871847235395, 0.9806187884705985, 0.41003344113699863, 0.1508303395136046, 0.9897152676396812, 0.17565651743010974, 0.5364598581481473, 0.848599598973167, 0.9696373516956778, 0.4676754407259373, 0.2848130544604514, 0.3160338002977597, 0.9847119473377846, 0.2637185908191068, 0.8193832599118943, 0.9848389801969084, 0.618535271471023, 0.30289035987664675, 0.5485119990411041, 0.9162532332612475, 0.9721174419796972, 0.8883164070643595, 0.7257518248175182, 0.16959503266748435, 0.8484799988568734, 0.9029276922946065, 0.7094312626684154, 0.48365554981019904, 0.9004447423483483, 0.09742045269823982, 0.8625302533875562, 0.5196613966078143, 0.9921786641406649, 0.776906533926155], \"xbins\": {\"start\": \"0\"}}, {\"name\": \"Challenger Contributions\", \"opacity\": 0.75, \"type\": \"histogram\", \"x\": [0.009529461195600854, 0.09565846411074967, 0.7852874869754665, 0.21471251302453348, 0.514873546079291, 0.079439849263884, 0.0023951713345894674, 0.020875260209018687, 0.14742224580428984, 0.05201614237041448, 0.9479838576295855, 0.6192239439629814, 0.018249971784583097, 0.17049316408256524, 0.0013352982449325432, 0.3689868110086148, 0.2535654795919608, 0.8215997863390532, 0.17840021366094677, 0.09864652257239993, 0.0009040107641670784, 0.900449466663433, 0.27671460510621243, 0.35689598930534794, 0.03622253041391746, 0.13647943859303233, 0.09576628229514732, 0.4591291599419986, 0.6029094450349757, 0.38726646171641815, 0.07918990228251098, 0.12124532720521475, 0.006049216424832437, 0.04461867426942267, 0.9553813257305773, 0.019095711951793937, 0.11354118194509075, 0.025666558689557813, 0.6927809730152168, 0.3072190269847832, 0.6732457772529866, 0.3161355313848541, 0.6838644686151458, 0.30783647651399787, 0.2817582029612304, 0.13607679317394009, 0.40233702570128144, 0.5976629742987186, 0.14664410603496897, 0.03877866615491383, 0.0, 0.03672719853091206, 0.3687963650369246, 0.062052845032154094, 0.03632811149151018, 0.1865223455637399, 0.12332999043238695, 0.10045880291675893, 0.0020207852193995382, 0.03188121603609146, 0.1051089131231155, 0.16015523620407646, 0.06527224697393841, 0.24203402615715294, 0.042969858192478325, 0.45083489930228454, 0.15227591544526678, 0.9058086613803782, 0.09419133861962183, 0.02093659756044998, 0.014526203657375277, 0.04695790518209925, 0.988895586788921, 0.011104413211079031, 0.46570403231515856, 0.5342959676848414, 0.0035190357841951305, 0.012401387214822486, 0.06918759479241468, 0.009852076075161345, 0.3026762156049755, 0.18375424048247269, 0.009549743039042725, 0.0837938503693214, 0.47028357257802506, 0.14949316431318413, 0.4298192735482193, 0.0024053520560736617, 0.0773577170561289, 0.25985171398093965, 0.7401482860190604, 0.03610942600456423, 0.09283414477509612, 0.004623593271747071, 0.05859395222290609, 0.066910563493707, 0.9178625025246134, 0.015226933981679616, 0.20832240121740042, 0.06338980434789902, 0.32934646274955476, 0.011656213420744068, 0.31045608473232944, 0.14152293069377755, 0.3064957799751825, 0.06986585417460116, 0.2699128179800769, 0.03265583750875491, 0.019208517605521076, 0.13464965298764095, 0.09590950932581827, 0.11143567778097299, 0.015203555781185136, 0.13365020134908107, 0.1402452501844513, 0.6634561999187815, 0.26512274097229227, 0.26079199858271973, 0.0925095408722417, 0.13108848967851322, 0.05215873286213063, 0.15878024897733825, 0.3751182838962529, 0.8117375301711427, 0.010976289031356145, 0.1772861807975011, 0.17657198883261527, 0.0014377625076062274, 0.07881203763556704, 0.008482367305896717, 0.19132437177974151, 0.13191512551972637, 0.15026783739336994, 0.012533545167899552, 0.16741347115813898, 0.2471732842492769, 0.03884146926249161, 0.023527852337873214, 0.5036861371491257, 0.49631386285087437, 0.9838062802214608, 0.016193719778539197, 0.4289277038750723, 0.0067381358273420075, 0.9875324675324675, 0.012467532467532468, 0.5326931918709722, 0.15008368049869691, 0.009266041282420114, 0.9785090664875755, 0.021490933512424447, 0.007032348804500703, 0.336441893830703, 0.44450011026724623, 0.15009036691405794, 0.01868460388639761, 0.019162188502142442, 0.5903280022296606, 0.6015269016737902, 0.0008502446458650839, 0.2831901478155778, 0.2695727843798439, 0.7304272156201561, 0.403051564762223, 0.11802629575105335, 0.03745338448743058, 0.3174666046484585, 0.48910471719410453, 0.5103466608462063, 0.48965333915379367, 0.052568218298555375, 0.4036251753570609, 0.5865336571996774, 0.04084639078612562, 0.006107252647159285, 0.4220175338722532, 0.5718752134805875, 0.11805618248021425, 0.21397565526165327, 0.21091443123408377, 0.22597543352601157, 0.20284295370297012, 0.4358761849775576, 0.5641238150224424, 0.00657705763211195, 0.0070081487854153175, 0.08145402171076162, 0.02269670477471419, 0.11139357003765496, 0.19175986965248984, 0.019381423035884766, 0.29844903294892344, 0.0811531645347511, 0.11706269749660954, 0.008746218329031455, 0.002392902999883273, 0.1866620491762727, 0.2997366598672464, 0.12330716211548673, 0.8766928378845132, 0.03429894626944583, 0.26951083234202083, 0.6373008475835911, 0.2987624193829528, 0.27153670036680805, 0.10672270751942409, 0.23425091606139242, 0.752488784957526, 0.247511215042474, 0.1356527199041041, 0.0035396580322273794, 0.0038609461931966692, 0.08786711159455025, 0.7048336618262481, 0.3059390427764803, 0.008276228214959293, 0.1876231416801003, 0.0004978393771033713, 0.5438896270029236, 0.18301967112492698, 0.0009701913652968489, 0.08584826574452478, 0.050723412477959466, 0.4820597984787694, 0.5179402015212305, 0.869385756462879, 0.13061424353712106, 0.28045347887389893, 0.07882087916059317, 0.021422628951747087, 0.03723429240391529, 0.9945020708866327, 0.0054979291133672985, 0.29966620929864374, 0.011873977518602565, 0.09857818459191457, 0.01298984713547891, 0.04790381105402287, 0.08957342689626517, 0.16425205436772208, 0.6284698016285178, 0.013588110403397028, 0.17279256442754543, 0.13771921300892695, 0.2578484593934389, 0.2496547870854452, 0.19429382300701994, 0.004342237815680689, 0.21737230742342814, 0.1396917148362235, 0.22101353102642812, 0.6443861982082867, 0.022764782880883273, 0.05192809580721481, 0.32231340805492426, 0.08639546871111849, 0.0560605976155574, 0.05029332969838682, 0.536480197116262, 0.10262989095574086, 0.05045991575374978, 0.011368829981718464, 0.053842434102022975, 0.49304868436499016, 0.21498117300123076, 0.07422747752763117, 0.011983279145378542, 0.37889576370352807, 0.6211042362964719, 0.0035745943654372373, 0.13964522075488803, 0.4316650822986686, 0.5211899584898201, 0.009511376352107423, 0.09809313284912673, 0.09285165014909212, 0.9071483498509079, 0.2074662758497838, 0.5257028621999355, 0.08079138554142563, 0.08184599065040149, 0.20010119453549507, 0.04052507787171827, 0.07524252838560926, 0.17354466437805857, 0.011407026563838903, 0.3495541215725432, 0.3548816205363355, 0.0526654050773021, 0.19477736946669957, 0.5300349275780071, 0.10284596913911713, 0.11676646706586827, 0.38937638655844486, 0.006592274430740892, 0.19305156784354194, 0.8069484321564581, 0.8461251789812291, 0.15387482101877095, 0.0006231927410509522, 0.4105668028265601, 0.0031842202531392667, 0.008314556293703387, 0.5704531930583703, 0.02157516836013399, 0.40797163858149577, 0.12286741641802464, 0.7199367088607594, 0.26890367483659067, 0.006322911068255825, 0.15961312476929382, 0.2687162298824005, 0.8493986337854961, 0.7590536402324892, 0.2798920658814486, 0.5798090270498903, 0.42019097295010965, 0.9632684633730138, 0.03673153662698627, 0.16246057726258087, 0.08475804990032018, 0.4206597535618536, 0.11126933871614429, 0.3090898083488414, 0.43274754608903593, 0.6634761637155747, 0.03294327900940386, 0.019168523890236853, 0.4450036958688399, 0.5549963041311601, 0.7523223778386816, 0.2476776221613184, 0.015355493400419213, 0.48562070108690536, 0.0005479407684126993, 0.00029894604384190485, 0.7200525835722031, 0.10960250359557201, 0.14890916443560218, 0.12018685989415324, 0.00949831058452287, 0.22981455927218045, 0.7403351325484916, 0.0024651671876386658, 0.6270106232492555, 0.012844982722977696, 0.6643136281440646, 0.5284790062356497, 0.13967840526628392, 0.11990663977430212, 0.7375315611311914, 0.15875807079479712, 0.43174004185429804, 0.568259958145702, 0.2344752704038309, 0.08981585605847624, 0.8153955909656205, 0.7155678200410526, 0.049764247295445874, 0.18855050104012247, 0.30383350794508635, 0.00196249520698286, 0.018568223881453214, 0.8202721564445046, 0.5217898302871833, 0.25364626350490066, 0.04864048793721928, 0.7034710268668362, 0.09376875709496559, 0.0002815473844247987, 0.8201597720200657, 0.04365046621008334, 0.06717921259691272, 0.06949324588115874, 0.576018154817391, 0.9231577666106425, 0.6852523938999882, 0.003407178243122611, 0.9965928217568774, 0.6700487965449242, 0.6625520569404538, 0.0022051049884632304, 0.33524283807108296, 0.6507141069039376, 0.28378119567459265, 0.21771115754571987, 0.0076036352905040384, 0.2719200509117336, 0.7204763137977623, 0.4657837077989901, 0.04114979186944726, 0.5942931412092942, 0.13832228253129303, 0.20136724004240977, 0.5605826644672699, 0.07852478800942297, 0.36089254752330713, 0.7577556491765607, 0.2574247316934182, 0.6484643333709156, 0.06033182503770739, 0.4752290210855745, 0.10733013638911378, 0.057742182142097004, 0.06353543293244902, 0.41765253240140193, 0.022528962714566707, 0.05455827042575422, 0.5794789276668156, 0.02178036308291873, 0.6814775147998635, 0.27651165212600487, 0.7234883478739951, 0.512435244454455, 0.0850083287062743, 0.3733140030803823, 0.2015005472927072, 0.7984994527072928, 0.6947683297833781, 0.6159423587409936, 0.38405764125900643, 0.6902001754428714, 0.000761470796072029, 0.40695697201676617, 0.020070268203669646, 0.5729727597795642, 0.4993448472634552, 1.950289292911782e-05, 0.7674781306698805, 0.006194849518598181, 0.02460872133083965, 0.6702305574825138, 0.13994478314023626, 0.1337513728614725, 0.07802835722999026, 0.5477086968500321, 0.8810344902945508, 0.3600894133484002, 0.7867642424194986, 0.9760425909494232, 0.023957409050576754, 0.034528574698398345, 0.1335858651041532, 0.7899625169635144, 0.16449872702819396, 0.6124089207978336, 0.046157124910265614, 0.3064037943869073, 0.6929324331781976, 0.0006637724348951148, 0.26024380290613575, 0.7397561970938643, 0.017105777234197966, 0.38271575419573245, 0.5670637081298044, 0.4239058933640606, 0.5052879744659631, 0.8466795042424627, 2.4136371164444212e-05, 0.28790286189513226, 0.0014386928700594733, 0.6974340359319078, 0.30112727119803273, 0.46438367436502276, 0.12690788164738653, 0.0032027159030858167, 0.5301918180274996, 0.20702105654460667, 0.8829117636361494, 0.6574986519540805, 0.5996937243519167, 0.4003062756480833, 0.3073957211600009, 0.3192215467260847, 0.15601083804725008, 0.6371901387586849, 0.21685153330565277, 0.29600155279503104, 0.22963637337331977, 0.06082434169232149, 0.05028164106733254, 0.09563182341969896, 0.7428082608004637, 0.2571917391995363, 0.5796608710395542, 0.11132899135571399, 0.7439201627749249, 0.04527755139002083, 0.003985256573650373, 0.844696372000437, 0.15131837142591267, 0.4241881307369476, 0.5758118692630524, 0.8223857698183147, 0.17761423018168532, 0.6373216263720788, 0.3626783736279212, 0.7220152916772187, 0.5056520117892844, 0.06414185639229422, 0.13942927803364538, 0.1213732410505569, 0.3184183108250686, 0.07066049523943613, 0.0026202363493810963, 0.13727088679182847, 0.006023983948485839, 0.6688650228268965, 0.0011448109535512035, 0.8307368428201075, 0.1629045135468619, 0.4707890517135047, 0.0016942525739606412, 0.8196157543983631, 0.1803842456016369, 0.6974730067632549, 0.09071620695992115, 0.5759546513160786, 0.6628107186168523, 0.6100875075730823, 0.7843902777658908, 0.6236211421491998, 0.7165928198811568, 0.7630758370080956, 0.03368847004016828, 0.2096095853095198, 0.7903904146904802, 0.13493651544366428, 0.06081742015055501, 0.6327983750362716, 0.25015747518408304, 0.03075885814530435, 0.5926784687306044, 0.00337923427408825, 0.3174180153709797, 0.2770052565091291, 0.2473036816343903, 0.7526963183656097, 0.3063521363965947, 0.06094978981067618, 0.009223094628950892, 0.591882072710066, 0.037209843457887685, 0.9034951114159034, 0.0965048885840965, 0.5582039154345586, 0.06541311758821301, 0.20430721644853575, 0.3898860294766125, 0.6101139705233876, 0.00019485692343842233, 0.7800111183068079, 0.6879678314592423, 0.20932663798865447, 0.027464672286713093, 0.2753852667967135, 0.1863612124905642, 0.41229227061282275, 0.6184637156031071, 0.0028862064984542762, 0.07468123861566485, 0.1819977104109478, 0.8180022895890522, 0.3307201728194615, 0.6844021890040726, 0.31559781099592743, 0.44394771882766343, 0.9781005111622931, 0.021899488837706843, 0.49875221945299647, 0.13686806411837238, 0.17964531911570397, 0.08789732966789232, 0.25536007720597825, 0.26177565388202473, 0.8408660421185554, 0.04542569066011525, 0.0002549782445981625, 0.2858682223109864, 0.011739185912976905, 0.03368635957636851, 0.7687560033286451, 0.03149024510593475, 0.5576803140570464, 0.0007025457871589324, 0.03087701963778449, 0.653405660846855, 0.3465943391531449, 0.07698506256904028, 0.46033261132934394, 0.04188094879464062, 0.339829372005418, 0.6601706279945819, 0.7270090381295613, 0.2729909618704387, 0.3563600710569457, 0.6436399289430543, 0.5751218022367981, 0.9525423728813559, 0.0271325841117342, 0.004384124549650572, 0.36091824775574577, 0.6075650435828694, 0.035453901295935945, 0.4498649842096259, 0.6693587852841206, 0.08708888242096237, 0.9129111175790376, 0.6457634052452843, 0.6891708673403043, 0.3108291326596957, 0.00817447601608737, 0.6829134923039407, 0.3170865076960592, 0.5614977931125844, 0.7101788431909974, 0.812778223387832, 0.09628176210642607, 0.19976820969941791, 0.8002317903005821, 0.2565169501896953, 0.31592174730599554, 0.7349799660411898, 0.0010870297780937411, 0.0007246865187291607, 0.31647513076890366, 0.6831809051134331, 0.00034396411766324535, 0.12224988012297971, 0.01380416255494752, 0.09786820759597459, 0.16727835313180217, 0.09293001468778532, 0.6625310187895048, 0.006642576256775428, 0.9933574237432246, 0.02622457903496123, 0.17110485081532356, 0.1588778888122243, 0.21083412943835483, 0.1194136218188556, 0.020285366892867907, 0.07207898454252584, 0.19819983606212824, 0.6903155748853023, 0.3096844251146977, 0.826761281527646, 0.015909544427821984, 0.0016790390512366677, 0.0017926280503428333, 0.0014300486216531363, 0.5885365102413482, 0.8491696604863954, 0.010284732360318773, 0.8243434825698902, 0.46354014185185266, 0.15140040102683303, 0.030362648304322268, 0.5323245592740627, 0.6394575925175388, 0.0757293530220099, 0.6839661997022403, 0.015288052662215446, 0.734396729491777, 0.0018846796891161957, 0.18061674008810572, 0.015161019803091633, 0.9553860139699198, 0.044613986030080204, 0.3814647285289769, 0.6971096401233533, 0.4514880009588959, 0.08374676673875249, 0.027882558020302834, 0.11168359293564047, 0.254329436240996, 0.745670563759004, 0.023987486965589156, 0.2502606882168926, 0.9236423536674148, 0.07635764633258518, 0.8304049673325157, 0.15152000114312658, 0.1820020717274455, 0.8179979282725545, 0.6429546688154353, 0.35704533118456466, 0.09707230770539352, 0.2905687373315846, 0.516344450189801, 0.07050056913735685, 0.028148899617455155, 0.0009057888968397026, 0.9025795473017602, 0.13746974661244382, 0.47943392402864576, 0.0009046793635399742, 0.007821335859335136, 0.22309346607384498], \"xbins\": {\"start\": \"0\"}}],                        {\"barmode\": \"overlay\", \"template\": {\"data\": {\"bar\": [{\"error_x\": {\"color\": \"#2a3f5f\"}, \"error_y\": {\"color\": \"#2a3f5f\"}, \"marker\": {\"line\": {\"color\": \"#E5ECF6\", \"width\": 0.5}}, \"type\": \"bar\"}], \"barpolar\": [{\"marker\": {\"line\": {\"color\": \"#E5ECF6\", \"width\": 0.5}}, \"type\": \"barpolar\"}], \"carpet\": [{\"aaxis\": {\"endlinecolor\": \"#2a3f5f\", \"gridcolor\": \"white\", \"linecolor\": \"white\", \"minorgridcolor\": \"white\", \"startlinecolor\": \"#2a3f5f\"}, \"baxis\": {\"endlinecolor\": \"#2a3f5f\", \"gridcolor\": \"white\", \"linecolor\": \"white\", \"minorgridcolor\": \"white\", \"startlinecolor\": \"#2a3f5f\"}, \"type\": \"carpet\"}], \"choropleth\": [{\"colorbar\": {\"outlinewidth\": 0, \"ticks\": \"\"}, \"type\": \"choropleth\"}], \"contour\": [{\"colorbar\": {\"outlinewidth\": 0, \"ticks\": \"\"}, \"colorscale\": [[0.0, \"#0d0887\"], [0.1111111111111111, \"#46039f\"], [0.2222222222222222, \"#7201a8\"], [0.3333333333333333, \"#9c179e\"], [0.4444444444444444, \"#bd3786\"], [0.5555555555555556, \"#d8576b\"], [0.6666666666666666, \"#ed7953\"], [0.7777777777777778, \"#fb9f3a\"], [0.8888888888888888, \"#fdca26\"], [1.0, \"#f0f921\"]], \"type\": \"contour\"}], \"contourcarpet\": [{\"colorbar\": {\"outlinewidth\": 0, \"ticks\": \"\"}, \"type\": \"contourcarpet\"}], \"heatmap\": [{\"colorbar\": {\"outlinewidth\": 0, \"ticks\": \"\"}, \"colorscale\": [[0.0, \"#0d0887\"], [0.1111111111111111, \"#46039f\"], [0.2222222222222222, \"#7201a8\"], [0.3333333333333333, \"#9c179e\"], [0.4444444444444444, \"#bd3786\"], [0.5555555555555556, \"#d8576b\"], [0.6666666666666666, \"#ed7953\"], [0.7777777777777778, \"#fb9f3a\"], [0.8888888888888888, \"#fdca26\"], [1.0, \"#f0f921\"]], \"type\": \"heatmap\"}], \"heatmapgl\": [{\"colorbar\": {\"outlinewidth\": 0, \"ticks\": \"\"}, \"colorscale\": [[0.0, \"#0d0887\"], [0.1111111111111111, \"#46039f\"], [0.2222222222222222, \"#7201a8\"], [0.3333333333333333, \"#9c179e\"], [0.4444444444444444, \"#bd3786\"], [0.5555555555555556, \"#d8576b\"], [0.6666666666666666, \"#ed7953\"], [0.7777777777777778, \"#fb9f3a\"], [0.8888888888888888, \"#fdca26\"], [1.0, \"#f0f921\"]], \"type\": \"heatmapgl\"}], \"histogram\": [{\"marker\": {\"colorbar\": {\"outlinewidth\": 0, \"ticks\": \"\"}}, \"type\": \"histogram\"}], \"histogram2d\": [{\"colorbar\": {\"outlinewidth\": 0, \"ticks\": \"\"}, \"colorscale\": [[0.0, \"#0d0887\"], [0.1111111111111111, \"#46039f\"], [0.2222222222222222, \"#7201a8\"], [0.3333333333333333, \"#9c179e\"], [0.4444444444444444, \"#bd3786\"], [0.5555555555555556, \"#d8576b\"], [0.6666666666666666, \"#ed7953\"], [0.7777777777777778, \"#fb9f3a\"], [0.8888888888888888, \"#fdca26\"], [1.0, \"#f0f921\"]], \"type\": \"histogram2d\"}], \"histogram2dcontour\": [{\"colorbar\": {\"outlinewidth\": 0, \"ticks\": \"\"}, \"colorscale\": [[0.0, \"#0d0887\"], [0.1111111111111111, \"#46039f\"], [0.2222222222222222, \"#7201a8\"], [0.3333333333333333, \"#9c179e\"], [0.4444444444444444, \"#bd3786\"], [0.5555555555555556, \"#d8576b\"], [0.6666666666666666, \"#ed7953\"], [0.7777777777777778, \"#fb9f3a\"], [0.8888888888888888, \"#fdca26\"], [1.0, \"#f0f921\"]], \"type\": \"histogram2dcontour\"}], \"mesh3d\": [{\"colorbar\": {\"outlinewidth\": 0, \"ticks\": \"\"}, \"type\": \"mesh3d\"}], \"parcoords\": [{\"line\": {\"colorbar\": {\"outlinewidth\": 0, \"ticks\": \"\"}}, \"type\": \"parcoords\"}], \"pie\": [{\"automargin\": true, \"type\": \"pie\"}], \"scatter\": [{\"marker\": {\"colorbar\": {\"outlinewidth\": 0, \"ticks\": \"\"}}, \"type\": \"scatter\"}], \"scatter3d\": [{\"line\": {\"colorbar\": {\"outlinewidth\": 0, \"ticks\": \"\"}}, \"marker\": {\"colorbar\": {\"outlinewidth\": 0, \"ticks\": \"\"}}, \"type\": \"scatter3d\"}], \"scattercarpet\": [{\"marker\": {\"colorbar\": {\"outlinewidth\": 0, \"ticks\": \"\"}}, \"type\": \"scattercarpet\"}], \"scattergeo\": [{\"marker\": {\"colorbar\": {\"outlinewidth\": 0, \"ticks\": \"\"}}, \"type\": \"scattergeo\"}], \"scattergl\": [{\"marker\": {\"colorbar\": {\"outlinewidth\": 0, \"ticks\": \"\"}}, \"type\": \"scattergl\"}], \"scattermapbox\": [{\"marker\": {\"colorbar\": {\"outlinewidth\": 0, \"ticks\": \"\"}}, \"type\": \"scattermapbox\"}], \"scatterpolar\": [{\"marker\": {\"colorbar\": {\"outlinewidth\": 0, \"ticks\": \"\"}}, \"type\": \"scatterpolar\"}], \"scatterpolargl\": [{\"marker\": {\"colorbar\": {\"outlinewidth\": 0, \"ticks\": \"\"}}, \"type\": \"scatterpolargl\"}], \"scatterternary\": [{\"marker\": {\"colorbar\": {\"outlinewidth\": 0, \"ticks\": \"\"}}, \"type\": \"scatterternary\"}], \"surface\": [{\"colorbar\": {\"outlinewidth\": 0, \"ticks\": \"\"}, \"colorscale\": [[0.0, \"#0d0887\"], [0.1111111111111111, \"#46039f\"], [0.2222222222222222, \"#7201a8\"], [0.3333333333333333, \"#9c179e\"], [0.4444444444444444, \"#bd3786\"], [0.5555555555555556, \"#d8576b\"], [0.6666666666666666, \"#ed7953\"], [0.7777777777777778, \"#fb9f3a\"], [0.8888888888888888, \"#fdca26\"], [1.0, \"#f0f921\"]], \"type\": \"surface\"}], \"table\": [{\"cells\": {\"fill\": {\"color\": \"#EBF0F8\"}, \"line\": {\"color\": \"white\"}}, \"header\": {\"fill\": {\"color\": \"#C8D4E3\"}, \"line\": {\"color\": \"white\"}}, \"type\": \"table\"}]}, \"layout\": {\"annotationdefaults\": {\"arrowcolor\": \"#2a3f5f\", \"arrowhead\": 0, \"arrowwidth\": 1}, \"coloraxis\": {\"colorbar\": {\"outlinewidth\": 0, \"ticks\": \"\"}}, \"colorscale\": {\"diverging\": [[0, \"#8e0152\"], [0.1, \"#c51b7d\"], [0.2, \"#de77ae\"], [0.3, \"#f1b6da\"], [0.4, \"#fde0ef\"], [0.5, \"#f7f7f7\"], [0.6, \"#e6f5d0\"], [0.7, \"#b8e186\"], [0.8, \"#7fbc41\"], [0.9, \"#4d9221\"], [1, \"#276419\"]], \"sequential\": [[0.0, \"#0d0887\"], [0.1111111111111111, \"#46039f\"], [0.2222222222222222, \"#7201a8\"], [0.3333333333333333, \"#9c179e\"], [0.4444444444444444, \"#bd3786\"], [0.5555555555555556, \"#d8576b\"], [0.6666666666666666, \"#ed7953\"], [0.7777777777777778, \"#fb9f3a\"], [0.8888888888888888, \"#fdca26\"], [1.0, \"#f0f921\"]], \"sequentialminus\": [[0.0, \"#0d0887\"], [0.1111111111111111, \"#46039f\"], [0.2222222222222222, \"#7201a8\"], [0.3333333333333333, \"#9c179e\"], [0.4444444444444444, \"#bd3786\"], [0.5555555555555556, \"#d8576b\"], [0.6666666666666666, \"#ed7953\"], [0.7777777777777778, \"#fb9f3a\"], [0.8888888888888888, \"#fdca26\"], [1.0, \"#f0f921\"]]}, \"colorway\": [\"#636efa\", \"#EF553B\", \"#00cc96\", \"#ab63fa\", \"#FFA15A\", \"#19d3f3\", \"#FF6692\", \"#B6E880\", \"#FF97FF\", \"#FECB52\"], \"font\": {\"color\": \"#2a3f5f\"}, \"geo\": {\"bgcolor\": \"white\", \"lakecolor\": \"white\", \"landcolor\": \"#E5ECF6\", \"showlakes\": true, \"showland\": true, \"subunitcolor\": \"white\"}, \"hoverlabel\": {\"align\": \"left\"}, \"hovermode\": \"closest\", \"mapbox\": {\"style\": \"light\"}, \"paper_bgcolor\": \"white\", \"plot_bgcolor\": \"#E5ECF6\", \"polar\": {\"angularaxis\": {\"gridcolor\": \"white\", \"linecolor\": \"white\", \"ticks\": \"\"}, \"bgcolor\": \"#E5ECF6\", \"radialaxis\": {\"gridcolor\": \"white\", \"linecolor\": \"white\", \"ticks\": \"\"}}, \"scene\": {\"xaxis\": {\"backgroundcolor\": \"#E5ECF6\", \"gridcolor\": \"white\", \"gridwidth\": 2, \"linecolor\": \"white\", \"showbackground\": true, \"ticks\": \"\", \"zerolinecolor\": \"white\"}, \"yaxis\": {\"backgroundcolor\": \"#E5ECF6\", \"gridcolor\": \"white\", \"gridwidth\": 2, \"linecolor\": \"white\", \"showbackground\": true, \"ticks\": \"\", \"zerolinecolor\": \"white\"}, \"zaxis\": {\"backgroundcolor\": \"#E5ECF6\", \"gridcolor\": \"white\", \"gridwidth\": 2, \"linecolor\": \"white\", \"showbackground\": true, \"ticks\": \"\", \"zerolinecolor\": \"white\"}}, \"shapedefaults\": {\"line\": {\"color\": \"#2a3f5f\"}}, \"ternary\": {\"aaxis\": {\"gridcolor\": \"white\", \"linecolor\": \"white\", \"ticks\": \"\"}, \"baxis\": {\"gridcolor\": \"white\", \"linecolor\": \"white\", \"ticks\": \"\"}, \"bgcolor\": \"#E5ECF6\", \"caxis\": {\"gridcolor\": \"white\", \"linecolor\": \"white\", \"ticks\": \"\"}}, \"title\": {\"x\": 0.05}, \"xaxis\": {\"automargin\": true, \"gridcolor\": \"white\", \"linecolor\": \"white\", \"ticks\": \"\", \"title\": {\"standoff\": 15}, \"zerolinecolor\": \"white\", \"zerolinewidth\": 2}, \"yaxis\": {\"automargin\": true, \"gridcolor\": \"white\", \"linecolor\": \"white\", \"ticks\": \"\", \"title\": {\"standoff\": 15}, \"zerolinecolor\": \"white\", \"zerolinewidth\": 2}}}, \"title\": {\"text\": \"Relative Contributions Received From Individual Donors (>$200)\", \"x\": 0.5}, \"xaxis\": {\"title\": {\"text\": \"Percentage\"}}},                        {\"responsive\": true}                    ).then(function(){\n",
       "                            \n",
       "var gd = document.getElementById('50a5d68e-7a72-4e22-9c2a-807e7194c5ad');\n",
       "var x = new MutationObserver(function (mutations, observer) {{\n",
       "        var display = window.getComputedStyle(gd).display;\n",
       "        if (!display || display === 'none') {{\n",
       "            console.log([gd, 'removed!']);\n",
       "            Plotly.purge(gd);\n",
       "            observer.disconnect();\n",
       "        }}\n",
       "}});\n",
       "\n",
       "// Listen for the removal of the full notebook cells\n",
       "var notebookContainer = gd.closest('#notebook-container');\n",
       "if (notebookContainer) {{\n",
       "    x.observe(notebookContainer, {childList: true});\n",
       "}}\n",
       "\n",
       "// Listen for the clearing of the current output cell\n",
       "var outputEl = gd.closest('.output');\n",
       "if (outputEl) {{\n",
       "    x.observe(outputEl, {childList: true});\n",
       "}}\n",
       "\n",
       "                        })                };                });            </script>        </div>"
      ]
     },
     "metadata": {},
     "output_type": "display_data"
    }
   ],
   "source": [
    "import plotly.graph_objects as go\n",
    "\n",
    "fig = go.Figure()\n",
    "fig.add_trace(go.Histogram(x=incumbent_donations, name='Incumbent Contributions', xbins = dict(start='0')))\n",
    "fig.add_trace(go.Histogram(x=challenger_donations, name = 'Challenger Contributions', xbins = dict(start='0')))\n",
    "\n",
    "\n",
    "#xbins = dict(start='0',end='500000',size= 50000)\n",
    "\n",
    "# Overlay both histograms\n",
    "fig.update_layout(barmode='overlay', \n",
    "                  title_text='Relative Contributions Received From Individual Donors (>$200)', \n",
    "                  title_x=0.5,\n",
    "                  xaxis_title ='Percentage')\n",
    "\n",
    "# Reduce opacity to see both histograms\n",
    "fig.update_traces(opacity=0.75)\n",
    "fig.show()"
   ]
  },
  {
   "cell_type": "markdown",
   "metadata": {},
   "source": [
    "Box Plot of Total Donations - by incumbent receipts/challenger receipts"
   ]
  },
  {
   "cell_type": "code",
   "execution_count": 85,
   "metadata": {},
   "outputs": [],
   "source": [
    "incumbent_donations_dol = list(df_house.filter('CAND_ICU == 1.0').select('TOTAL_DONATIONS').rdd.map(lambda row: row[0]).collect())\n",
    "challenger_donations_dol = list(df_house.filter('CAND_ICU == 0.0').select('TOTAL_DONATIONS').rdd.map(lambda row: row[0]).collect())"
   ]
  },
  {
   "cell_type": "code",
   "execution_count": 90,
   "metadata": {},
   "outputs": [
    {
     "data": {
      "application/vnd.plotly.v1+json": {
       "config": {
        "plotlyServerURL": "https://plot.ly"
       },
       "data": [
        {
         "name": "Incumbent Contributions",
         "type": "box",
         "x": [
          206579,
          627921,
          230004,
          1103923,
          234597,
          150970,
          201858,
          411343,
          66216,
          61392,
          371713,
          303252,
          280310,
          267636,
          607253,
          374319,
          177985,
          251976,
          140338,
          123233,
          277386,
          57150,
          243635,
          324878,
          124089,
          65100,
          97200,
          59007,
          430755,
          141630,
          226159,
          422533,
          113439,
          231550,
          172850,
          302146,
          127028,
          139148,
          142245,
          353698,
          232766,
          1331442,
          70100,
          181722,
          305285,
          116213,
          453070,
          453926,
          289061,
          693460,
          21800,
          154950,
          218681,
          973364,
          718970,
          480355,
          569393,
          66734,
          104530,
          215282,
          654650,
          271566,
          279137,
          96780,
          985358,
          478509,
          576057,
          591858,
          153860,
          548432,
          574556,
          214453,
          996489,
          606972,
          176125,
          372451,
          513100,
          276173,
          677078,
          131180,
          237835,
          233510,
          263414,
          155827,
          551539,
          83866,
          770974,
          1076514,
          127076,
          280942,
          223918,
          525817,
          255490,
          143150,
          100220,
          147335,
          123423,
          147409,
          307965,
          306224,
          673602,
          7060,
          34225,
          1362714,
          313660,
          65650,
          360299,
          436560,
          366765,
          435974,
          131078,
          536000,
          86870,
          179385,
          187825,
          409620,
          118050,
          1179268,
          167157,
          143240,
          177578,
          202028,
          21425,
          382350,
          134882,
          188599,
          116260,
          158347,
          453392,
          279390,
          201785,
          52366,
          259772,
          358953,
          82200,
          1189176,
          288593,
          1296928,
          414827,
          80460,
          391034,
          162798,
          293615,
          181710,
          833842,
          400164,
          148425,
          821272,
          70434,
          463255,
          399124,
          100384,
          244773,
          164852,
          34895,
          78602,
          138299,
          305872,
          94100,
          532912,
          104365,
          295441,
          189958,
          479389,
          78883,
          42919,
          448204,
          174225,
          97900,
          204101,
          364884,
          564042,
          171472,
          57324,
          35824,
          44650,
          498905,
          508101,
          113810,
          157144,
          77100,
          169355,
          181148,
          101585,
          86738,
          508097,
          173050,
          295450,
          30229,
          257684,
          374163,
          212720,
          310251,
          142350,
          471111,
          169561,
          265550,
          185644,
          195759,
          751382,
          135775,
          145444,
          30187,
          744009,
          158410,
          288422,
          339389,
          389427,
          132660,
          186033,
          960313,
          265650,
          29500,
          228176,
          827303,
          160364,
          39538,
          798274,
          119271,
          114650,
          565161,
          224372,
          188586,
          248157,
          75927,
          226065,
          327868,
          179870,
          139952,
          45450,
          173305,
          64281,
          262483,
          408002,
          955127,
          227268,
          198484,
          441104,
          491850,
          370275,
          1591197,
          545421,
          288330,
          405300,
          532359,
          267346,
          256122,
          101163,
          413709,
          199122,
          194732,
          229800,
          478699,
          622467,
          62670,
          109986,
          388503,
          823382,
          426518,
          421001,
          161328,
          680143,
          2988771,
          312664,
          378721,
          866514,
          2249623,
          733420,
          289750,
          388504,
          178755,
          329754,
          806175,
          53249,
          108256,
          1068782,
          97231,
          135900,
          136051,
          92600,
          259710,
          83454,
          20240,
          625486,
          813778,
          93450,
          792125,
          286672,
          239064,
          745806,
          463746,
          225614,
          205599,
          169681,
          270639,
          67105,
          247185,
          207920,
          149895,
          405844,
          693085,
          290524,
          99090,
          597070,
          318684,
          393574,
          150404,
          39400,
          163308,
          207260,
          517604,
          172942,
          537052,
          572345,
          168351,
          1926642,
          255111,
          173586,
          309802,
          551818,
          521962,
          597203,
          265535,
          6401950,
          195275,
          92154,
          311235,
          69191,
          215450,
          228569,
          262965,
          91973,
          212650,
          88775,
          2132038,
          132031,
          54405,
          143850,
          314220,
          130837,
          304508,
          800770,
          328563,
          243156,
          137059,
          488465,
          96779,
          162450,
          533090,
          191690,
          826884,
          211224,
          245516,
          573582,
          426038,
          524187,
          261752,
          498491,
          242196,
          133005,
          153200,
          824295,
          1358656,
          407365,
          54427,
          9650,
          1039885,
          120350,
          453457,
          315649,
          310156,
          145656,
          325245,
          237780,
          110415,
          16451,
          172610,
          148070,
          357667,
          511400,
          112439,
          305620,
          480236,
          275430,
          99474,
          239987,
          71176,
          384904,
          495976,
          575268,
          1119060,
          184540,
          664618,
          2917846,
          117487,
          278959,
          196276,
          155464,
          127000,
          194565,
          115675,
          615422,
          131600,
          194333,
          448241,
          114195,
          178888,
          341515,
          115787,
          121548,
          76877,
          187025,
          616068,
          378820,
          195036,
          1088132,
          86313,
          447869,
          88200,
          133580,
          438213,
          12950,
          268166,
          475913,
          99319,
          359350,
          60666,
          145645,
          1694704,
          666400,
          157059,
          66825,
          189175,
          363203,
          248951,
          175890,
          150570,
          91400,
          1179610,
          332927,
          120930,
          216991,
          237082,
          370689,
          94275,
          182613,
          762977,
          655738,
          4152494,
          74549,
          782998,
          543708,
          504775,
          251038,
          398667,
          161656,
          1338930,
          417426,
          310982,
          1884524,
          716429,
          18600,
          298290,
          42254,
          1509820,
          512534,
          43216,
          711031,
          29827,
          173999,
          539117,
          593796,
          212309,
          232050,
          197360,
          298230,
          142036,
          104775,
          574415,
          799189,
          64303
         ]
        },
        {
         "name": "Challenger Contributions",
         "type": "box",
         "x": [
          2200,
          22084,
          207257,
          56668,
          666424,
          19900,
          600,
          23536,
          40565,
          3145,
          57317,
          257869,
          7600,
          41489,
          550,
          38720,
          20855,
          123051,
          26719,
          695537,
          6374,
          6348890,
          142210,
          178337,
          18100,
          44303,
          28345,
          515479,
          568335,
          112492,
          21670,
          19363,
          750,
          5947,
          127338,
          5400,
          7320,
          6418,
          1191408,
          528339,
          669380,
          69669,
          150708,
          55188,
          25538,
          15310,
          254759,
          378439,
          10140,
          17378,
          0,
          5400,
          132139,
          27954,
          6303,
          32362,
          21398,
          25859,
          350,
          9950,
          14920,
          26535,
          9933,
          112943,
          10451,
          1093042,
          12592,
          77222,
          8030,
          3886,
          4500,
          5726,
          93507,
          1050,
          934084,
          1071662,
          1600,
          5700,
          21486,
          6900,
          12848,
          7800,
          1494,
          20000,
          864155,
          126373,
          363640,
          2035,
          47740,
          59195,
          168608,
          2500,
          10697,
          1000,
          40746,
          26172,
          359021,
          5956,
          71460,
          18892,
          47527,
          11621,
          215441,
          94965,
          261573,
          11557,
          202755,
          19396,
          4200,
          155055,
          64390,
          22088,
          5750,
          79155,
          45050,
          1334779,
          47326,
          83908,
          23804,
          39740,
          8575,
          104103,
          50345,
          148647,
          2010,
          32465,
          165324,
          1550,
          10973,
          1181,
          66468,
          41150,
          46875,
          6674,
          51373,
          47000,
          4050,
          3550,
          1103805,
          1087649,
          286265,
          4712,
          92702,
          1000,
          142575,
          1800,
          351056,
          54075,
          6300,
          145700,
          3200,
          50,
          17353,
          1090417,
          55391,
          1250,
          7039,
          629073,
          553661,
          371,
          51785,
          188347,
          510340,
          361900,
          11625,
          6980,
          87363,
          392149,
          837066,
          803125,
          6550,
          798126,
          237125,
          6100,
          5364,
          370658,
          502278,
          31385,
          56885,
          54000,
          6255,
          97292,
          46807,
          60579,
          893,
          1450,
          16853,
          2700,
          19850,
          107570,
          5522,
          85842,
          4625,
          34786,
          2599,
          861,
          18865,
          509008,
          23919,
          170060,
          10250,
          478496,
          728895,
          34280,
          145759,
          19450,
          89820,
          630706,
          207454,
          28518,
          2962,
          1551,
          14298,
          1961132,
          31047,
          3866,
          92180,
          50,
          291880,
          36974,
          196,
          3277,
          4200,
          512915,
          551092,
          603658,
          90692,
          53904,
          26172,
          2060,
          20610,
          271330,
          1500,
          45427,
          1800,
          32309,
          2500,
          24120,
          7761,
          8435,
          758169,
          2400,
          20450,
          32598,
          126773,
          187668,
          41350,
          250,
          9950,
          7250,
          141549,
          920699,
          2800,
          6387,
          74739,
          7291,
          10058,
          9593,
          117575,
          9920,
          27001,
          1990,
          16813,
          29400,
          70568,
          30000,
          2580,
          49541,
          81210,
          1113,
          23105,
          357821,
          184569,
          2550,
          20191,
          152986,
          1494653,
          51245,
          832819,
          13100,
          13271,
          36384,
          1275,
          60536,
          33264,
          3328,
          182390,
          214225,
          7375,
          45000,
          1083058,
          30453,
          3900,
          145501,
          5490,
          1367897,
          5717759,
          1380416,
          251040,
          100,
          27540,
          2550,
          1000,
          1474415,
          55764,
          1054459,
          16060,
          1452815,
          82526,
          1200,
          47132,
          27900,
          1275017,
          1032883,
          69912,
          2032898,
          1473253,
          658761,
          25120,
          27147,
          4209,
          125837,
          8048,
          117426,
          311258,
          1883088,
          7742,
          3879,
          400951,
          500055,
          522928,
          172157,
          6879,
          464351,
          203,
          1701,
          4097092,
          67138,
          50447,
          55366,
          5105,
          79773,
          730234,
          250,
          695462,
          2591,
          385369,
          257559,
          90306,
          77523,
          1749121,
          11827,
          972940,
          1280592,
          33688,
          38337,
          3636869,
          1073024,
          22048,
          62450,
          100633,
          650,
          6150,
          3104151,
          3261140,
          106258,
          19363,
          2055676,
          232771,
          1150,
          3350000,
          13225,
          27979,
          13350,
          448001,
          9685126,
          115931,
          500,
          146249,
          219841,
          1030287,
          3429,
          521312,
          1991124,
          38525,
          37821,
          7575,
          270896,
          717763,
          118623,
          3974,
          380432,
          17482,
          25450,
          106370,
          14900,
          68479,
          63312,
          216834,
          1501145,
          6000,
          717343,
          34468,
          14650,
          50600,
          332593,
          5200,
          30651,
          325553,
          3778,
          579031,
          1646190,
          4307230,
          70528,
          22965,
          123857,
          663823,
          2630575,
          341191,
          365454,
          227871,
          906404,
          1000,
          639727,
          31550,
          900700,
          691298,
          27,
          985171,
          7952,
          2500,
          1213498,
          51855,
          60769,
          12729,
          47712,
          1209426,
          116629,
          1909775,
          220000,
          5400,
          6185,
          82804,
          2152621,
          33146,
          3044169,
          12345,
          799508,
          1808088,
          1732,
          163894,
          465877,
          3021,
          192077,
          722776,
          384074,
          609970,
          1466360,
          217,
          2588414,
          650,
          315100,
          136049,
          169305,
          13395,
          1000,
          78084,
          56247,
          1723540,
          504813,
          299577,
          199973,
          40820,
          99713,
          16410,
          3744423,
          36559,
          22875,
          42880,
          20350,
          6927,
          32200,
          1668513,
          577710,
          1104287,
          41161,
          706376,
          6500,
          985,
          208776,
          37400,
          226810,
          307882,
          747223,
          161381,
          470648,
          267830,
          1268700,
          98992,
          11134,
          86371,
          26480,
          386300,
          16060,
          645,
          91264,
          2582,
          1058814,
          300,
          2446574,
          47133,
          118322,
          260,
          199483,
          43903,
          939176,
          5430,
          13107,
          2044095,
          188309,
          1649681,
          522998,
          784227,
          469123,
          11339,
          600962,
          2266092,
          37090,
          7150,
          28350,
          57585,
          4699,
          520428,
          1734,
          52287,
          117094,
          174312,
          530538,
          212098,
          17877,
          2300,
          147600,
          9275,
          189715,
          20264,
          89930,
          26940,
          127350,
          309458,
          484256,
          510,
          2041527,
          2467301,
          48856,
          18769,
          1108909,
          26910,
          195697,
          318160,
          450,
          10250,
          103495,
          465166,
          96143,
          236617,
          109111,
          92354,
          280708,
          6285,
          612358,
          20868,
          42556,
          43196,
          39161,
          63434,
          1804570,
          5510,
          31,
          30774,
          2300,
          6600,
          2048079,
          12317,
          245903,
          765,
          2750,
          1207904,
          640724,
          37355,
          75234,
          5839,
          504283,
          979647,
          950938,
          357076,
          67604,
          122103,
          593172,
          259925,
          26253,
          4242,
          349218,
          587869,
          9857,
          389171,
          201064,
          11071,
          116052,
          655085,
          1441558,
          650170,
          500,
          831762,
          386199,
          186497,
          4152709,
          2893015,
          16733,
          53607,
          214739,
          23056,
          87365,
          1014204,
          1500,
          1000,
          1012090,
          2184818,
          1100,
          34673,
          2462,
          20053,
          34275,
          9364,
          2315852,
          1000,
          149544,
          8966,
          24963,
          40987,
          63339,
          50268,
          1952,
          14185,
          188603,
          1596274,
          716109,
          3129432,
          67370,
          7110,
          7591,
          260,
          107003,
          4408252,
          5650,
          2368873,
          216915,
          71127,
          5062,
          1524017,
          937198,
          110990,
          673033,
          29258,
          1995093,
          5120,
          4100,
          4592,
          664192,
          31016,
          26059,
          3474888,
          421874,
          3950,
          20394,
          3750,
          38874,
          113975,
          5751,
          60000,
          275311,
          22760,
          2639732,
          106039,
          803304,
          3610404,
          229801,
          127613,
          22825,
          95043,
          210699,
          23350,
          9323,
          300,
          1315933,
          16699,
          529949,
          1000,
          6300,
          18465
         ]
        }
       ],
       "layout": {
        "autosize": true,
        "template": {
         "data": {
          "bar": [
           {
            "error_x": {
             "color": "#2a3f5f"
            },
            "error_y": {
             "color": "#2a3f5f"
            },
            "marker": {
             "line": {
              "color": "#E5ECF6",
              "width": 0.5
             }
            },
            "type": "bar"
           }
          ],
          "barpolar": [
           {
            "marker": {
             "line": {
              "color": "#E5ECF6",
              "width": 0.5
             }
            },
            "type": "barpolar"
           }
          ],
          "carpet": [
           {
            "aaxis": {
             "endlinecolor": "#2a3f5f",
             "gridcolor": "white",
             "linecolor": "white",
             "minorgridcolor": "white",
             "startlinecolor": "#2a3f5f"
            },
            "baxis": {
             "endlinecolor": "#2a3f5f",
             "gridcolor": "white",
             "linecolor": "white",
             "minorgridcolor": "white",
             "startlinecolor": "#2a3f5f"
            },
            "type": "carpet"
           }
          ],
          "choropleth": [
           {
            "colorbar": {
             "outlinewidth": 0,
             "ticks": ""
            },
            "type": "choropleth"
           }
          ],
          "contour": [
           {
            "colorbar": {
             "outlinewidth": 0,
             "ticks": ""
            },
            "colorscale": [
             [
              0,
              "#0d0887"
             ],
             [
              0.1111111111111111,
              "#46039f"
             ],
             [
              0.2222222222222222,
              "#7201a8"
             ],
             [
              0.3333333333333333,
              "#9c179e"
             ],
             [
              0.4444444444444444,
              "#bd3786"
             ],
             [
              0.5555555555555556,
              "#d8576b"
             ],
             [
              0.6666666666666666,
              "#ed7953"
             ],
             [
              0.7777777777777778,
              "#fb9f3a"
             ],
             [
              0.8888888888888888,
              "#fdca26"
             ],
             [
              1,
              "#f0f921"
             ]
            ],
            "type": "contour"
           }
          ],
          "contourcarpet": [
           {
            "colorbar": {
             "outlinewidth": 0,
             "ticks": ""
            },
            "type": "contourcarpet"
           }
          ],
          "heatmap": [
           {
            "colorbar": {
             "outlinewidth": 0,
             "ticks": ""
            },
            "colorscale": [
             [
              0,
              "#0d0887"
             ],
             [
              0.1111111111111111,
              "#46039f"
             ],
             [
              0.2222222222222222,
              "#7201a8"
             ],
             [
              0.3333333333333333,
              "#9c179e"
             ],
             [
              0.4444444444444444,
              "#bd3786"
             ],
             [
              0.5555555555555556,
              "#d8576b"
             ],
             [
              0.6666666666666666,
              "#ed7953"
             ],
             [
              0.7777777777777778,
              "#fb9f3a"
             ],
             [
              0.8888888888888888,
              "#fdca26"
             ],
             [
              1,
              "#f0f921"
             ]
            ],
            "type": "heatmap"
           }
          ],
          "heatmapgl": [
           {
            "colorbar": {
             "outlinewidth": 0,
             "ticks": ""
            },
            "colorscale": [
             [
              0,
              "#0d0887"
             ],
             [
              0.1111111111111111,
              "#46039f"
             ],
             [
              0.2222222222222222,
              "#7201a8"
             ],
             [
              0.3333333333333333,
              "#9c179e"
             ],
             [
              0.4444444444444444,
              "#bd3786"
             ],
             [
              0.5555555555555556,
              "#d8576b"
             ],
             [
              0.6666666666666666,
              "#ed7953"
             ],
             [
              0.7777777777777778,
              "#fb9f3a"
             ],
             [
              0.8888888888888888,
              "#fdca26"
             ],
             [
              1,
              "#f0f921"
             ]
            ],
            "type": "heatmapgl"
           }
          ],
          "histogram": [
           {
            "marker": {
             "colorbar": {
              "outlinewidth": 0,
              "ticks": ""
             }
            },
            "type": "histogram"
           }
          ],
          "histogram2d": [
           {
            "colorbar": {
             "outlinewidth": 0,
             "ticks": ""
            },
            "colorscale": [
             [
              0,
              "#0d0887"
             ],
             [
              0.1111111111111111,
              "#46039f"
             ],
             [
              0.2222222222222222,
              "#7201a8"
             ],
             [
              0.3333333333333333,
              "#9c179e"
             ],
             [
              0.4444444444444444,
              "#bd3786"
             ],
             [
              0.5555555555555556,
              "#d8576b"
             ],
             [
              0.6666666666666666,
              "#ed7953"
             ],
             [
              0.7777777777777778,
              "#fb9f3a"
             ],
             [
              0.8888888888888888,
              "#fdca26"
             ],
             [
              1,
              "#f0f921"
             ]
            ],
            "type": "histogram2d"
           }
          ],
          "histogram2dcontour": [
           {
            "colorbar": {
             "outlinewidth": 0,
             "ticks": ""
            },
            "colorscale": [
             [
              0,
              "#0d0887"
             ],
             [
              0.1111111111111111,
              "#46039f"
             ],
             [
              0.2222222222222222,
              "#7201a8"
             ],
             [
              0.3333333333333333,
              "#9c179e"
             ],
             [
              0.4444444444444444,
              "#bd3786"
             ],
             [
              0.5555555555555556,
              "#d8576b"
             ],
             [
              0.6666666666666666,
              "#ed7953"
             ],
             [
              0.7777777777777778,
              "#fb9f3a"
             ],
             [
              0.8888888888888888,
              "#fdca26"
             ],
             [
              1,
              "#f0f921"
             ]
            ],
            "type": "histogram2dcontour"
           }
          ],
          "mesh3d": [
           {
            "colorbar": {
             "outlinewidth": 0,
             "ticks": ""
            },
            "type": "mesh3d"
           }
          ],
          "parcoords": [
           {
            "line": {
             "colorbar": {
              "outlinewidth": 0,
              "ticks": ""
             }
            },
            "type": "parcoords"
           }
          ],
          "pie": [
           {
            "automargin": true,
            "type": "pie"
           }
          ],
          "scatter": [
           {
            "marker": {
             "colorbar": {
              "outlinewidth": 0,
              "ticks": ""
             }
            },
            "type": "scatter"
           }
          ],
          "scatter3d": [
           {
            "line": {
             "colorbar": {
              "outlinewidth": 0,
              "ticks": ""
             }
            },
            "marker": {
             "colorbar": {
              "outlinewidth": 0,
              "ticks": ""
             }
            },
            "type": "scatter3d"
           }
          ],
          "scattercarpet": [
           {
            "marker": {
             "colorbar": {
              "outlinewidth": 0,
              "ticks": ""
             }
            },
            "type": "scattercarpet"
           }
          ],
          "scattergeo": [
           {
            "marker": {
             "colorbar": {
              "outlinewidth": 0,
              "ticks": ""
             }
            },
            "type": "scattergeo"
           }
          ],
          "scattergl": [
           {
            "marker": {
             "colorbar": {
              "outlinewidth": 0,
              "ticks": ""
             }
            },
            "type": "scattergl"
           }
          ],
          "scattermapbox": [
           {
            "marker": {
             "colorbar": {
              "outlinewidth": 0,
              "ticks": ""
             }
            },
            "type": "scattermapbox"
           }
          ],
          "scatterpolar": [
           {
            "marker": {
             "colorbar": {
              "outlinewidth": 0,
              "ticks": ""
             }
            },
            "type": "scatterpolar"
           }
          ],
          "scatterpolargl": [
           {
            "marker": {
             "colorbar": {
              "outlinewidth": 0,
              "ticks": ""
             }
            },
            "type": "scatterpolargl"
           }
          ],
          "scatterternary": [
           {
            "marker": {
             "colorbar": {
              "outlinewidth": 0,
              "ticks": ""
             }
            },
            "type": "scatterternary"
           }
          ],
          "surface": [
           {
            "colorbar": {
             "outlinewidth": 0,
             "ticks": ""
            },
            "colorscale": [
             [
              0,
              "#0d0887"
             ],
             [
              0.1111111111111111,
              "#46039f"
             ],
             [
              0.2222222222222222,
              "#7201a8"
             ],
             [
              0.3333333333333333,
              "#9c179e"
             ],
             [
              0.4444444444444444,
              "#bd3786"
             ],
             [
              0.5555555555555556,
              "#d8576b"
             ],
             [
              0.6666666666666666,
              "#ed7953"
             ],
             [
              0.7777777777777778,
              "#fb9f3a"
             ],
             [
              0.8888888888888888,
              "#fdca26"
             ],
             [
              1,
              "#f0f921"
             ]
            ],
            "type": "surface"
           }
          ],
          "table": [
           {
            "cells": {
             "fill": {
              "color": "#EBF0F8"
             },
             "line": {
              "color": "white"
             }
            },
            "header": {
             "fill": {
              "color": "#C8D4E3"
             },
             "line": {
              "color": "white"
             }
            },
            "type": "table"
           }
          ]
         },
         "layout": {
          "annotationdefaults": {
           "arrowcolor": "#2a3f5f",
           "arrowhead": 0,
           "arrowwidth": 1
          },
          "coloraxis": {
           "colorbar": {
            "outlinewidth": 0,
            "ticks": ""
           }
          },
          "colorscale": {
           "diverging": [
            [
             0,
             "#8e0152"
            ],
            [
             0.1,
             "#c51b7d"
            ],
            [
             0.2,
             "#de77ae"
            ],
            [
             0.3,
             "#f1b6da"
            ],
            [
             0.4,
             "#fde0ef"
            ],
            [
             0.5,
             "#f7f7f7"
            ],
            [
             0.6,
             "#e6f5d0"
            ],
            [
             0.7,
             "#b8e186"
            ],
            [
             0.8,
             "#7fbc41"
            ],
            [
             0.9,
             "#4d9221"
            ],
            [
             1,
             "#276419"
            ]
           ],
           "sequential": [
            [
             0,
             "#0d0887"
            ],
            [
             0.1111111111111111,
             "#46039f"
            ],
            [
             0.2222222222222222,
             "#7201a8"
            ],
            [
             0.3333333333333333,
             "#9c179e"
            ],
            [
             0.4444444444444444,
             "#bd3786"
            ],
            [
             0.5555555555555556,
             "#d8576b"
            ],
            [
             0.6666666666666666,
             "#ed7953"
            ],
            [
             0.7777777777777778,
             "#fb9f3a"
            ],
            [
             0.8888888888888888,
             "#fdca26"
            ],
            [
             1,
             "#f0f921"
            ]
           ],
           "sequentialminus": [
            [
             0,
             "#0d0887"
            ],
            [
             0.1111111111111111,
             "#46039f"
            ],
            [
             0.2222222222222222,
             "#7201a8"
            ],
            [
             0.3333333333333333,
             "#9c179e"
            ],
            [
             0.4444444444444444,
             "#bd3786"
            ],
            [
             0.5555555555555556,
             "#d8576b"
            ],
            [
             0.6666666666666666,
             "#ed7953"
            ],
            [
             0.7777777777777778,
             "#fb9f3a"
            ],
            [
             0.8888888888888888,
             "#fdca26"
            ],
            [
             1,
             "#f0f921"
            ]
           ]
          },
          "colorway": [
           "#636efa",
           "#EF553B",
           "#00cc96",
           "#ab63fa",
           "#FFA15A",
           "#19d3f3",
           "#FF6692",
           "#B6E880",
           "#FF97FF",
           "#FECB52"
          ],
          "font": {
           "color": "#2a3f5f"
          },
          "geo": {
           "bgcolor": "white",
           "lakecolor": "white",
           "landcolor": "#E5ECF6",
           "showlakes": true,
           "showland": true,
           "subunitcolor": "white"
          },
          "hoverlabel": {
           "align": "left"
          },
          "hovermode": "closest",
          "mapbox": {
           "style": "light"
          },
          "paper_bgcolor": "white",
          "plot_bgcolor": "#E5ECF6",
          "polar": {
           "angularaxis": {
            "gridcolor": "white",
            "linecolor": "white",
            "ticks": ""
           },
           "bgcolor": "#E5ECF6",
           "radialaxis": {
            "gridcolor": "white",
            "linecolor": "white",
            "ticks": ""
           }
          },
          "scene": {
           "xaxis": {
            "backgroundcolor": "#E5ECF6",
            "gridcolor": "white",
            "gridwidth": 2,
            "linecolor": "white",
            "showbackground": true,
            "ticks": "",
            "zerolinecolor": "white"
           },
           "yaxis": {
            "backgroundcolor": "#E5ECF6",
            "gridcolor": "white",
            "gridwidth": 2,
            "linecolor": "white",
            "showbackground": true,
            "ticks": "",
            "zerolinecolor": "white"
           },
           "zaxis": {
            "backgroundcolor": "#E5ECF6",
            "gridcolor": "white",
            "gridwidth": 2,
            "linecolor": "white",
            "showbackground": true,
            "ticks": "",
            "zerolinecolor": "white"
           }
          },
          "shapedefaults": {
           "line": {
            "color": "#2a3f5f"
           }
          },
          "ternary": {
           "aaxis": {
            "gridcolor": "white",
            "linecolor": "white",
            "ticks": ""
           },
           "baxis": {
            "gridcolor": "white",
            "linecolor": "white",
            "ticks": ""
           },
           "bgcolor": "#E5ECF6",
           "caxis": {
            "gridcolor": "white",
            "linecolor": "white",
            "ticks": ""
           }
          },
          "title": {
           "x": 0.05
          },
          "xaxis": {
           "automargin": true,
           "gridcolor": "white",
           "linecolor": "white",
           "ticks": "",
           "title": {
            "standoff": 15
           },
           "zerolinecolor": "white",
           "zerolinewidth": 2
          },
          "yaxis": {
           "automargin": true,
           "gridcolor": "white",
           "linecolor": "white",
           "ticks": "",
           "title": {
            "standoff": 15
           },
           "zerolinecolor": "white",
           "zerolinewidth": 2
          }
         }
        },
        "title": {
         "text": "Total Contributions Received From Individual Donors (>$200)",
         "x": 0.5
        },
        "xaxis": {
         "autorange": true,
         "range": [
          -538062.5555555555,
          10223188.555555556
         ],
         "title": {
          "text": "US Dollars"
         },
         "type": "linear"
        },
        "yaxis": {
         "autorange": true,
         "range": [
          -0.5,
          1.5
         ],
         "type": "category"
        }
       }
      },
      "image/png": "[encoded data removed]",
      "text/html": [
       "<div>                            <div id=\"63a68027-940e-4dca-a153-d78712683350\" class=\"plotly-graph-div\" style=\"height:525px; width:100%;\"></div>            <script type=\"text/javascript\">                require([\"plotly\"], function(Plotly) {                    window.PLOTLYENV=window.PLOTLYENV || {};                                    if (document.getElementById(\"63a68027-940e-4dca-a153-d78712683350\")) {                    Plotly.newPlot(                        \"63a68027-940e-4dca-a153-d78712683350\",                        [{\"name\": \"Incumbent Contributions\", \"type\": \"box\", \"x\": [206579.0, 627921.0, 230004.0, 1103923.0, 234597.0, 150970.0, 201858.0, 411343.0, 66216.0, 61392.0, 371713.0, 303252.0, 280310.0, 267636.0, 607253.0, 374319.0, 177985.0, 251976.0, 140338.0, 123233.0, 277386.0, 57150.0, 243635.0, 324878.0, 124089.0, 65100.0, 97200.0, 59007.0, 430755.0, 141630.0, 226159.0, 422533.0, 113439.0, 231550.0, 172850.0, 302146.0, 127028.0, 139148.0, 142245.0, 353698.0, 232766.0, 1331442.0, 70100.0, 181722.0, 305285.0, 116213.0, 453070.0, 453926.0, 289061.0, 693460.0, 21800.0, 154950.0, 218681.0, 973364.0, 718970.0, 480355.0, 569393.0, 66734.0, 104530.0, 215282.0, 654650.0, 271566.0, 279137.0, 96780.0, 985358.0, 478509.0, 576057.0, 591858.0, 153860.0, 548432.0, 574556.0, 214453.0, 996489.0, 606972.0, 176125.0, 372451.0, 513100.0, 276173.0, 677078.0, 131180.0, 237835.0, 233510.0, 263414.0, 155827.0, 551539.0, 83866.0, 770974.0, 1076514.0, 127076.0, 280942.0, 223918.0, 525817.0, 255490.0, 143150.0, 100220.0, 147335.0, 123423.0, 147409.0, 307965.0, 306224.0, 673602.0, 7060.0, 34225.0, 1362714.0, 313660.0, 65650.0, 360299.0, 436560.0, 366765.0, 435974.0, 131078.0, 536000.0, 86870.0, 179385.0, 187825.0, 409620.0, 118050.0, 1179268.0, 167157.0, 143240.0, 177578.0, 202028.0, 21425.0, 382350.0, 134882.0, 188599.0, 116260.0, 158347.0, 453392.0, 279390.0, 201785.0, 52366.0, 259772.0, 358953.0, 82200.0, 1189176.0, 288593.0, 1296928.0, 414827.0, 80460.0, 391034.0, 162798.0, 293615.0, 181710.0, 833842.0, 400164.0, 148425.0, 821272.0, 70434.0, 463255.0, 399124.0, 100384.0, 244773.0, 164852.0, 34895.0, 78602.0, 138299.0, 305872.0, 94100.0, 532912.0, 104365.0, 295441.0, 189958.0, 479389.0, 78883.0, 42919.0, 448204.0, 174225.0, 97900.0, 204101.0, 364884.0, 564042.0, 171472.0, 57324.0, 35824.0, 44650.0, 498905.0, 508101.0, 113810.0, 157144.0, 77100.0, 169355.0, 181148.0, 101585.0, 86738.0, 508097.0, 173050.0, 295450.0, 30229.0, 257684.0, 374163.0, 212720.0, 310251.0, 142350.0, 471111.0, 169561.0, 265550.0, 185644.0, 195759.0, 751382.0, 135775.0, 145444.0, 30187.0, 744009.0, 158410.0, 288422.0, 339389.0, 389427.0, 132660.0, 186033.0, 960313.0, 265650.0, 29500.0, 228176.0, 827303.0, 160364.0, 39538.0, 798274.0, 119271.0, 114650.0, 565161.0, 224372.0, 188586.0, 248157.0, 75927.0, 226065.0, 327868.0, 179870.0, 139952.0, 45450.0, 173305.0, 64281.0, 262483.0, 408002.0, 955127.0, 227268.0, 198484.0, 441104.0, 491850.0, 370275.0, 1591197.0, 545421.0, 288330.0, 405300.0, 532359.0, 267346.0, 256122.0, 101163.0, 413709.0, 199122.0, 194732.0, 229800.0, 478699.0, 622467.0, 62670.0, 109986.0, 388503.0, 823382.0, 426518.0, 421001.0, 161328.0, 680143.0, 2988771.0, 312664.0, 378721.0, 866514.0, 2249623.0, 733420.0, 289750.0, 388504.0, 178755.0, 329754.0, 806175.0, 53249.0, 108256.0, 1068782.0, 97231.0, 135900.0, 136051.0, 92600.0, 259710.0, 83454.0, 20240.0, 625486.0, 813778.0, 93450.0, 792125.0, 286672.0, 239064.0, 745806.0, 463746.0, 225614.0, 205599.0, 169681.0, 270639.0, 67105.0, 247185.0, 207920.0, 149895.0, 405844.0, 693085.0, 290524.0, 99090.0, 597070.0, 318684.0, 393574.0, 150404.0, 39400.0, 163308.0, 207260.0, 517604.0, 172942.0, 537052.0, 572345.0, 168351.0, 1926642.0, 255111.0, 173586.0, 309802.0, 551818.0, 521962.0, 597203.0, 265535.0, 6401950.0, 195275.0, 92154.0, 311235.0, 69191.0, 215450.0, 228569.0, 262965.0, 91973.0, 212650.0, 88775.0, 2132038.0, 132031.0, 54405.0, 143850.0, 314220.0, 130837.0, 304508.0, 800770.0, 328563.0, 243156.0, 137059.0, 488465.0, 96779.0, 162450.0, 533090.0, 191690.0, 826884.0, 211224.0, 245516.0, 573582.0, 426038.0, 524187.0, 261752.0, 498491.0, 242196.0, 133005.0, 153200.0, 824295.0, 1358656.0, 407365.0, 54427.0, 9650.0, 1039885.0, 120350.0, 453457.0, 315649.0, 310156.0, 145656.0, 325245.0, 237780.0, 110415.0, 16451.0, 172610.0, 148070.0, 357667.0, 511400.0, 112439.0, 305620.0, 480236.0, 275430.0, 99474.0, 239987.0, 71176.0, 384904.0, 495976.0, 575268.0, 1119060.0, 184540.0, 664618.0, 2917846.0, 117487.0, 278959.0, 196276.0, 155464.0, 127000.0, 194565.0, 115675.0, 615422.0, 131600.0, 194333.0, 448241.0, 114195.0, 178888.0, 341515.0, 115787.0, 121548.0, 76877.0, 187025.0, 616068.0, 378820.0, 195036.0, 1088132.0, 86313.0, 447869.0, 88200.0, 133580.0, 438213.0, 12950.0, 268166.0, 475913.0, 99319.0, 359350.0, 60666.0, 145645.0, 1694704.0, 666400.0, 157059.0, 66825.0, 189175.0, 363203.0, 248951.0, 175890.0, 150570.0, 91400.0, 1179610.0, 332927.0, 120930.0, 216991.0, 237082.0, 370689.0, 94275.0, 182613.0, 762977.0, 655738.0, 4152494.0, 74549.0, 782998.0, 543708.0, 504775.0, 251038.0, 398667.0, 161656.0, 1338930.0, 417426.0, 310982.0, 1884524.0, 716429.0, 18600.0, 298290.0, 42254.0, 1509820.0, 512534.0, 43216.0, 711031.0, 29827.0, 173999.0, 539117.0, 593796.0, 212309.0, 232050.0, 197360.0, 298230.0, 142036.0, 104775.0, 574415.0, 799189.0, 64303.0]}, {\"name\": \"Challenger Contributions\", \"type\": \"box\", \"x\": [2200.0, 22084.0, 207257.0, 56668.0, 666424.0, 19900.0, 600.0, 23536.0, 40565.0, 3145.0, 57317.0, 257869.0, 7600.0, 41489.0, 550.0, 38720.0, 20855.0, 123051.0, 26719.0, 695537.0, 6374.0, 6348890.0, 142210.0, 178337.0, 18100.0, 44303.0, 28345.0, 515479.0, 568335.0, 112492.0, 21670.0, 19363.0, 750.0, 5947.0, 127338.0, 5400.0, 7320.0, 6418.0, 1191408.0, 528339.0, 669380.0, 69669.0, 150708.0, 55188.0, 25538.0, 15310.0, 254759.0, 378439.0, 10140.0, 17378.0, 0.0, 5400.0, 132139.0, 27954.0, 6303.0, 32362.0, 21398.0, 25859.0, 350.0, 9950.0, 14920.0, 26535.0, 9933.0, 112943.0, 10451.0, 1093042.0, 12592.0, 77222.0, 8030.0, 3886.0, 4500.0, 5726.0, 93507.0, 1050.0, 934084.0, 1071662.0, 1600.0, 5700.0, 21486.0, 6900.0, 12848.0, 7800.0, 1494.0, 20000.0, 864155.0, 126373.0, 363640.0, 2035.0, 47740.0, 59195.0, 168608.0, 2500.0, 10697.0, 1000.0, 40746.0, 26172.0, 359021.0, 5956.0, 71460.0, 18892.0, 47527.0, 11621.0, 215441.0, 94965.0, 261573.0, 11557.0, 202755.0, 19396.0, 4200.0, 155055.0, 64390.0, 22088.0, 5750.0, 79155.0, 45050.0, 1334779.0, 47326.0, 83908.0, 23804.0, 39740.0, 8575.0, 104103.0, 50345.0, 148647.0, 2010.0, 32465.0, 165324.0, 1550.0, 10973.0, 1181.0, 66468.0, 41150.0, 46875.0, 6674.0, 51373.0, 47000.0, 4050.0, 3550.0, 1103805.0, 1087649.0, 286265.0, 4712.0, 92702.0, 1000.0, 142575.0, 1800.0, 351056.0, 54075.0, 6300.0, 145700.0, 3200.0, 50.0, 17353.0, 1090417.0, 55391.0, 1250.0, 7039.0, 629073.0, 553661.0, 371.0, 51785.0, 188347.0, 510340.0, 361900.0, 11625.0, 6980.0, 87363.0, 392149.0, 837066.0, 803125.0, 6550.0, 798126.0, 237125.0, 6100.0, 5364.0, 370658.0, 502278.0, 31385.0, 56885.0, 54000.0, 6255.0, 97292.0, 46807.0, 60579.0, 893.0, 1450.0, 16853.0, 2700.0, 19850.0, 107570.0, 5522.0, 85842.0, 4625.0, 34786.0, 2599.0, 861.0, 18865.0, 509008.0, 23919.0, 170060.0, 10250.0, 478496.0, 728895.0, 34280.0, 145759.0, 19450.0, 89820.0, 630706.0, 207454.0, 28518.0, 2962.0, 1551.0, 14298.0, 1961132.0, 31047.0, 3866.0, 92180.0, 50.0, 291880.0, 36974.0, 196.0, 3277.0, 4200.0, 512915.0, 551092.0, 603658.0, 90692.0, 53904.0, 26172.0, 2060.0, 20610.0, 271330.0, 1500.0, 45427.0, 1800.0, 32309.0, 2500.0, 24120.0, 7761.0, 8435.0, 758169.0, 2400.0, 20450.0, 32598.0, 126773.0, 187668.0, 41350.0, 250.0, 9950.0, 7250.0, 141549.0, 920699.0, 2800.0, 6387.0, 74739.0, 7291.0, 10058.0, 9593.0, 117575.0, 9920.0, 27001.0, 1990.0, 16813.0, 29400.0, 70568.0, 30000.0, 2580.0, 49541.0, 81210.0, 1113.0, 23105.0, 357821.0, 184569.0, 2550.0, 20191.0, 152986.0, 1494653.0, 51245.0, 832819.0, 13100.0, 13271.0, 36384.0, 1275.0, 60536.0, 33264.0, 3328.0, 182390.0, 214225.0, 7375.0, 45000.0, 1083058.0, 30453.0, 3900.0, 145501.0, 5490.0, 1367897.0, 5717759.0, 1380416.0, 251040.0, 100.0, 27540.0, 2550.0, 1000.0, 1474415.0, 55764.0, 1054459.0, 16060.0, 1452815.0, 82526.0, 1200.0, 47132.0, 27900.0, 1275017.0, 1032883.0, 69912.0, 2032898.0, 1473253.0, 658761.0, 25120.0, 27147.0, 4209.0, 125837.0, 8048.0, 117426.0, 311258.0, 1883088.0, 7742.0, 3879.0, 400951.0, 500055.0, 522928.0, 172157.0, 6879.0, 464351.0, 203.0, 1701.0, 4097092.0, 67138.0, 50447.0, 55366.0, 5105.0, 79773.0, 730234.0, 250.0, 695462.0, 2591.0, 385369.0, 257559.0, 90306.0, 77523.0, 1749121.0, 11827.0, 972940.0, 1280592.0, 33688.0, 38337.0, 3636869.0, 1073024.0, 22048.0, 62450.0, 100633.0, 650.0, 6150.0, 3104151.0, 3261140.0, 106258.0, 19363.0, 2055676.0, 232771.0, 1150.0, 3350000.0, 13225.0, 27979.0, 13350.0, 448001.0, 9685126.0, 115931.0, 500.0, 146249.0, 219841.0, 1030287.0, 3429.0, 521312.0, 1991124.0, 38525.0, 37821.0, 7575.0, 270896.0, 717763.0, 118623.0, 3974.0, 380432.0, 17482.0, 25450.0, 106370.0, 14900.0, 68479.0, 63312.0, 216834.0, 1501145.0, 6000.0, 717343.0, 34468.0, 14650.0, 50600.0, 332593.0, 5200.0, 30651.0, 325553.0, 3778.0, 579031.0, 1646190.0, 4307230.0, 70528.0, 22965.0, 123857.0, 663823.0, 2630575.0, 341191.0, 365454.0, 227871.0, 906404.0, 1000.0, 639727.0, 31550.0, 900700.0, 691298.0, 27.0, 985171.0, 7952.0, 2500.0, 1213498.0, 51855.0, 60769.0, 12729.0, 47712.0, 1209426.0, 116629.0, 1909775.0, 220000.0, 5400.0, 6185.0, 82804.0, 2152621.0, 33146.0, 3044169.0, 12345.0, 799508.0, 1808088.0, 1732.0, 163894.0, 465877.0, 3021.0, 192077.0, 722776.0, 384074.0, 609970.0, 1466360.0, 217.0, 2588414.0, 650.0, 315100.0, 136049.0, 169305.0, 13395.0, 1000.0, 78084.0, 56247.0, 1723540.0, 504813.0, 299577.0, 199973.0, 40820.0, 99713.0, 16410.0, 3744423.0, 36559.0, 22875.0, 42880.0, 20350.0, 6927.0, 32200.0, 1668513.0, 577710.0, 1104287.0, 41161.0, 706376.0, 6500.0, 985.0, 208776.0, 37400.0, 226810.0, 307882.0, 747223.0, 161381.0, 470648.0, 267830.0, 1268700.0, 98992.0, 11134.0, 86371.0, 26480.0, 386300.0, 16060.0, 645.0, 91264.0, 2582.0, 1058814.0, 300.0, 2446574.0, 47133.0, 118322.0, 260.0, 199483.0, 43903.0, 939176.0, 5430.0, 13107.0, 2044095.0, 188309.0, 1649681.0, 522998.0, 784227.0, 469123.0, 11339.0, 600962.0, 2266092.0, 37090.0, 7150.0, 28350.0, 57585.0, 4699.0, 520428.0, 1734.0, 52287.0, 117094.0, 174312.0, 530538.0, 212098.0, 17877.0, 2300.0, 147600.0, 9275.0, 189715.0, 20264.0, 89930.0, 26940.0, 127350.0, 309458.0, 484256.0, 510.0, 2041527.0, 2467301.0, 48856.0, 18769.0, 1108909.0, 26910.0, 195697.0, 318160.0, 450.0, 10250.0, 103495.0, 465166.0, 96143.0, 236617.0, 109111.0, 92354.0, 280708.0, 6285.0, 612358.0, 20868.0, 42556.0, 43196.0, 39161.0, 63434.0, 1804570.0, 5510.0, 31.0, 30774.0, 2300.0, 6600.0, 2048079.0, 12317.0, 245903.0, 765.0, 2750.0, 1207904.0, 640724.0, 37355.0, 75234.0, 5839.0, 504283.0, 979647.0, 950938.0, 357076.0, 67604.0, 122103.0, 593172.0, 259925.0, 26253.0, 4242.0, 349218.0, 587869.0, 9857.0, 389171.0, 201064.0, 11071.0, 116052.0, 655085.0, 1441558.0, 650170.0, 500.0, 831762.0, 386199.0, 186497.0, 4152709.0, 2893015.0, 16733.0, 53607.0, 214739.0, 23056.0, 87365.0, 1014204.0, 1500.0, 1000.0, 1012090.0, 2184818.0, 1100.0, 34673.0, 2462.0, 20053.0, 34275.0, 9364.0, 2315852.0, 1000.0, 149544.0, 8966.0, 24963.0, 40987.0, 63339.0, 50268.0, 1952.0, 14185.0, 188603.0, 1596274.0, 716109.0, 3129432.0, 67370.0, 7110.0, 7591.0, 260.0, 107003.0, 4408252.0, 5650.0, 2368873.0, 216915.0, 71127.0, 5062.0, 1524017.0, 937198.0, 110990.0, 673033.0, 29258.0, 1995093.0, 5120.0, 4100.0, 4592.0, 664192.0, 31016.0, 26059.0, 3474888.0, 421874.0, 3950.0, 20394.0, 3750.0, 38874.0, 113975.0, 5751.0, 60000.0, 275311.0, 22760.0, 2639732.0, 106039.0, 803304.0, 3610404.0, 229801.0, 127613.0, 22825.0, 95043.0, 210699.0, 23350.0, 9323.0, 300.0, 1315933.0, 16699.0, 529949.0, 1000.0, 6300.0, 18465.0]}],                        {\"template\": {\"data\": {\"bar\": [{\"error_x\": {\"color\": \"#2a3f5f\"}, \"error_y\": {\"color\": \"#2a3f5f\"}, \"marker\": {\"line\": {\"color\": \"#E5ECF6\", \"width\": 0.5}}, \"type\": \"bar\"}], \"barpolar\": [{\"marker\": {\"line\": {\"color\": \"#E5ECF6\", \"width\": 0.5}}, \"type\": \"barpolar\"}], \"carpet\": [{\"aaxis\": {\"endlinecolor\": \"#2a3f5f\", \"gridcolor\": \"white\", \"linecolor\": \"white\", \"minorgridcolor\": \"white\", \"startlinecolor\": \"#2a3f5f\"}, \"baxis\": {\"endlinecolor\": \"#2a3f5f\", \"gridcolor\": \"white\", \"linecolor\": \"white\", \"minorgridcolor\": \"white\", \"startlinecolor\": \"#2a3f5f\"}, \"type\": \"carpet\"}], \"choropleth\": [{\"colorbar\": {\"outlinewidth\": 0, \"ticks\": \"\"}, \"type\": \"choropleth\"}], \"contour\": [{\"colorbar\": {\"outlinewidth\": 0, \"ticks\": \"\"}, \"colorscale\": [[0.0, \"#0d0887\"], [0.1111111111111111, \"#46039f\"], [0.2222222222222222, \"#7201a8\"], [0.3333333333333333, \"#9c179e\"], [0.4444444444444444, \"#bd3786\"], [0.5555555555555556, \"#d8576b\"], [0.6666666666666666, \"#ed7953\"], [0.7777777777777778, \"#fb9f3a\"], [0.8888888888888888, \"#fdca26\"], [1.0, \"#f0f921\"]], \"type\": \"contour\"}], \"contourcarpet\": [{\"colorbar\": {\"outlinewidth\": 0, \"ticks\": \"\"}, \"type\": \"contourcarpet\"}], \"heatmap\": [{\"colorbar\": {\"outlinewidth\": 0, \"ticks\": \"\"}, \"colorscale\": [[0.0, \"#0d0887\"], [0.1111111111111111, \"#46039f\"], [0.2222222222222222, \"#7201a8\"], [0.3333333333333333, \"#9c179e\"], [0.4444444444444444, \"#bd3786\"], [0.5555555555555556, \"#d8576b\"], [0.6666666666666666, \"#ed7953\"], [0.7777777777777778, \"#fb9f3a\"], [0.8888888888888888, \"#fdca26\"], [1.0, \"#f0f921\"]], \"type\": \"heatmap\"}], \"heatmapgl\": [{\"colorbar\": {\"outlinewidth\": 0, \"ticks\": \"\"}, \"colorscale\": [[0.0, \"#0d0887\"], [0.1111111111111111, \"#46039f\"], [0.2222222222222222, \"#7201a8\"], [0.3333333333333333, \"#9c179e\"], [0.4444444444444444, \"#bd3786\"], [0.5555555555555556, \"#d8576b\"], [0.6666666666666666, \"#ed7953\"], [0.7777777777777778, \"#fb9f3a\"], [0.8888888888888888, \"#fdca26\"], [1.0, \"#f0f921\"]], \"type\": \"heatmapgl\"}], \"histogram\": [{\"marker\": {\"colorbar\": {\"outlinewidth\": 0, \"ticks\": \"\"}}, \"type\": \"histogram\"}], \"histogram2d\": [{\"colorbar\": {\"outlinewidth\": 0, \"ticks\": \"\"}, \"colorscale\": [[0.0, \"#0d0887\"], [0.1111111111111111, \"#46039f\"], [0.2222222222222222, \"#7201a8\"], [0.3333333333333333, \"#9c179e\"], [0.4444444444444444, \"#bd3786\"], [0.5555555555555556, \"#d8576b\"], [0.6666666666666666, \"#ed7953\"], [0.7777777777777778, \"#fb9f3a\"], [0.8888888888888888, \"#fdca26\"], [1.0, \"#f0f921\"]], \"type\": \"histogram2d\"}], \"histogram2dcontour\": [{\"colorbar\": {\"outlinewidth\": 0, \"ticks\": \"\"}, \"colorscale\": [[0.0, \"#0d0887\"], [0.1111111111111111, \"#46039f\"], [0.2222222222222222, \"#7201a8\"], [0.3333333333333333, \"#9c179e\"], [0.4444444444444444, \"#bd3786\"], [0.5555555555555556, \"#d8576b\"], [0.6666666666666666, \"#ed7953\"], [0.7777777777777778, \"#fb9f3a\"], [0.8888888888888888, \"#fdca26\"], [1.0, \"#f0f921\"]], \"type\": \"histogram2dcontour\"}], \"mesh3d\": [{\"colorbar\": {\"outlinewidth\": 0, \"ticks\": \"\"}, \"type\": \"mesh3d\"}], \"parcoords\": [{\"line\": {\"colorbar\": {\"outlinewidth\": 0, \"ticks\": \"\"}}, \"type\": \"parcoords\"}], \"pie\": [{\"automargin\": true, \"type\": \"pie\"}], \"scatter\": [{\"marker\": {\"colorbar\": {\"outlinewidth\": 0, \"ticks\": \"\"}}, \"type\": \"scatter\"}], \"scatter3d\": [{\"line\": {\"colorbar\": {\"outlinewidth\": 0, \"ticks\": \"\"}}, \"marker\": {\"colorbar\": {\"outlinewidth\": 0, \"ticks\": \"\"}}, \"type\": \"scatter3d\"}], \"scattercarpet\": [{\"marker\": {\"colorbar\": {\"outlinewidth\": 0, \"ticks\": \"\"}}, \"type\": \"scattercarpet\"}], \"scattergeo\": [{\"marker\": {\"colorbar\": {\"outlinewidth\": 0, \"ticks\": \"\"}}, \"type\": \"scattergeo\"}], \"scattergl\": [{\"marker\": {\"colorbar\": {\"outlinewidth\": 0, \"ticks\": \"\"}}, \"type\": \"scattergl\"}], \"scattermapbox\": [{\"marker\": {\"colorbar\": {\"outlinewidth\": 0, \"ticks\": \"\"}}, \"type\": \"scattermapbox\"}], \"scatterpolar\": [{\"marker\": {\"colorbar\": {\"outlinewidth\": 0, \"ticks\": \"\"}}, \"type\": \"scatterpolar\"}], \"scatterpolargl\": [{\"marker\": {\"colorbar\": {\"outlinewidth\": 0, \"ticks\": \"\"}}, \"type\": \"scatterpolargl\"}], \"scatterternary\": [{\"marker\": {\"colorbar\": {\"outlinewidth\": 0, \"ticks\": \"\"}}, \"type\": \"scatterternary\"}], \"surface\": [{\"colorbar\": {\"outlinewidth\": 0, \"ticks\": \"\"}, \"colorscale\": [[0.0, \"#0d0887\"], [0.1111111111111111, \"#46039f\"], [0.2222222222222222, \"#7201a8\"], [0.3333333333333333, \"#9c179e\"], [0.4444444444444444, \"#bd3786\"], [0.5555555555555556, \"#d8576b\"], [0.6666666666666666, \"#ed7953\"], [0.7777777777777778, \"#fb9f3a\"], [0.8888888888888888, \"#fdca26\"], [1.0, \"#f0f921\"]], \"type\": \"surface\"}], \"table\": [{\"cells\": {\"fill\": {\"color\": \"#EBF0F8\"}, \"line\": {\"color\": \"white\"}}, \"header\": {\"fill\": {\"color\": \"#C8D4E3\"}, \"line\": {\"color\": \"white\"}}, \"type\": \"table\"}]}, \"layout\": {\"annotationdefaults\": {\"arrowcolor\": \"#2a3f5f\", \"arrowhead\": 0, \"arrowwidth\": 1}, \"coloraxis\": {\"colorbar\": {\"outlinewidth\": 0, \"ticks\": \"\"}}, \"colorscale\": {\"diverging\": [[0, \"#8e0152\"], [0.1, \"#c51b7d\"], [0.2, \"#de77ae\"], [0.3, \"#f1b6da\"], [0.4, \"#fde0ef\"], [0.5, \"#f7f7f7\"], [0.6, \"#e6f5d0\"], [0.7, \"#b8e186\"], [0.8, \"#7fbc41\"], [0.9, \"#4d9221\"], [1, \"#276419\"]], \"sequential\": [[0.0, \"#0d0887\"], [0.1111111111111111, \"#46039f\"], [0.2222222222222222, \"#7201a8\"], [0.3333333333333333, \"#9c179e\"], [0.4444444444444444, \"#bd3786\"], [0.5555555555555556, \"#d8576b\"], [0.6666666666666666, \"#ed7953\"], [0.7777777777777778, \"#fb9f3a\"], [0.8888888888888888, \"#fdca26\"], [1.0, \"#f0f921\"]], \"sequentialminus\": [[0.0, \"#0d0887\"], [0.1111111111111111, \"#46039f\"], [0.2222222222222222, \"#7201a8\"], [0.3333333333333333, \"#9c179e\"], [0.4444444444444444, \"#bd3786\"], [0.5555555555555556, \"#d8576b\"], [0.6666666666666666, \"#ed7953\"], [0.7777777777777778, \"#fb9f3a\"], [0.8888888888888888, \"#fdca26\"], [1.0, \"#f0f921\"]]}, \"colorway\": [\"#636efa\", \"#EF553B\", \"#00cc96\", \"#ab63fa\", \"#FFA15A\", \"#19d3f3\", \"#FF6692\", \"#B6E880\", \"#FF97FF\", \"#FECB52\"], \"font\": {\"color\": \"#2a3f5f\"}, \"geo\": {\"bgcolor\": \"white\", \"lakecolor\": \"white\", \"landcolor\": \"#E5ECF6\", \"showlakes\": true, \"showland\": true, \"subunitcolor\": \"white\"}, \"hoverlabel\": {\"align\": \"left\"}, \"hovermode\": \"closest\", \"mapbox\": {\"style\": \"light\"}, \"paper_bgcolor\": \"white\", \"plot_bgcolor\": \"#E5ECF6\", \"polar\": {\"angularaxis\": {\"gridcolor\": \"white\", \"linecolor\": \"white\", \"ticks\": \"\"}, \"bgcolor\": \"#E5ECF6\", \"radialaxis\": {\"gridcolor\": \"white\", \"linecolor\": \"white\", \"ticks\": \"\"}}, \"scene\": {\"xaxis\": {\"backgroundcolor\": \"#E5ECF6\", \"gridcolor\": \"white\", \"gridwidth\": 2, \"linecolor\": \"white\", \"showbackground\": true, \"ticks\": \"\", \"zerolinecolor\": \"white\"}, \"yaxis\": {\"backgroundcolor\": \"#E5ECF6\", \"gridcolor\": \"white\", \"gridwidth\": 2, \"linecolor\": \"white\", \"showbackground\": true, \"ticks\": \"\", \"zerolinecolor\": \"white\"}, \"zaxis\": {\"backgroundcolor\": \"#E5ECF6\", \"gridcolor\": \"white\", \"gridwidth\": 2, \"linecolor\": \"white\", \"showbackground\": true, \"ticks\": \"\", \"zerolinecolor\": \"white\"}}, \"shapedefaults\": {\"line\": {\"color\": \"#2a3f5f\"}}, \"ternary\": {\"aaxis\": {\"gridcolor\": \"white\", \"linecolor\": \"white\", \"ticks\": \"\"}, \"baxis\": {\"gridcolor\": \"white\", \"linecolor\": \"white\", \"ticks\": \"\"}, \"bgcolor\": \"#E5ECF6\", \"caxis\": {\"gridcolor\": \"white\", \"linecolor\": \"white\", \"ticks\": \"\"}}, \"title\": {\"x\": 0.05}, \"xaxis\": {\"automargin\": true, \"gridcolor\": \"white\", \"linecolor\": \"white\", \"ticks\": \"\", \"title\": {\"standoff\": 15}, \"zerolinecolor\": \"white\", \"zerolinewidth\": 2}, \"yaxis\": {\"automargin\": true, \"gridcolor\": \"white\", \"linecolor\": \"white\", \"ticks\": \"\", \"title\": {\"standoff\": 15}, \"zerolinecolor\": \"white\", \"zerolinewidth\": 2}}}, \"title\": {\"text\": \"Total Contributions Received From Individual Donors (>$200)\", \"x\": 0.5}, \"xaxis\": {\"title\": {\"text\": \"US Dollars\"}}},                        {\"responsive\": true}                    ).then(function(){\n",
       "                            \n",
       "var gd = document.getElementById('63a68027-940e-4dca-a153-d78712683350');\n",
       "var x = new MutationObserver(function (mutations, observer) {{\n",
       "        var display = window.getComputedStyle(gd).display;\n",
       "        if (!display || display === 'none') {{\n",
       "            console.log([gd, 'removed!']);\n",
       "            Plotly.purge(gd);\n",
       "            observer.disconnect();\n",
       "        }}\n",
       "}});\n",
       "\n",
       "// Listen for the removal of the full notebook cells\n",
       "var notebookContainer = gd.closest('#notebook-container');\n",
       "if (notebookContainer) {{\n",
       "    x.observe(notebookContainer, {childList: true});\n",
       "}}\n",
       "\n",
       "// Listen for the clearing of the current output cell\n",
       "var outputEl = gd.closest('.output');\n",
       "if (outputEl) {{\n",
       "    x.observe(outputEl, {childList: true});\n",
       "}}\n",
       "\n",
       "                        })                };                });            </script>        </div>"
      ]
     },
     "metadata": {},
     "output_type": "display_data"
    }
   ],
   "source": [
    "fig = go.Figure()\n",
    "fig.add_trace(go.Box(x=incumbent_donations_dol, name='Incumbent Contributions'))\n",
    "fig.add_trace(go.Box(x=challenger_donations_dol, name='Challenger Contributions'))\n",
    "\n",
    "fig.update_layout(title_text='Total Contributions Received From Individual Donors (>$200)',\n",
    "                  title_x=0.5,\n",
    "                  xaxis_title='US Dollars')\n",
    "\n",
    "fig.show()"
   ]
  },
  {
   "cell_type": "markdown",
   "metadata": {},
   "source": [
    "Choropleth Map Showing Candidate Counts by State"
   ]
  },
  {
   "cell_type": "code",
   "execution_count": 97,
   "metadata": {},
   "outputs": [],
   "source": [
    "candidate_locations = df_house.groupBy('CAND_OFFICE_ST').count().toPandas()"
   ]
  },
  {
   "cell_type": "code",
   "execution_count": 102,
   "metadata": {},
   "outputs": [
    {
     "data": {
      "application/vnd.plotly.v1+json": {
       "config": {
        "plotlyServerURL": "https://plot.ly"
       },
       "data": [
        {
         "colorbar": {
          "title": {
           "text": "Candidate Number"
          }
         },
         "colorscale": [
          [
           0,
           "rgb(247,251,255)"
          ],
          [
           0.125,
           "rgb(222,235,247)"
          ],
          [
           0.25,
           "rgb(198,219,239)"
          ],
          [
           0.375,
           "rgb(158,202,225)"
          ],
          [
           0.5,
           "rgb(107,174,214)"
          ],
          [
           0.625,
           "rgb(66,146,198)"
          ],
          [
           0.75,
           "rgb(33,113,181)"
          ],
          [
           0.875,
           "rgb(8,81,156)"
          ],
          [
           1,
           "rgb(8,48,107)"
          ]
         ],
         "locationmode": "USA-states",
         "locations": [
          "SC",
          "AZ",
          "LA",
          "MN",
          "NJ",
          "OR",
          "VA",
          "RI",
          "KY",
          "NH",
          "MI",
          "NV",
          "WI",
          "ID",
          "CA",
          "CT",
          "NE",
          "MT",
          "NC",
          "VT",
          "MD",
          "DE",
          "MO",
          "IL",
          "ME",
          "WA",
          "ND",
          "MS",
          "AL",
          "IN",
          "OH",
          "TN",
          "IA",
          "NM",
          "PA",
          "SD",
          "NY",
          "TX",
          "WV",
          "GA",
          "MA",
          "KS",
          "FL",
          "CO",
          "AK",
          "AR",
          "OK",
          "UT",
          "HI"
         ],
         "type": "choropleth",
         "z": [
          23,
          28,
          15,
          23,
          36,
          10,
          38,
          4,
          18,
          4,
          42,
          12,
          25,
          6,
          160,
          8,
          6,
          5,
          36,
          2,
          21,
          2,
          22,
          43,
          7,
          32,
          5,
          6,
          14,
          30,
          51,
          19,
          14,
          10,
          39,
          6,
          25,
          91,
          11,
          30,
          22,
          10,
          98,
          28,
          2,
          10,
          11,
          18,
          2
         ]
        }
       ],
       "layout": {
        "autosize": true,
        "geo": {
         "scope": "usa"
        },
        "template": {
         "data": {
          "bar": [
           {
            "error_x": {
             "color": "#2a3f5f"
            },
            "error_y": {
             "color": "#2a3f5f"
            },
            "marker": {
             "line": {
              "color": "#E5ECF6",
              "width": 0.5
             }
            },
            "type": "bar"
           }
          ],
          "barpolar": [
           {
            "marker": {
             "line": {
              "color": "#E5ECF6",
              "width": 0.5
             }
            },
            "type": "barpolar"
           }
          ],
          "carpet": [
           {
            "aaxis": {
             "endlinecolor": "#2a3f5f",
             "gridcolor": "white",
             "linecolor": "white",
             "minorgridcolor": "white",
             "startlinecolor": "#2a3f5f"
            },
            "baxis": {
             "endlinecolor": "#2a3f5f",
             "gridcolor": "white",
             "linecolor": "white",
             "minorgridcolor": "white",
             "startlinecolor": "#2a3f5f"
            },
            "type": "carpet"
           }
          ],
          "choropleth": [
           {
            "colorbar": {
             "outlinewidth": 0,
             "ticks": ""
            },
            "type": "choropleth"
           }
          ],
          "contour": [
           {
            "colorbar": {
             "outlinewidth": 0,
             "ticks": ""
            },
            "colorscale": [
             [
              0,
              "#0d0887"
             ],
             [
              0.1111111111111111,
              "#46039f"
             ],
             [
              0.2222222222222222,
              "#7201a8"
             ],
             [
              0.3333333333333333,
              "#9c179e"
             ],
             [
              0.4444444444444444,
              "#bd3786"
             ],
             [
              0.5555555555555556,
              "#d8576b"
             ],
             [
              0.6666666666666666,
              "#ed7953"
             ],
             [
              0.7777777777777778,
              "#fb9f3a"
             ],
             [
              0.8888888888888888,
              "#fdca26"
             ],
             [
              1,
              "#f0f921"
             ]
            ],
            "type": "contour"
           }
          ],
          "contourcarpet": [
           {
            "colorbar": {
             "outlinewidth": 0,
             "ticks": ""
            },
            "type": "contourcarpet"
           }
          ],
          "heatmap": [
           {
            "colorbar": {
             "outlinewidth": 0,
             "ticks": ""
            },
            "colorscale": [
             [
              0,
              "#0d0887"
             ],
             [
              0.1111111111111111,
              "#46039f"
             ],
             [
              0.2222222222222222,
              "#7201a8"
             ],
             [
              0.3333333333333333,
              "#9c179e"
             ],
             [
              0.4444444444444444,
              "#bd3786"
             ],
             [
              0.5555555555555556,
              "#d8576b"
             ],
             [
              0.6666666666666666,
              "#ed7953"
             ],
             [
              0.7777777777777778,
              "#fb9f3a"
             ],
             [
              0.8888888888888888,
              "#fdca26"
             ],
             [
              1,
              "#f0f921"
             ]
            ],
            "type": "heatmap"
           }
          ],
          "heatmapgl": [
           {
            "colorbar": {
             "outlinewidth": 0,
             "ticks": ""
            },
            "colorscale": [
             [
              0,
              "#0d0887"
             ],
             [
              0.1111111111111111,
              "#46039f"
             ],
             [
              0.2222222222222222,
              "#7201a8"
             ],
             [
              0.3333333333333333,
              "#9c179e"
             ],
             [
              0.4444444444444444,
              "#bd3786"
             ],
             [
              0.5555555555555556,
              "#d8576b"
             ],
             [
              0.6666666666666666,
              "#ed7953"
             ],
             [
              0.7777777777777778,
              "#fb9f3a"
             ],
             [
              0.8888888888888888,
              "#fdca26"
             ],
             [
              1,
              "#f0f921"
             ]
            ],
            "type": "heatmapgl"
           }
          ],
          "histogram": [
           {
            "marker": {
             "colorbar": {
              "outlinewidth": 0,
              "ticks": ""
             }
            },
            "type": "histogram"
           }
          ],
          "histogram2d": [
           {
            "colorbar": {
             "outlinewidth": 0,
             "ticks": ""
            },
            "colorscale": [
             [
              0,
              "#0d0887"
             ],
             [
              0.1111111111111111,
              "#46039f"
             ],
             [
              0.2222222222222222,
              "#7201a8"
             ],
             [
              0.3333333333333333,
              "#9c179e"
             ],
             [
              0.4444444444444444,
              "#bd3786"
             ],
             [
              0.5555555555555556,
              "#d8576b"
             ],
             [
              0.6666666666666666,
              "#ed7953"
             ],
             [
              0.7777777777777778,
              "#fb9f3a"
             ],
             [
              0.8888888888888888,
              "#fdca26"
             ],
             [
              1,
              "#f0f921"
             ]
            ],
            "type": "histogram2d"
           }
          ],
          "histogram2dcontour": [
           {
            "colorbar": {
             "outlinewidth": 0,
             "ticks": ""
            },
            "colorscale": [
             [
              0,
              "#0d0887"
             ],
             [
              0.1111111111111111,
              "#46039f"
             ],
             [
              0.2222222222222222,
              "#7201a8"
             ],
             [
              0.3333333333333333,
              "#9c179e"
             ],
             [
              0.4444444444444444,
              "#bd3786"
             ],
             [
              0.5555555555555556,
              "#d8576b"
             ],
             [
              0.6666666666666666,
              "#ed7953"
             ],
             [
              0.7777777777777778,
              "#fb9f3a"
             ],
             [
              0.8888888888888888,
              "#fdca26"
             ],
             [
              1,
              "#f0f921"
             ]
            ],
            "type": "histogram2dcontour"
           }
          ],
          "mesh3d": [
           {
            "colorbar": {
             "outlinewidth": 0,
             "ticks": ""
            },
            "type": "mesh3d"
           }
          ],
          "parcoords": [
           {
            "line": {
             "colorbar": {
              "outlinewidth": 0,
              "ticks": ""
             }
            },
            "type": "parcoords"
           }
          ],
          "pie": [
           {
            "automargin": true,
            "type": "pie"
           }
          ],
          "scatter": [
           {
            "marker": {
             "colorbar": {
              "outlinewidth": 0,
              "ticks": ""
             }
            },
            "type": "scatter"
           }
          ],
          "scatter3d": [
           {
            "line": {
             "colorbar": {
              "outlinewidth": 0,
              "ticks": ""
             }
            },
            "marker": {
             "colorbar": {
              "outlinewidth": 0,
              "ticks": ""
             }
            },
            "type": "scatter3d"
           }
          ],
          "scattercarpet": [
           {
            "marker": {
             "colorbar": {
              "outlinewidth": 0,
              "ticks": ""
             }
            },
            "type": "scattercarpet"
           }
          ],
          "scattergeo": [
           {
            "marker": {
             "colorbar": {
              "outlinewidth": 0,
              "ticks": ""
             }
            },
            "type": "scattergeo"
           }
          ],
          "scattergl": [
           {
            "marker": {
             "colorbar": {
              "outlinewidth": 0,
              "ticks": ""
             }
            },
            "type": "scattergl"
           }
          ],
          "scattermapbox": [
           {
            "marker": {
             "colorbar": {
              "outlinewidth": 0,
              "ticks": ""
             }
            },
            "type": "scattermapbox"
           }
          ],
          "scatterpolar": [
           {
            "marker": {
             "colorbar": {
              "outlinewidth": 0,
              "ticks": ""
             }
            },
            "type": "scatterpolar"
           }
          ],
          "scatterpolargl": [
           {
            "marker": {
             "colorbar": {
              "outlinewidth": 0,
              "ticks": ""
             }
            },
            "type": "scatterpolargl"
           }
          ],
          "scatterternary": [
           {
            "marker": {
             "colorbar": {
              "outlinewidth": 0,
              "ticks": ""
             }
            },
            "type": "scatterternary"
           }
          ],
          "surface": [
           {
            "colorbar": {
             "outlinewidth": 0,
             "ticks": ""
            },
            "colorscale": [
             [
              0,
              "#0d0887"
             ],
             [
              0.1111111111111111,
              "#46039f"
             ],
             [
              0.2222222222222222,
              "#7201a8"
             ],
             [
              0.3333333333333333,
              "#9c179e"
             ],
             [
              0.4444444444444444,
              "#bd3786"
             ],
             [
              0.5555555555555556,
              "#d8576b"
             ],
             [
              0.6666666666666666,
              "#ed7953"
             ],
             [
              0.7777777777777778,
              "#fb9f3a"
             ],
             [
              0.8888888888888888,
              "#fdca26"
             ],
             [
              1,
              "#f0f921"
             ]
            ],
            "type": "surface"
           }
          ],
          "table": [
           {
            "cells": {
             "fill": {
              "color": "#EBF0F8"
             },
             "line": {
              "color": "white"
             }
            },
            "header": {
             "fill": {
              "color": "#C8D4E3"
             },
             "line": {
              "color": "white"
             }
            },
            "type": "table"
           }
          ]
         },
         "layout": {
          "annotationdefaults": {
           "arrowcolor": "#2a3f5f",
           "arrowhead": 0,
           "arrowwidth": 1
          },
          "coloraxis": {
           "colorbar": {
            "outlinewidth": 0,
            "ticks": ""
           }
          },
          "colorscale": {
           "diverging": [
            [
             0,
             "#8e0152"
            ],
            [
             0.1,
             "#c51b7d"
            ],
            [
             0.2,
             "#de77ae"
            ],
            [
             0.3,
             "#f1b6da"
            ],
            [
             0.4,
             "#fde0ef"
            ],
            [
             0.5,
             "#f7f7f7"
            ],
            [
             0.6,
             "#e6f5d0"
            ],
            [
             0.7,
             "#b8e186"
            ],
            [
             0.8,
             "#7fbc41"
            ],
            [
             0.9,
             "#4d9221"
            ],
            [
             1,
             "#276419"
            ]
           ],
           "sequential": [
            [
             0,
             "#0d0887"
            ],
            [
             0.1111111111111111,
             "#46039f"
            ],
            [
             0.2222222222222222,
             "#7201a8"
            ],
            [
             0.3333333333333333,
             "#9c179e"
            ],
            [
             0.4444444444444444,
             "#bd3786"
            ],
            [
             0.5555555555555556,
             "#d8576b"
            ],
            [
             0.6666666666666666,
             "#ed7953"
            ],
            [
             0.7777777777777778,
             "#fb9f3a"
            ],
            [
             0.8888888888888888,
             "#fdca26"
            ],
            [
             1,
             "#f0f921"
            ]
           ],
           "sequentialminus": [
            [
             0,
             "#0d0887"
            ],
            [
             0.1111111111111111,
             "#46039f"
            ],
            [
             0.2222222222222222,
             "#7201a8"
            ],
            [
             0.3333333333333333,
             "#9c179e"
            ],
            [
             0.4444444444444444,
             "#bd3786"
            ],
            [
             0.5555555555555556,
             "#d8576b"
            ],
            [
             0.6666666666666666,
             "#ed7953"
            ],
            [
             0.7777777777777778,
             "#fb9f3a"
            ],
            [
             0.8888888888888888,
             "#fdca26"
            ],
            [
             1,
             "#f0f921"
            ]
           ]
          },
          "colorway": [
           "#636efa",
           "#EF553B",
           "#00cc96",
           "#ab63fa",
           "#FFA15A",
           "#19d3f3",
           "#FF6692",
           "#B6E880",
           "#FF97FF",
           "#FECB52"
          ],
          "font": {
           "color": "#2a3f5f"
          },
          "geo": {
           "bgcolor": "white",
           "lakecolor": "white",
           "landcolor": "#E5ECF6",
           "showlakes": true,
           "showland": true,
           "subunitcolor": "white"
          },
          "hoverlabel": {
           "align": "left"
          },
          "hovermode": "closest",
          "mapbox": {
           "style": "light"
          },
          "paper_bgcolor": "white",
          "plot_bgcolor": "#E5ECF6",
          "polar": {
           "angularaxis": {
            "gridcolor": "white",
            "linecolor": "white",
            "ticks": ""
           },
           "bgcolor": "#E5ECF6",
           "radialaxis": {
            "gridcolor": "white",
            "linecolor": "white",
            "ticks": ""
           }
          },
          "scene": {
           "xaxis": {
            "backgroundcolor": "#E5ECF6",
            "gridcolor": "white",
            "gridwidth": 2,
            "linecolor": "white",
            "showbackground": true,
            "ticks": "",
            "zerolinecolor": "white"
           },
           "yaxis": {
            "backgroundcolor": "#E5ECF6",
            "gridcolor": "white",
            "gridwidth": 2,
            "linecolor": "white",
            "showbackground": true,
            "ticks": "",
            "zerolinecolor": "white"
           },
           "zaxis": {
            "backgroundcolor": "#E5ECF6",
            "gridcolor": "white",
            "gridwidth": 2,
            "linecolor": "white",
            "showbackground": true,
            "ticks": "",
            "zerolinecolor": "white"
           }
          },
          "shapedefaults": {
           "line": {
            "color": "#2a3f5f"
           }
          },
          "ternary": {
           "aaxis": {
            "gridcolor": "white",
            "linecolor": "white",
            "ticks": ""
           },
           "baxis": {
            "gridcolor": "white",
            "linecolor": "white",
            "ticks": ""
           },
           "bgcolor": "#E5ECF6",
           "caxis": {
            "gridcolor": "white",
            "linecolor": "white",
            "ticks": ""
           }
          },
          "title": {
           "x": 0.05
          },
          "xaxis": {
           "automargin": true,
           "gridcolor": "white",
           "linecolor": "white",
           "ticks": "",
           "title": {
            "standoff": 15
           },
           "zerolinecolor": "white",
           "zerolinewidth": 2
          },
          "yaxis": {
           "automargin": true,
           "gridcolor": "white",
           "linecolor": "white",
           "ticks": "",
           "title": {
            "standoff": 15
           },
           "zerolinecolor": "white",
           "zerolinewidth": 2
          }
         }
        },
        "title": {
         "text": "2016 & 2018 Candidates in Races by State"
        }
       }
      },
      "image/png": "[encoded data removed]",
      "text/html": [
       "<div>                            <div id=\"381da63c-156d-461b-8eb3-b21910292918\" class=\"plotly-graph-div\" style=\"height:525px; width:100%;\"></div>            <script type=\"text/javascript\">                require([\"plotly\"], function(Plotly) {                    window.PLOTLYENV=window.PLOTLYENV || {};                                    if (document.getElementById(\"381da63c-156d-461b-8eb3-b21910292918\")) {                    Plotly.newPlot(                        \"381da63c-156d-461b-8eb3-b21910292918\",                        [{\"colorbar\": {\"title\": {\"text\": \"Candidate Number\"}}, \"colorscale\": [[0.0, \"rgb(247,251,255)\"], [0.125, \"rgb(222,235,247)\"], [0.25, \"rgb(198,219,239)\"], [0.375, \"rgb(158,202,225)\"], [0.5, \"rgb(107,174,214)\"], [0.625, \"rgb(66,146,198)\"], [0.75, \"rgb(33,113,181)\"], [0.875, \"rgb(8,81,156)\"], [1.0, \"rgb(8,48,107)\"]], \"locationmode\": \"USA-states\", \"locations\": [\"SC\", \"AZ\", \"LA\", \"MN\", \"NJ\", \"OR\", \"VA\", \"RI\", \"KY\", \"NH\", \"MI\", \"NV\", \"WI\", \"ID\", \"CA\", \"CT\", \"NE\", \"MT\", \"NC\", \"VT\", \"MD\", \"DE\", \"MO\", \"IL\", \"ME\", \"WA\", \"ND\", \"MS\", \"AL\", \"IN\", \"OH\", \"TN\", \"IA\", \"NM\", \"PA\", \"SD\", \"NY\", \"TX\", \"WV\", \"GA\", \"MA\", \"KS\", \"FL\", \"CO\", \"AK\", \"AR\", \"OK\", \"UT\", \"HI\"], \"type\": \"choropleth\", \"z\": [23, 28, 15, 23, 36, 10, 38, 4, 18, 4, 42, 12, 25, 6, 160, 8, 6, 5, 36, 2, 21, 2, 22, 43, 7, 32, 5, 6, 14, 30, 51, 19, 14, 10, 39, 6, 25, 91, 11, 30, 22, 10, 98, 28, 2, 10, 11, 18, 2]}],                        {\"geo\": {\"scope\": \"usa\"}, \"template\": {\"data\": {\"bar\": [{\"error_x\": {\"color\": \"#2a3f5f\"}, \"error_y\": {\"color\": \"#2a3f5f\"}, \"marker\": {\"line\": {\"color\": \"#E5ECF6\", \"width\": 0.5}}, \"type\": \"bar\"}], \"barpolar\": [{\"marker\": {\"line\": {\"color\": \"#E5ECF6\", \"width\": 0.5}}, \"type\": \"barpolar\"}], \"carpet\": [{\"aaxis\": {\"endlinecolor\": \"#2a3f5f\", \"gridcolor\": \"white\", \"linecolor\": \"white\", \"minorgridcolor\": \"white\", \"startlinecolor\": \"#2a3f5f\"}, \"baxis\": {\"endlinecolor\": \"#2a3f5f\", \"gridcolor\": \"white\", \"linecolor\": \"white\", \"minorgridcolor\": \"white\", \"startlinecolor\": \"#2a3f5f\"}, \"type\": \"carpet\"}], \"choropleth\": [{\"colorbar\": {\"outlinewidth\": 0, \"ticks\": \"\"}, \"type\": \"choropleth\"}], \"contour\": [{\"colorbar\": {\"outlinewidth\": 0, \"ticks\": \"\"}, \"colorscale\": [[0.0, \"#0d0887\"], [0.1111111111111111, \"#46039f\"], [0.2222222222222222, \"#7201a8\"], [0.3333333333333333, \"#9c179e\"], [0.4444444444444444, \"#bd3786\"], [0.5555555555555556, \"#d8576b\"], [0.6666666666666666, \"#ed7953\"], [0.7777777777777778, \"#fb9f3a\"], [0.8888888888888888, \"#fdca26\"], [1.0, \"#f0f921\"]], \"type\": \"contour\"}], \"contourcarpet\": [{\"colorbar\": {\"outlinewidth\": 0, \"ticks\": \"\"}, \"type\": \"contourcarpet\"}], \"heatmap\": [{\"colorbar\": {\"outlinewidth\": 0, \"ticks\": \"\"}, \"colorscale\": [[0.0, \"#0d0887\"], [0.1111111111111111, \"#46039f\"], [0.2222222222222222, \"#7201a8\"], [0.3333333333333333, \"#9c179e\"], [0.4444444444444444, \"#bd3786\"], [0.5555555555555556, \"#d8576b\"], [0.6666666666666666, \"#ed7953\"], [0.7777777777777778, \"#fb9f3a\"], [0.8888888888888888, \"#fdca26\"], [1.0, \"#f0f921\"]], \"type\": \"heatmap\"}], \"heatmapgl\": [{\"colorbar\": {\"outlinewidth\": 0, \"ticks\": \"\"}, \"colorscale\": [[0.0, \"#0d0887\"], [0.1111111111111111, \"#46039f\"], [0.2222222222222222, \"#7201a8\"], [0.3333333333333333, \"#9c179e\"], [0.4444444444444444, \"#bd3786\"], [0.5555555555555556, \"#d8576b\"], [0.6666666666666666, \"#ed7953\"], [0.7777777777777778, \"#fb9f3a\"], [0.8888888888888888, \"#fdca26\"], [1.0, \"#f0f921\"]], \"type\": \"heatmapgl\"}], \"histogram\": [{\"marker\": {\"colorbar\": {\"outlinewidth\": 0, \"ticks\": \"\"}}, \"type\": \"histogram\"}], \"histogram2d\": [{\"colorbar\": {\"outlinewidth\": 0, \"ticks\": \"\"}, \"colorscale\": [[0.0, \"#0d0887\"], [0.1111111111111111, \"#46039f\"], [0.2222222222222222, \"#7201a8\"], [0.3333333333333333, \"#9c179e\"], [0.4444444444444444, \"#bd3786\"], [0.5555555555555556, \"#d8576b\"], [0.6666666666666666, \"#ed7953\"], [0.7777777777777778, \"#fb9f3a\"], [0.8888888888888888, \"#fdca26\"], [1.0, \"#f0f921\"]], \"type\": \"histogram2d\"}], \"histogram2dcontour\": [{\"colorbar\": {\"outlinewidth\": 0, \"ticks\": \"\"}, \"colorscale\": [[0.0, \"#0d0887\"], [0.1111111111111111, \"#46039f\"], [0.2222222222222222, \"#7201a8\"], [0.3333333333333333, \"#9c179e\"], [0.4444444444444444, \"#bd3786\"], [0.5555555555555556, \"#d8576b\"], [0.6666666666666666, \"#ed7953\"], [0.7777777777777778, \"#fb9f3a\"], [0.8888888888888888, \"#fdca26\"], [1.0, \"#f0f921\"]], \"type\": \"histogram2dcontour\"}], \"mesh3d\": [{\"colorbar\": {\"outlinewidth\": 0, \"ticks\": \"\"}, \"type\": \"mesh3d\"}], \"parcoords\": [{\"line\": {\"colorbar\": {\"outlinewidth\": 0, \"ticks\": \"\"}}, \"type\": \"parcoords\"}], \"pie\": [{\"automargin\": true, \"type\": \"pie\"}], \"scatter\": [{\"marker\": {\"colorbar\": {\"outlinewidth\": 0, \"ticks\": \"\"}}, \"type\": \"scatter\"}], \"scatter3d\": [{\"line\": {\"colorbar\": {\"outlinewidth\": 0, \"ticks\": \"\"}}, \"marker\": {\"colorbar\": {\"outlinewidth\": 0, \"ticks\": \"\"}}, \"type\": \"scatter3d\"}], \"scattercarpet\": [{\"marker\": {\"colorbar\": {\"outlinewidth\": 0, \"ticks\": \"\"}}, \"type\": \"scattercarpet\"}], \"scattergeo\": [{\"marker\": {\"colorbar\": {\"outlinewidth\": 0, \"ticks\": \"\"}}, \"type\": \"scattergeo\"}], \"scattergl\": [{\"marker\": {\"colorbar\": {\"outlinewidth\": 0, \"ticks\": \"\"}}, \"type\": \"scattergl\"}], \"scattermapbox\": [{\"marker\": {\"colorbar\": {\"outlinewidth\": 0, \"ticks\": \"\"}}, \"type\": \"scattermapbox\"}], \"scatterpolar\": [{\"marker\": {\"colorbar\": {\"outlinewidth\": 0, \"ticks\": \"\"}}, \"type\": \"scatterpolar\"}], \"scatterpolargl\": [{\"marker\": {\"colorbar\": {\"outlinewidth\": 0, \"ticks\": \"\"}}, \"type\": \"scatterpolargl\"}], \"scatterternary\": [{\"marker\": {\"colorbar\": {\"outlinewidth\": 0, \"ticks\": \"\"}}, \"type\": \"scatterternary\"}], \"surface\": [{\"colorbar\": {\"outlinewidth\": 0, \"ticks\": \"\"}, \"colorscale\": [[0.0, \"#0d0887\"], [0.1111111111111111, \"#46039f\"], [0.2222222222222222, \"#7201a8\"], [0.3333333333333333, \"#9c179e\"], [0.4444444444444444, \"#bd3786\"], [0.5555555555555556, \"#d8576b\"], [0.6666666666666666, \"#ed7953\"], [0.7777777777777778, \"#fb9f3a\"], [0.8888888888888888, \"#fdca26\"], [1.0, \"#f0f921\"]], \"type\": \"surface\"}], \"table\": [{\"cells\": {\"fill\": {\"color\": \"#EBF0F8\"}, \"line\": {\"color\": \"white\"}}, \"header\": {\"fill\": {\"color\": \"#C8D4E3\"}, \"line\": {\"color\": \"white\"}}, \"type\": \"table\"}]}, \"layout\": {\"annotationdefaults\": {\"arrowcolor\": \"#2a3f5f\", \"arrowhead\": 0, \"arrowwidth\": 1}, \"coloraxis\": {\"colorbar\": {\"outlinewidth\": 0, \"ticks\": \"\"}}, \"colorscale\": {\"diverging\": [[0, \"#8e0152\"], [0.1, \"#c51b7d\"], [0.2, \"#de77ae\"], [0.3, \"#f1b6da\"], [0.4, \"#fde0ef\"], [0.5, \"#f7f7f7\"], [0.6, \"#e6f5d0\"], [0.7, \"#b8e186\"], [0.8, \"#7fbc41\"], [0.9, \"#4d9221\"], [1, \"#276419\"]], \"sequential\": [[0.0, \"#0d0887\"], [0.1111111111111111, \"#46039f\"], [0.2222222222222222, \"#7201a8\"], [0.3333333333333333, \"#9c179e\"], [0.4444444444444444, \"#bd3786\"], [0.5555555555555556, \"#d8576b\"], [0.6666666666666666, \"#ed7953\"], [0.7777777777777778, \"#fb9f3a\"], [0.8888888888888888, \"#fdca26\"], [1.0, \"#f0f921\"]], \"sequentialminus\": [[0.0, \"#0d0887\"], [0.1111111111111111, \"#46039f\"], [0.2222222222222222, \"#7201a8\"], [0.3333333333333333, \"#9c179e\"], [0.4444444444444444, \"#bd3786\"], [0.5555555555555556, \"#d8576b\"], [0.6666666666666666, \"#ed7953\"], [0.7777777777777778, \"#fb9f3a\"], [0.8888888888888888, \"#fdca26\"], [1.0, \"#f0f921\"]]}, \"colorway\": [\"#636efa\", \"#EF553B\", \"#00cc96\", \"#ab63fa\", \"#FFA15A\", \"#19d3f3\", \"#FF6692\", \"#B6E880\", \"#FF97FF\", \"#FECB52\"], \"font\": {\"color\": \"#2a3f5f\"}, \"geo\": {\"bgcolor\": \"white\", \"lakecolor\": \"white\", \"landcolor\": \"#E5ECF6\", \"showlakes\": true, \"showland\": true, \"subunitcolor\": \"white\"}, \"hoverlabel\": {\"align\": \"left\"}, \"hovermode\": \"closest\", \"mapbox\": {\"style\": \"light\"}, \"paper_bgcolor\": \"white\", \"plot_bgcolor\": \"#E5ECF6\", \"polar\": {\"angularaxis\": {\"gridcolor\": \"white\", \"linecolor\": \"white\", \"ticks\": \"\"}, \"bgcolor\": \"#E5ECF6\", \"radialaxis\": {\"gridcolor\": \"white\", \"linecolor\": \"white\", \"ticks\": \"\"}}, \"scene\": {\"xaxis\": {\"backgroundcolor\": \"#E5ECF6\", \"gridcolor\": \"white\", \"gridwidth\": 2, \"linecolor\": \"white\", \"showbackground\": true, \"ticks\": \"\", \"zerolinecolor\": \"white\"}, \"yaxis\": {\"backgroundcolor\": \"#E5ECF6\", \"gridcolor\": \"white\", \"gridwidth\": 2, \"linecolor\": \"white\", \"showbackground\": true, \"ticks\": \"\", \"zerolinecolor\": \"white\"}, \"zaxis\": {\"backgroundcolor\": \"#E5ECF6\", \"gridcolor\": \"white\", \"gridwidth\": 2, \"linecolor\": \"white\", \"showbackground\": true, \"ticks\": \"\", \"zerolinecolor\": \"white\"}}, \"shapedefaults\": {\"line\": {\"color\": \"#2a3f5f\"}}, \"ternary\": {\"aaxis\": {\"gridcolor\": \"white\", \"linecolor\": \"white\", \"ticks\": \"\"}, \"baxis\": {\"gridcolor\": \"white\", \"linecolor\": \"white\", \"ticks\": \"\"}, \"bgcolor\": \"#E5ECF6\", \"caxis\": {\"gridcolor\": \"white\", \"linecolor\": \"white\", \"ticks\": \"\"}}, \"title\": {\"x\": 0.05}, \"xaxis\": {\"automargin\": true, \"gridcolor\": \"white\", \"linecolor\": \"white\", \"ticks\": \"\", \"title\": {\"standoff\": 15}, \"zerolinecolor\": \"white\", \"zerolinewidth\": 2}, \"yaxis\": {\"automargin\": true, \"gridcolor\": \"white\", \"linecolor\": \"white\", \"ticks\": \"\", \"title\": {\"standoff\": 15}, \"zerolinecolor\": \"white\", \"zerolinewidth\": 2}}}, \"title\": {\"text\": \"2016 & 2018 Candidates in Races by State\"}},                        {\"responsive\": true}                    ).then(function(){\n",
       "                            \n",
       "var gd = document.getElementById('381da63c-156d-461b-8eb3-b21910292918');\n",
       "var x = new MutationObserver(function (mutations, observer) {{\n",
       "        var display = window.getComputedStyle(gd).display;\n",
       "        if (!display || display === 'none') {{\n",
       "            console.log([gd, 'removed!']);\n",
       "            Plotly.purge(gd);\n",
       "            observer.disconnect();\n",
       "        }}\n",
       "}});\n",
       "\n",
       "// Listen for the removal of the full notebook cells\n",
       "var notebookContainer = gd.closest('#notebook-container');\n",
       "if (notebookContainer) {{\n",
       "    x.observe(notebookContainer, {childList: true});\n",
       "}}\n",
       "\n",
       "// Listen for the clearing of the current output cell\n",
       "var outputEl = gd.closest('.output');\n",
       "if (outputEl) {{\n",
       "    x.observe(outputEl, {childList: true});\n",
       "}}\n",
       "\n",
       "                        })                };                });            </script>        </div>"
      ]
     },
     "metadata": {},
     "output_type": "display_data"
    }
   ],
   "source": [
    "fig = go.Figure(data=go.Choropleth(\n",
    "    locations=candidate_locations['CAND_OFFICE_ST'], # Spatial coordinates\n",
    "    z = candidate_locations['count'], # Data to be color-coded\n",
    "    locationmode = 'USA-states', # set of locations match entries in `locations`\n",
    "    colorscale = 'Blues',\n",
    "    colorbar_title = \"Candidate Number\",\n",
    "))\n",
    "\n",
    "fig.update_layout(\n",
    "    title_text = '2016 & 2018 Candidates in Races by State',\n",
    "    geo_scope='usa', # limite map scope to USA\n",
    ")\n",
    "\n",
    "fig.show()"
   ]
  },
  {
   "cell_type": "code",
   "execution_count": null,
   "metadata": {},
   "outputs": [],
   "source": []
  },
  {
   "cell_type": "markdown",
   "metadata": {},
   "source": [
    "# Model Preparation:"
   ]
  },
  {
   "cell_type": "markdown",
   "metadata": {},
   "source": [
    "### General Inputs for CLASSIFICATION Model:  \n",
    "Defines what variables will be considered and the train/test split"
   ]
  },
  {
   "cell_type": "code",
   "execution_count": 16,
   "metadata": {},
   "outputs": [],
   "source": [
    "SEED = 1\n",
    "training_fraction = [0.8, 0.2]\n",
    "ITERS = 5\n",
    "target = 'WINNER'\n",
    "vars_to_keep = ['CAND_ICU','REL_TOTAL_DONATIONS','REL_NUMBER_OF_DONATIONS','PERCENT_BIG_DONATIONS','PERCENT_OUT_OF_STATE_DONATIONS']\n",
    "df_model = df_house.select([target]+vars_to_keep)"
   ]
  },
  {
   "cell_type": "markdown",
   "metadata": {},
   "source": [
    "### Check positive/negative balance of data set:  \n",
    "Relatively balanced, no down/up-sampling required"
   ]
  },
  {
   "cell_type": "code",
   "execution_count": 18,
   "metadata": {},
   "outputs": [
    {
     "name": "stdout",
     "output_type": "stream",
     "text": [
      "+------+-----+\n",
      "|WINNER|count|\n",
      "+------+-----+\n",
      "|     1|  560|\n",
      "|     0|  620|\n",
      "+------+-----+\n",
      "\n"
     ]
    }
   ],
   "source": [
    "#relatively balanced data set\n",
    "df_model.groupBy(target).count().show()"
   ]
  },
  {
   "cell_type": "markdown",
   "metadata": {},
   "source": [
    "### Correlation Matrix of the features:\n",
    "Expect to see decent correlation between incumbent status and the funds raised"
   ]
  },
  {
   "cell_type": "code",
   "execution_count": 23,
   "metadata": {},
   "outputs": [],
   "source": [
    "# nice to have - not working currently\n",
    "\n",
    "# r=Correlation.corr(df_model, vars_to_keep)"
   ]
  },
  {
   "cell_type": "markdown",
   "metadata": {},
   "source": [
    "### Identify **benchmark** classification model by univariate feature selection:  \n",
    "Create simple models of single variables and look at various metrics to determine what will be the benchmark"
   ]
  },
  {
   "cell_type": "code",
   "execution_count": 17,
   "metadata": {},
   "outputs": [],
   "source": [
    "def univariate_models(df, target, training_fraction, iters, seed):\n",
    "\n",
    "    # split the data into train/test using seed\n",
    "    data_train, data_test = df.randomSplit(training_fraction,seed=seed)\n",
    "    \n",
    "    # list of predictor variables\n",
    "    vars = df.columns[1:]\n",
    "    \n",
    "    # results storage\n",
    "    df_out = pd.DataFrame(index=vars, columns=['accuracy','precision','recall','auroc'])    \n",
    "\n",
    "    for v in vars:    \n",
    "        # create train and test dataframes with columns: target, v\n",
    "        train = data_train.select(target,v)\n",
    "        test = data_test.select(target,v)\n",
    "\n",
    "        # cast to LabeledPoint\n",
    "        # train\n",
    "        train_lp = train \\\n",
    "                     .rdd \\\n",
    "                     .map(lambda row: reg.LabeledPoint(row[0], row[1:]))\n",
    "        \n",
    "        # test\n",
    "        test_lp = test \\\n",
    "                     .rdd \\\n",
    "                     .map(lambda row: reg.LabeledPoint(row[0], row[1:]))\n",
    "\n",
    "        # train logistic regression, setting iterations, including intercept\n",
    "        LR_Model = LogisticRegressionWithLBFGS.train(train_lp, iterations=iters, intercept=True)\n",
    "\n",
    "        pred_test = test_lp.map(lambda p: (p.label, LR_Model.predict(p.features))) \\\n",
    "                           .map(lambda row: (row[0], row[1] * 1.0))      \n",
    "                       \n",
    "        #df_out['weight'].loc[v] = LR_Model.weights  # store the weights\n",
    "\n",
    "        #accuracy = (tp+tn)/all\n",
    "        df_out['accuracy'].loc[v] = 1.0 * pred_test.filter(lambda pl: pl[0] == pl[1]).count() / test.count()\n",
    "        \n",
    "        tp = pred_test.filter(lambda x: x == (1.0, 1)).count()\n",
    "        fp = pred_test.filter(lambda x: x == (0.0, 1)).count()\n",
    "        fn = pred_test.filter(lambda x: x == (1.0, 0)).count()\n",
    "                \n",
    "        #precision = tp/(tp+fp); essentially of all predicted positive what % correct\n",
    "        df_out['precision'].loc[v] = tp/(tp+fp)                                         \n",
    "       \n",
    "        #recall = tp/(tp+fn); essentially of all condition positive what % correct\n",
    "        df_out['recall'].loc[v] = tp/(tp+fn)\n",
    "        \n",
    "        # metrics.areaUnderROC\n",
    "        metrics = BinaryClassificationMetrics(pred_test)\n",
    "        df_out['auroc'].loc[v] = metrics.areaUnderROC # extract AUROC      \n",
    "        \n",
    "    df_out.sort_values(by='accuracy', ascending=False, inplace=True)\n",
    "    \n",
    "    return df_out"
   ]
  },
  {
   "cell_type": "code",
   "execution_count": 18,
   "metadata": {},
   "outputs": [
    {
     "name": "stdout",
     "output_type": "stream",
     "text": [
      "CPU times: user 1.14 s, sys: 437 ms, total: 1.58 s\n",
      "Wall time: 9min 48s\n"
     ]
    }
   ],
   "source": [
    "%time df_output = univariate_models(df_model, target, training_fraction, ITERS, SEED)"
   ]
  },
  {
   "cell_type": "code",
   "execution_count": 19,
   "metadata": {},
   "outputs": [
    {
     "data": {
      "text/html": [
       "<div>\n",
       "<style scoped>\n",
       "    .dataframe tbody tr th:only-of-type {\n",
       "        vertical-align: middle;\n",
       "    }\n",
       "\n",
       "    .dataframe tbody tr th {\n",
       "        vertical-align: top;\n",
       "    }\n",
       "\n",
       "    .dataframe thead th {\n",
       "        text-align: right;\n",
       "    }\n",
       "</style>\n",
       "<table border=\"1\" class=\"dataframe\">\n",
       "  <thead>\n",
       "    <tr style=\"text-align: right;\">\n",
       "      <th></th>\n",
       "      <th>accuracy</th>\n",
       "      <th>precision</th>\n",
       "      <th>recall</th>\n",
       "      <th>auroc</th>\n",
       "    </tr>\n",
       "  </thead>\n",
       "  <tbody>\n",
       "    <tr>\n",
       "      <th>CAND_ICU</th>\n",
       "      <td>0.861224</td>\n",
       "      <td>0.931373</td>\n",
       "      <td>0.778689</td>\n",
       "      <td>0.871281</td>\n",
       "    </tr>\n",
       "    <tr>\n",
       "      <th>REL_TOTAL_DONATIONS</th>\n",
       "      <td>0.816327</td>\n",
       "      <td>0.793893</td>\n",
       "      <td>0.852459</td>\n",
       "      <td>0.817999</td>\n",
       "    </tr>\n",
       "    <tr>\n",
       "      <th>REL_NUMBER_OF_DONATIONS</th>\n",
       "      <td>0.746939</td>\n",
       "      <td>0.734375</td>\n",
       "      <td>0.770492</td>\n",
       "      <td>0.747529</td>\n",
       "    </tr>\n",
       "    <tr>\n",
       "      <th>PERCENT_BIG_DONATIONS</th>\n",
       "      <td>0.628571</td>\n",
       "      <td>0.656566</td>\n",
       "      <td>0.532787</td>\n",
       "      <td>0.633077</td>\n",
       "    </tr>\n",
       "    <tr>\n",
       "      <th>PERCENT_OUT_OF_STATE_DONATIONS</th>\n",
       "      <td>0.538776</td>\n",
       "      <td>0.569231</td>\n",
       "      <td>0.303279</td>\n",
       "      <td>0.548504</td>\n",
       "    </tr>\n",
       "  </tbody>\n",
       "</table>\n",
       "</div>"
      ],
      "text/plain": [
       "                                accuracy precision    recall     auroc\n",
       "CAND_ICU                        0.861224  0.931373  0.778689  0.871281\n",
       "REL_TOTAL_DONATIONS             0.816327  0.793893  0.852459  0.817999\n",
       "REL_NUMBER_OF_DONATIONS         0.746939  0.734375  0.770492  0.747529\n",
       "PERCENT_BIG_DONATIONS           0.628571  0.656566  0.532787  0.633077\n",
       "PERCENT_OUT_OF_STATE_DONATIONS  0.538776  0.569231  0.303279  0.548504"
      ]
     },
     "execution_count": 19,
     "metadata": {},
     "output_type": "execute_result"
    }
   ],
   "source": [
    "df_output"
   ]
  },
  {
   "cell_type": "markdown",
   "metadata": {},
   "source": [
    "Based on this output, **benchmark** classification model is: **Univariate Logistic Regression Model with REL_TOTAL_DONATIONS** as the input variable.  This model exhibits stable, high performance across the evaluation metrics: \n",
    "\n",
    "\n"
   ]
  },
  {
   "cell_type": "markdown",
   "metadata": {},
   "source": [
    "Rebuild the **benchmark** model to produce the confusion matrix:"
   ]
  },
  {
   "cell_type": "code",
   "execution_count": 22,
   "metadata": {},
   "outputs": [
    {
     "data": {
      "text/html": [
       "<div>\n",
       "<style scoped>\n",
       "    .dataframe tbody tr th:only-of-type {\n",
       "        vertical-align: middle;\n",
       "    }\n",
       "\n",
       "    .dataframe tbody tr th {\n",
       "        vertical-align: top;\n",
       "    }\n",
       "\n",
       "    .dataframe thead th {\n",
       "        text-align: right;\n",
       "    }\n",
       "</style>\n",
       "<table border=\"1\" class=\"dataframe\">\n",
       "  <thead>\n",
       "    <tr style=\"text-align: right;\">\n",
       "      <th></th>\n",
       "      <th>0</th>\n",
       "      <th>1</th>\n",
       "    </tr>\n",
       "  </thead>\n",
       "  <tbody>\n",
       "    <tr>\n",
       "      <th>0</th>\n",
       "      <td>105</td>\n",
       "      <td>26</td>\n",
       "    </tr>\n",
       "    <tr>\n",
       "      <th>1</th>\n",
       "      <td>24</td>\n",
       "      <td>90</td>\n",
       "    </tr>\n",
       "  </tbody>\n",
       "</table>\n",
       "</div>"
      ],
      "text/plain": [
       "     0   1\n",
       "0  105  26\n",
       "1   24  90"
      ]
     },
     "execution_count": 22,
     "metadata": {},
     "output_type": "execute_result"
    }
   ],
   "source": [
    "##############################\n",
    "## Classification Benchmark ##\n",
    "##############################\n",
    "\n",
    "train, test = df_house.randomSplit(training_fraction,seed=SEED)\n",
    "    \n",
    "bench_train = train.select(target,'REL_TOTAL_DONATIONS')\n",
    "bench_test = test.select(target,'REL_TOTAL_DONATIONS')\n",
    "\n",
    "bench_train_lp = bench_train \\\n",
    "                .rdd \\\n",
    "                .map(lambda row: reg.LabeledPoint(row[0], row[1:]))\n",
    "        \n",
    "bench_test_lp = bench_test \\\n",
    "             .rdd \\\n",
    "             .map(lambda row: reg.LabeledPoint(row[0], row[1:]))\n",
    "\n",
    "bench_LR_Model = LogisticRegressionWithLBFGS.train(bench_train_lp, iterations=ITERS, intercept=True)\n",
    "       \n",
    "bench_pred_test = bench_test_lp.map(lambda p: (p.label, bench_LR_Model.predict(p.features))) \\\n",
    "                               .map(lambda row: (row[0], row[1] * 1.0))\n",
    "\n",
    "################################\n",
    "## Benchmark Confusion Matrix ##\n",
    "################################\n",
    "\n",
    "tp = bench_pred_test.filter(lambda x: x == (1.0, 1)).count()\n",
    "tn = bench_pred_test.filter(lambda x: x == (0.0, 0)).count()\n",
    "fp = bench_pred_test.filter(lambda x: x == (0.0, 1)).count()\n",
    "fn = bench_pred_test.filter(lambda x: x == (1.0, 0)).count()\n",
    "\n",
    "confusion_mtx = pd.DataFrame(data = [[tn,fp],[fn,tp]], index = [0,1], columns = [0,1])\n",
    "confusion_mtx"
   ]
  },
  {
   "cell_type": "markdown",
   "metadata": {},
   "source": [
    "### Identify **champion** classifcation model:"
   ]
  },
  {
   "cell_type": "markdown",
   "metadata": {},
   "source": [
    "RandomForest Model implementation candidate\n"
   ]
  },
  {
   "cell_type": "code",
   "execution_count": 20,
   "metadata": {},
   "outputs": [
    {
     "data": {
      "text/html": [
       "<div>\n",
       "<style scoped>\n",
       "    .dataframe tbody tr th:only-of-type {\n",
       "        vertical-align: middle;\n",
       "    }\n",
       "\n",
       "    .dataframe tbody tr th {\n",
       "        vertical-align: top;\n",
       "    }\n",
       "\n",
       "    .dataframe thead th {\n",
       "        text-align: right;\n",
       "    }\n",
       "</style>\n",
       "<table border=\"1\" class=\"dataframe\">\n",
       "  <thead>\n",
       "    <tr style=\"text-align: right;\">\n",
       "      <th></th>\n",
       "      <th>accuracy</th>\n",
       "      <th>precision</th>\n",
       "      <th>recall</th>\n",
       "      <th>auroc</th>\n",
       "    </tr>\n",
       "  </thead>\n",
       "  <tbody>\n",
       "    <tr>\n",
       "      <th>RandomForest Model</th>\n",
       "      <td>0.918367</td>\n",
       "      <td>0.905172</td>\n",
       "      <td>0.921053</td>\n",
       "      <td>0.917702</td>\n",
       "    </tr>\n",
       "  </tbody>\n",
       "</table>\n",
       "</div>"
      ],
      "text/plain": [
       "                    accuracy  precision    recall     auroc\n",
       "RandomForest Model  0.918367   0.905172  0.921053  0.917702"
      ]
     },
     "execution_count": 20,
     "metadata": {},
     "output_type": "execute_result"
    }
   ],
   "source": [
    "############################\n",
    "## RandomForest Candidate ##\n",
    "############################\n",
    "\n",
    "train, test = df_house.randomSplit(training_fraction,seed=SEED)\n",
    "\n",
    "#including all variables\n",
    "champ_train = train.select([target]+vars_to_keep)\n",
    "champ_test = test.select([target]+vars_to_keep)\n",
    "\n",
    "champ_train_lp = champ_train \\\n",
    "                .rdd \\\n",
    "                .map(lambda row: reg.LabeledPoint(row[0], row[1:]))\n",
    "        \n",
    "champ_test_lp = champ_test \\\n",
    "             .rdd \\\n",
    "             .map(lambda row: reg.LabeledPoint(row[0], row[1:]))\n",
    "\n",
    "champ_RF_Model = RandomForest.trainClassifier(champ_train_lp, numClasses=2, categoricalFeaturesInfo={}, \n",
    "                                              numTrees=50, featureSubsetStrategy=\"auto\", \n",
    "                                              impurity='gini', maxDepth=3, maxBins=32, seed=SEED)\n",
    "\n",
    "#significant issues pulling together the labels and estimates - unclear from error readout what the issue was\n",
    "#created workaround to collect and recreate RDD\n",
    "predictions = champ_RF_Model.predict(champ_test_lp.map(lambda x: x.features)).collect()\n",
    "labels = champ_test_lp.map(lambda lp: lp.label).collect()\n",
    "pred_total = list(zip(labels,predictions))\n",
    "champ_test = spark.sparkContext.parallelize(pred_total)\n",
    "\n",
    "\n",
    "######################\n",
    "## Model Evaluation ##\n",
    "######################\n",
    "\n",
    "#accuracy = (tp+tn)/all\n",
    "df_champ1_accuracy = 1.0 * champ_test.filter(lambda pl: pl[0] == pl[1]).count() / test.count()\n",
    "\n",
    "tp = champ_test.filter(lambda x: x == (1.0, 1)).count()\n",
    "fp = champ_test.filter(lambda x: x == (0.0, 1)).count()\n",
    "fn = champ_test.filter(lambda x: x == (1.0, 0)).count()      \n",
    "        \n",
    "#precision = tp/(tp+fp); essentially of all predicted positive what % correct\n",
    "df_champ1_precision = tp/(tp+fp)                                         \n",
    "       \n",
    "#recall = tp/(tp+fn); essentially of all condition positive what % correct\n",
    "df_champ1_recall = tp/(tp+fn)\n",
    "\n",
    "#auroc\n",
    "champ_metrics = BinaryClassificationMetrics(champ_test)\n",
    "df_champ1_auroc = champ_metrics.areaUnderROC\n",
    "\n",
    "#place values in data frame for presentation\n",
    "df_champ1 = pd.DataFrame(columns = ['accuracy','precision','recall','auroc'])\n",
    "df_champ1.loc[0] = [df_champ1_accuracy,df_champ1_precision,df_champ1_recall,df_champ1_auroc]\n",
    "df_champ1 = df_champ1.rename(index={0:'RandomForest Model'})\n",
    "df_champ1\n"
   ]
  },
  {
   "cell_type": "code",
   "execution_count": 25,
   "metadata": {},
   "outputs": [
    {
     "data": {
      "text/html": [
       "<div>\n",
       "<style scoped>\n",
       "    .dataframe tbody tr th:only-of-type {\n",
       "        vertical-align: middle;\n",
       "    }\n",
       "\n",
       "    .dataframe tbody tr th {\n",
       "        vertical-align: top;\n",
       "    }\n",
       "\n",
       "    .dataframe thead th {\n",
       "        text-align: right;\n",
       "    }\n",
       "</style>\n",
       "<table border=\"1\" class=\"dataframe\">\n",
       "  <thead>\n",
       "    <tr style=\"text-align: right;\">\n",
       "      <th></th>\n",
       "      <th>0</th>\n",
       "      <th>1</th>\n",
       "    </tr>\n",
       "  </thead>\n",
       "  <tbody>\n",
       "    <tr>\n",
       "      <th>0</th>\n",
       "      <td>120</td>\n",
       "      <td>11</td>\n",
       "    </tr>\n",
       "    <tr>\n",
       "      <th>1</th>\n",
       "      <td>9</td>\n",
       "      <td>105</td>\n",
       "    </tr>\n",
       "  </tbody>\n",
       "</table>\n",
       "</div>"
      ],
      "text/plain": [
       "     0    1\n",
       "0  120   11\n",
       "1    9  105"
      ]
     },
     "execution_count": 25,
     "metadata": {},
     "output_type": "execute_result"
    }
   ],
   "source": [
    "#########################\n",
    "## RF Confusion Matrix ##\n",
    "#########################\n",
    "\n",
    "tp = champ_test.filter(lambda x: x == (1.0, 1)).count()\n",
    "tn = champ_test.filter(lambda x: x == (0.0, 0)).count()\n",
    "fp = champ_test.filter(lambda x: x == (0.0, 1)).count()\n",
    "fn = champ_test.filter(lambda x: x == (1.0, 0)).count()\n",
    "\n",
    "confusion_mtx = pd.DataFrame(data = [[tn,fp],[fn,tp]], index = [0,1], columns = [0,1])\n",
    "confusion_mtx"
   ]
  },
  {
   "cell_type": "markdown",
   "metadata": {},
   "source": [
    "---\n",
    "Gradient-Boosted Tree implementation candidate:"
   ]
  },
  {
   "cell_type": "code",
   "execution_count": 21,
   "metadata": {},
   "outputs": [
    {
     "data": {
      "text/html": [
       "<div>\n",
       "<style scoped>\n",
       "    .dataframe tbody tr th:only-of-type {\n",
       "        vertical-align: middle;\n",
       "    }\n",
       "\n",
       "    .dataframe tbody tr th {\n",
       "        vertical-align: top;\n",
       "    }\n",
       "\n",
       "    .dataframe thead th {\n",
       "        text-align: right;\n",
       "    }\n",
       "</style>\n",
       "<table border=\"1\" class=\"dataframe\">\n",
       "  <thead>\n",
       "    <tr style=\"text-align: right;\">\n",
       "      <th></th>\n",
       "      <th>accuracy</th>\n",
       "      <th>precision</th>\n",
       "      <th>recall</th>\n",
       "      <th>auroc</th>\n",
       "    </tr>\n",
       "  </thead>\n",
       "  <tbody>\n",
       "    <tr>\n",
       "      <th>Gradient-Boosted Tree Model</th>\n",
       "      <td>0.885714</td>\n",
       "      <td>0.87069</td>\n",
       "      <td>0.885965</td>\n",
       "      <td>0.884957</td>\n",
       "    </tr>\n",
       "  </tbody>\n",
       "</table>\n",
       "</div>"
      ],
      "text/plain": [
       "                             accuracy  precision    recall     auroc\n",
       "Gradient-Boosted Tree Model  0.885714    0.87069  0.885965  0.884957"
      ]
     },
     "execution_count": 21,
     "metadata": {},
     "output_type": "execute_result"
    }
   ],
   "source": [
    "##############################\n",
    "## Gradient Boost Candidate ##\n",
    "##############################\n",
    "\n",
    "train, test = df_house.randomSplit(training_fraction,seed=SEED)\n",
    "\n",
    "#including all variables\n",
    "champ2_train = train.select([target]+vars_to_keep)\n",
    "champ2_test = test.select([target]+vars_to_keep)\n",
    "\n",
    "champ2_train_lp = champ2_train \\\n",
    "                .rdd \\\n",
    "                .map(lambda row: reg.LabeledPoint(row[0], row[1:]))\n",
    "        \n",
    "champ2_test_lp = champ2_test \\\n",
    "             .rdd \\\n",
    "             .map(lambda row: reg.LabeledPoint(row[0], row[1:]))\n",
    "\n",
    "champ_GBT_Model = GradientBoostedTrees.trainClassifier(champ2_train_lp, categoricalFeaturesInfo={}, \n",
    "                                                       numIterations=50, learningRate=0.1, \n",
    "                                                       maxDepth=3, maxBins=32)\n",
    "\n",
    "#significant issues pulling together the labels and estimates - unclear from error readout what the issue was\n",
    "#created workaround to collect and recreate RDD\n",
    "predictions = champ_GBT_Model.predict(champ2_test_lp.map(lambda x: x.features)).collect()\n",
    "labels = champ2_test_lp.map(lambda lp: lp.label).collect()\n",
    "pred_total = list(zip(labels,predictions))\n",
    "champ2_test = spark.sparkContext.parallelize(pred_total)\n",
    "\n",
    "######################\n",
    "## Model Evaluation ##\n",
    "######################\n",
    "\n",
    "#accuracy = (tp+tn)/all\n",
    "df_champ2_accuracy = 1.0 * champ2_test.filter(lambda pl: pl[0] == pl[1]).count() / test.count()\n",
    "\n",
    "tp = champ2_test.filter(lambda x: x == (1.0, 1)).count()\n",
    "fp = champ2_test.filter(lambda x: x == (0.0, 1)).count()\n",
    "fn = champ2_test.filter(lambda x: x == (1.0, 0)).count()      \n",
    "        \n",
    "#precision = tp/(tp+fp); essentially of all predicted positive what % correct\n",
    "df_champ2_precision = tp/(tp+fp)                                         \n",
    "       \n",
    "#recall = tp/(tp+fn); essentially of all condition positive what % correct\n",
    "df_champ2_recall = tp/(tp+fn)\n",
    "\n",
    "#auroc\n",
    "champ2_metrics = BinaryClassificationMetrics(champ2_test)\n",
    "df_champ2_auroc = champ2_metrics.areaUnderROC\n",
    "\n",
    "#place values in data frame for presentation\n",
    "df_champ2 = pd.DataFrame(columns = ['accuracy','precision','recall','auroc'])\n",
    "df_champ2.loc[0] = [df_champ2_accuracy,df_champ2_precision,df_champ2_recall,df_champ2_auroc]\n",
    "df_champ2 = df_champ2.rename(index={0:'Gradient-Boosted Tree Model'})\n",
    "df_champ2"
   ]
  },
  {
   "cell_type": "code",
   "execution_count": 24,
   "metadata": {},
   "outputs": [
    {
     "data": {
      "text/html": [
       "<div>\n",
       "<style scoped>\n",
       "    .dataframe tbody tr th:only-of-type {\n",
       "        vertical-align: middle;\n",
       "    }\n",
       "\n",
       "    .dataframe tbody tr th {\n",
       "        vertical-align: top;\n",
       "    }\n",
       "\n",
       "    .dataframe thead th {\n",
       "        text-align: right;\n",
       "    }\n",
       "</style>\n",
       "<table border=\"1\" class=\"dataframe\">\n",
       "  <thead>\n",
       "    <tr style=\"text-align: right;\">\n",
       "      <th></th>\n",
       "      <th>0</th>\n",
       "      <th>1</th>\n",
       "    </tr>\n",
       "  </thead>\n",
       "  <tbody>\n",
       "    <tr>\n",
       "      <th>0</th>\n",
       "      <td>116</td>\n",
       "      <td>15</td>\n",
       "    </tr>\n",
       "    <tr>\n",
       "      <th>1</th>\n",
       "      <td>13</td>\n",
       "      <td>101</td>\n",
       "    </tr>\n",
       "  </tbody>\n",
       "</table>\n",
       "</div>"
      ],
      "text/plain": [
       "     0    1\n",
       "0  116   15\n",
       "1   13  101"
      ]
     },
     "execution_count": 24,
     "metadata": {},
     "output_type": "execute_result"
    }
   ],
   "source": [
    "##########################\n",
    "## GBT Confusion Matrix ##\n",
    "##########################\n",
    "\n",
    "tp = champ2_test.filter(lambda x: x == (1.0, 1)).count()\n",
    "tn = champ2_test.filter(lambda x: x == (0.0, 0)).count()\n",
    "fp = champ2_test.filter(lambda x: x == (0.0, 1)).count()\n",
    "fn = champ2_test.filter(lambda x: x == (1.0, 0)).count()\n",
    "\n",
    "confusion_mtx = pd.DataFrame(data = [[tn,fp],[fn,tp]], index = [0,1], columns = [0,1])\n",
    "confusion_mtx"
   ]
  },
  {
   "cell_type": "markdown",
   "metadata": {},
   "source": [
    "### Results/Conclusions:"
   ]
  },
  {
   "cell_type": "markdown",
   "metadata": {},
   "source": [
    "Summarize Classification Model Outputs"
   ]
  },
  {
   "cell_type": "code",
   "execution_count": 23,
   "metadata": {},
   "outputs": [
    {
     "data": {
      "text/html": [
       "<div>\n",
       "<style scoped>\n",
       "    .dataframe tbody tr th:only-of-type {\n",
       "        vertical-align: middle;\n",
       "    }\n",
       "\n",
       "    .dataframe tbody tr th {\n",
       "        vertical-align: top;\n",
       "    }\n",
       "\n",
       "    .dataframe thead th {\n",
       "        text-align: right;\n",
       "    }\n",
       "</style>\n",
       "<table border=\"1\" class=\"dataframe\">\n",
       "  <thead>\n",
       "    <tr style=\"text-align: right;\">\n",
       "      <th></th>\n",
       "      <th>accuracy</th>\n",
       "      <th>precision</th>\n",
       "      <th>recall</th>\n",
       "      <th>auroc</th>\n",
       "    </tr>\n",
       "  </thead>\n",
       "  <tbody>\n",
       "    <tr>\n",
       "      <th>RandomForest Model</th>\n",
       "      <td>0.918367</td>\n",
       "      <td>0.905172</td>\n",
       "      <td>0.921053</td>\n",
       "      <td>0.917702</td>\n",
       "    </tr>\n",
       "    <tr>\n",
       "      <th>Gradient-Boosted Tree Model</th>\n",
       "      <td>0.885714</td>\n",
       "      <td>0.87069</td>\n",
       "      <td>0.885965</td>\n",
       "      <td>0.884957</td>\n",
       "    </tr>\n",
       "    <tr>\n",
       "      <th>CAND_ICU</th>\n",
       "      <td>0.861224</td>\n",
       "      <td>0.931373</td>\n",
       "      <td>0.778689</td>\n",
       "      <td>0.871281</td>\n",
       "    </tr>\n",
       "    <tr>\n",
       "      <th>REL_TOTAL_DONATIONS</th>\n",
       "      <td>0.816327</td>\n",
       "      <td>0.793893</td>\n",
       "      <td>0.852459</td>\n",
       "      <td>0.817999</td>\n",
       "    </tr>\n",
       "    <tr>\n",
       "      <th>REL_NUMBER_OF_DONATIONS</th>\n",
       "      <td>0.746939</td>\n",
       "      <td>0.734375</td>\n",
       "      <td>0.770492</td>\n",
       "      <td>0.747529</td>\n",
       "    </tr>\n",
       "    <tr>\n",
       "      <th>PERCENT_BIG_DONATIONS</th>\n",
       "      <td>0.628571</td>\n",
       "      <td>0.656566</td>\n",
       "      <td>0.532787</td>\n",
       "      <td>0.633077</td>\n",
       "    </tr>\n",
       "    <tr>\n",
       "      <th>PERCENT_OUT_OF_STATE_DONATIONS</th>\n",
       "      <td>0.538776</td>\n",
       "      <td>0.569231</td>\n",
       "      <td>0.303279</td>\n",
       "      <td>0.548504</td>\n",
       "    </tr>\n",
       "  </tbody>\n",
       "</table>\n",
       "</div>"
      ],
      "text/plain": [
       "                                accuracy precision    recall     auroc\n",
       "RandomForest Model              0.918367  0.905172  0.921053  0.917702\n",
       "Gradient-Boosted Tree Model     0.885714   0.87069  0.885965  0.884957\n",
       "CAND_ICU                        0.861224  0.931373  0.778689  0.871281\n",
       "REL_TOTAL_DONATIONS             0.816327  0.793893  0.852459  0.817999\n",
       "REL_NUMBER_OF_DONATIONS         0.746939  0.734375  0.770492  0.747529\n",
       "PERCENT_BIG_DONATIONS           0.628571  0.656566  0.532787  0.633077\n",
       "PERCENT_OUT_OF_STATE_DONATIONS  0.538776  0.569231  0.303279  0.548504"
      ]
     },
     "execution_count": 23,
     "metadata": {},
     "output_type": "execute_result"
    }
   ],
   "source": [
    "results_all = pd.concat([df_champ2, df_champ1, df_output])\n",
    "results_all.sort_values(by='accuracy', ascending=False, inplace=True)\n",
    "results_all"
   ]
  }
 ],
 "metadata": {
  "kernelspec": {
   "display_name": "DS 5559",
   "language": "python",
   "name": "ds5559"
  },
  "language_info": {
   "codemirror_mode": {
    "name": "ipython",
    "version": 3
   },
   "file_extension": ".py",
   "mimetype": "text/x-python",
   "name": "python",
   "nbconvert_exporter": "python",
   "pygments_lexer": "ipython3",
   "version": "3.7.6"
  }
 },
 "nbformat": 4,
 "nbformat_minor": 4
}
