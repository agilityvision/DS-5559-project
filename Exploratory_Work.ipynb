{
 "cells": [
  {
   "cell_type": "markdown",
   "metadata": {},
   "source": [
    "## Exploratory Data Analysis"
   ]
  },
  {
   "cell_type": "markdown",
   "metadata": {},
   "source": [
    "\n",
    "Brad Howlett (bth2g)  \n",
    "Eric Larson (rel4yx)  \n",
    "Hanim Song (hs4cf) \n",
    "---"
   ]
  },
  {
   "cell_type": "code",
   "execution_count": 1,
   "metadata": {},
   "outputs": [],
   "source": [
    "#import findspark\n",
    "#findspark.init()"
   ]
  },
  {
   "cell_type": "code",
   "execution_count": 54,
   "metadata": {},
   "outputs": [],
   "source": [
    "import os\n",
    "from pyspark.sql import SparkSession\n",
    "import pyspark.sql.types as typ\n",
    "import pyspark.sql.functions as F\n",
    "from pyspark.sql import DataFrame\n",
    "from functools import reduce\n",
    "from pyspark.sql.functions import col, asc\n",
    "from pyspark.sql import SQLContext\n",
    "from pyspark.sql.types import StructType\n",
    "from pyspark.sql.types import StructField\n",
    "from pyspark.sql.types import StringType, DoubleType, DateType\n",
    "from pyspark.sql import SparkSession\n",
    "import pandas as pd\n",
    "import numpy as np"
   ]
  },
  {
   "cell_type": "code",
   "execution_count": 3,
   "metadata": {},
   "outputs": [],
   "source": [
    " import pyspark.sql.column\n",
    " from pyspark.sql.functions import sum, count, avg, expr, lit"
   ]
  },
  {
   "cell_type": "code",
   "execution_count": 4,
   "metadata": {},
   "outputs": [],
   "source": [
    "spark = SparkSession \\\n",
    "    .builder \\\n",
    "    .getOrCreate()\n",
    "\n",
    "sc = spark.sparkContext"
   ]
  },
  {
   "cell_type": "markdown",
   "metadata": {},
   "source": [
    "## Utility functions"
   ]
  },
  {
   "cell_type": "code",
   "execution_count": 5,
   "metadata": {},
   "outputs": [],
   "source": [
    "def csv_header(filename: str):\n",
    "    with open(filename, 'r') as csv:\n",
    "        line = csv.readline().rstrip()\n",
    "    headers = line.split(',')\n",
    "    return headers"
   ]
  },
  {
   "cell_type": "code",
   "execution_count": 6,
   "metadata": {},
   "outputs": [
    {
     "data": {
      "text/plain": [
       "['CAND_ID',\n",
       " 'CAND_NAME',\n",
       " 'CAND_PTY_AFFILIATION',\n",
       " 'CAND_ELECTION_YR',\n",
       " 'CAND_OFFICE_ST',\n",
       " 'CAND_OFFICE',\n",
       " 'CAND_OFFICE_DISTRICT',\n",
       " 'CAND_ICI',\n",
       " 'CAND_STATUS',\n",
       " 'CAND_PCC',\n",
       " 'CAND_ST1',\n",
       " 'CAND_ST2',\n",
       " 'CAND_CITY',\n",
       " 'CAND_ST',\n",
       " 'CAND_ZIP']"
      ]
     },
     "execution_count": 6,
     "metadata": {},
     "output_type": "execute_result"
    }
   ],
   "source": [
    "csv_header('fec_data/cn/cn_header_file.csv')"
   ]
  },
  {
   "cell_type": "markdown",
   "metadata": {},
   "source": [
    "### Based on data from : https://www.fec.gov/data/browse-data/?tab=bulk-data   \n",
    "This is House/Senate campaign finance data:"
   ]
  },
  {
   "cell_type": "code",
   "execution_count": 7,
   "metadata": {},
   "outputs": [],
   "source": [
    "data_dir = 'fec_data'\n",
    "year20 = '20'\n",
    "year18 = '18'\n",
    "year16 = '16'\n",
    "years = [year20, year18, year16]\n"
   ]
  },
  {
   "cell_type": "code",
   "execution_count": 8,
   "metadata": {},
   "outputs": [],
   "source": [
    "def read_data_in(dataname: str, fields_to_double):\n",
    "    dfs = {}\n",
    "    header_row = csv_header(f'{data_dir}/{dataname}/{dataname}_header_file.csv')\n",
    "    #default to stringtype for ease of loading, then adjust below:\n",
    "    fields = [*[typ.StructField(h[:], typ.StringType(), True) for h in header_row]]\n",
    "    schema = typ.StructType(fields)\n",
    "\n",
    "    for year in years:\n",
    "        txt_filename = f'{data_dir}/{dataname}/{dataname}{year}.txt'\n",
    "        df_temp = sc.textFile(txt_filename).map(lambda row: [elem for elem in row.split('|')])\n",
    "        df = spark.createDataFrame(df_temp, schema)\n",
    "        for field in fields_to_double:\n",
    "            df = df.withColumn(field, df[field].cast(DoubleType()))\n",
    "        dfs[year] = df\n",
    "    return dfs"
   ]
  },
  {
   "cell_type": "markdown",
   "metadata": {},
   "source": [
    "**Create dataframes and combine the three files together for analysis:**"
   ]
  },
  {
   "cell_type": "markdown",
   "metadata": {},
   "source": [
    "### This is the original data that you had read in\n",
    "The all candidates file contains summary financial information for each candidate who raised or spent money during the period, regardless of when they are up for election.\n",
    "\n",
    "The file has one record per candidate and shows information about the candidate, total receipts, transfers received from authorized committees, total disbursements, transfers given to authorized committees, cash-on-hand totals, loans and debts, and other financial summary information."
   ]
  },
  {
   "cell_type": "code",
   "execution_count": 9,
   "metadata": {},
   "outputs": [],
   "source": [
    "# weball: create campaigns (weball data dir) dataframes\n",
    "weball_double_fields = [\n",
    "    'TTL_RECEIPTS', \n",
    "    'TTL_INDIV_CONTRIB', \n",
    "    'CAND_CONTRIB', \n",
    "    'OTHER_POL_CMTE_CONTRIB',\n",
    "    'POL_PTY_CONTRIB'\n",
    "]\n",
    "dfs = read_data_in('weball', weball_double_fields)\n",
    "df = reduce(DataFrame.unionAll, dfs.values())"
   ]
  },
  {
   "cell_type": "markdown",
   "metadata": {},
   "source": [
    "The candidate master file contains basic information for each candidate, including:\n",
    "\n",
    "    Candidates who have filed a Statement of Candidacy (Form 2) for the upcoming election\n",
    "\n",
    "    Candidates who have active campaign committees without regard to election year\n",
    "\n",
    "    Candidates who are referenced as a part of a draft committee or a nonconnected committee that registers as supporting or opposing a particular candidate\n",
    "\n",
    "The file shows the candidate's identification number, candidate’s name, party affiliation, election year, office state, office sought, district, incumbent/challenger status, status as a candidate, name of the candidate’s principal campaign committee, and address."
   ]
  },
  {
   "cell_type": "code",
   "execution_count": 10,
   "metadata": {},
   "outputs": [],
   "source": [
    "# cn: The candidate master file contains basic information for each candidate\n",
    "cn_df = read_data_in('cn', [])"
   ]
  },
  {
   "cell_type": "code",
   "execution_count": 11,
   "metadata": {},
   "outputs": [
    {
     "name": "stdout",
     "output_type": "stream",
     "text": [
      "+---------+--------------------+--------------------+----------------+--------------+-----------+--------------------+--------+-----------+---------+--------------------+--------+------------+-------+--------+\n",
      "|  CAND_ID|           CAND_NAME|CAND_PTY_AFFILIATION|CAND_ELECTION_YR|CAND_OFFICE_ST|CAND_OFFICE|CAND_OFFICE_DISTRICT|CAND_ICI|CAND_STATUS| CAND_PCC|            CAND_ST1|CAND_ST2|   CAND_CITY|CAND_ST|CAND_ZIP|\n",
      "+---------+--------------------+--------------------+----------------+--------------+-----------+--------------------+--------+-----------+---------+--------------------+--------+------------+-------+--------+\n",
      "|H0AK00105|        LAMB, THOMAS|                 NNE|            2020|            AK|          H|                  00|       C|          N|C00607515|1861 W LAKE LUCIL...|        |     WASILLA|     AK|   99654|\n",
      "|H0AK00113|   TUGATUK, RAY SEAN|                 DEM|            2020|            AK|          H|                  00|       C|          N|         |          PO BOX 172|        |   MANAKOTAK|     AK|   99628|\n",
      "|H0AK01046|    CATALANO, THOMAS|                 OTH|            2020|            AK|          H|                  00|        |          N|         |188 WEST NORTHERN...|        |   ANCHORAGE|     AK|   99503|\n",
      "|H0AL01055| CARL, JERRY LEE, JR|                 REP|            2020|            AL|          H|                  01|       O|          C|C00697789|       PO BOX 852138|        |      MOBILE|     AL|   36685|\n",
      "|H0AL01063|LAMBERT, DOUGLAS ...|                 REP|            2020|            AL|          H|                  01|       O|          C|C00701557|7194 STILLWATER BLVD|        |SPANISH FORT|     AL|   36527|\n",
      "+---------+--------------------+--------------------+----------------+--------------+-----------+--------------------+--------+-----------+---------+--------------------+--------+------------+-------+--------+\n",
      "only showing top 5 rows\n",
      "\n"
     ]
    }
   ],
   "source": [
    "cn_df[year20].show(5)"
   ]
  },
  {
   "cell_type": "markdown",
   "metadata": {},
   "source": [
    "The committee master file contains one record for each committee registered with the Federal Election Commission. This includes federal political action committees and party committees, campaign committees for presidential, house and senate candidates, as well as groups or organizations who are spending money for or against candidates for federal office."
   ]
  },
  {
   "cell_type": "code",
   "execution_count": 12,
   "metadata": {},
   "outputs": [
    {
     "name": "stdout",
     "output_type": "stream",
     "text": [
      "+---------+--------------------+--------------------+--------------------+---------+-------------+-------+---------+---------+-------+--------------------+----------------+------+--------------------+-------+\n",
      "|  CMTE_ID|             CMTE_NM|             TRES_NM|            CMTE_ST1| CMTE_ST2|    CMTE_CITY|CMTE_ST| CMTE_ZIP|CMTE_DSGN|CMTE_TP|CMTE_PTY_AFFILIATION|CMTE_FILING_FREQ|ORG_TP|    CONNECTED_ORG_NM|CAND_ID|\n",
      "+---------+--------------------+--------------------+--------------------+---------+-------------+-------+---------+---------+-------+--------------------+----------------+------+--------------------+-------+\n",
      "|C00000059|  HALLMARK CARDS PAC|           SARAH MOE|          2501 MCGEE|  MD #500|  KANSAS CITY|     MO|    64108|        U|      Q|                 UNK|               M|     C|                    |       |\n",
      "|C00000422|AMERICAN MEDICAL ...|   WALKER, KEVIN MR.|25 MASSACHUSETTS ...|SUITE 600|   WASHINGTON|     DC|200017400|        B|      Q|                    |               M|     M|DELAWARE MEDICAL PAC|       |\n",
      "|C00000489|D R I V E POLITIC...|       JERRY SIMS JR|         3528 W RENO|         |OKLAHOMA CITY|     OK|    73107|        U|      N|                    |               Q|     L|                    |       |\n",
      "|C00000547|KANSAS MEDICAL SO...|     JERRY SLAUGHTER|     623 SW 10TH AVE|         |       TOPEKA|     KS|666121627|        U|      Q|                 UNK|               Q|     M|KANSAS MEDICAL SO...|       |\n",
      "|C00000638|INDIANA STATE MED...|ACHENBACH, GRANT MR.|322 CANAL WALK, C...|         | INDIANAPOLIS|     IN|    46202|        U|      Q|                    |               T|     M|                    |       |\n",
      "+---------+--------------------+--------------------+--------------------+---------+-------------+-------+---------+---------+-------+--------------------+----------------+------+--------------------+-------+\n",
      "only showing top 5 rows\n",
      "\n"
     ]
    }
   ],
   "source": [
    "# cm: committee master file\n",
    "cm_df = read_data_in('cm', [])\n",
    "cm_df[year20].show(5)"
   ]
  },
  {
   "cell_type": "code",
   "execution_count": 13,
   "metadata": {},
   "outputs": [
    {
     "name": "stdout",
     "output_type": "stream",
     "text": [
      "+---------+----------------+---------------+---------+-------+---------+----------+\n",
      "|  CAND_ID|CAND_ELECTION_YR|FEC_ELECTION_YR|  CMTE_ID|CMTE_TP|CMTE_DSGN|LINKAGE_ID|\n",
      "+---------+----------------+---------------+---------+-------+---------+----------+\n",
      "|C00713602|            2019|           2020|C00712851|      O|        U|    228963|\n",
      "|H0AK00105|            2020|           2020|C00607515|      H|        P|    229250|\n",
      "|H0AL01055|            2020|           2020|C00697789|      H|        P|    226125|\n",
      "|H0AL01063|            2020|           2020|C00701557|      H|        P|    227053|\n",
      "|H0AL01071|            2020|           2020|C00701409|      H|        P|    227054|\n",
      "+---------+----------------+---------------+---------+-------+---------+----------+\n",
      "only showing top 5 rows\n",
      "\n"
     ]
    }
   ],
   "source": [
    "# ccl: This file contains one record for each candidate to committee linkage.\n",
    "ccl_df = read_data_in('ccl', [])\n",
    "ccl_df[year20].show(5)"
   ]
  },
  {
   "cell_type": "markdown",
   "metadata": {},
   "source": [
    "The file has one record per House and Senate campaign committee and shows information about the candidate, total receipts, transfers received from authorized committees, total disbursements, transfers given to authorized committees, cash-on-hand totals, loans and debts, and other financial summary information."
   ]
  },
  {
   "cell_type": "code",
   "execution_count": 14,
   "metadata": {},
   "outputs": [
    {
     "name": "stdout",
     "output_type": "stream",
     "text": [
      "+---------+--------------------+--------+------+--------------------+------------+---------------+---------+-------------+---------+----------+------------+----------+-----------+---------------+----------------+-------------+-----------------+--------------+--------------------+-------------+-------------+------------+------------+--------------------+----------------------+---------------+----------+-------------+------------+\n",
      "|  CAND_ID|           CAND_NAME|CAND_ICI|PTY_CD|CAND_PTY_AFFILIATION|TTL_RECEIPTS|TRANS_FROM_AUTH| TTL_DISB|TRANS_TO_AUTH|  COH_BOP|   COH_COP|CAND_CONTRIB|CAND_LOANS|OTHER_LOANS|CAND_LOAN_REPAY|OTHER_LOAN_REPAY|DEBTS_OWED_BY|TTL_INDIV_CONTRIB|CAND_OFFICE_ST|CAND_OFFICE_DISTRICT|SPEC_ELECTION|PRIM_ELECTION|RUN_ELECTION|GEN_ELECTION|GEN_ELECTION_PRECENT|OTHER_POL_CMTE_CONTRIB|POL_PTY_CONTRIB|CVG_END_DT|INDIV_REFUNDS|CMTE_REFUNDS|\n",
      "+---------+--------------------+--------+------+--------------------+------------+---------------+---------+-------------+---------+----------+------------+----------+-----------+---------------+----------------+-------------+-----------------+--------------+--------------------+-------------+-------------+------------+------------+--------------------+----------------------+---------------+----------+-------------+------------+\n",
      "|H6AK00045|     YOUNG, DONALD E|       I|     2|                 REP|  1362383.63|      132712.44|767973.99|            0|116720.12| 711129.76|           0|         0|          0|              0|               0|            0|        637025.31|            AK|                  00|             |             |            |            |                    |             584444.63|              0|07/29/2020|        15300|        3500|\n",
      "|H8AK00140|       GALVIN, ALYSE|       C|     3|                 IND|  2266364.63|              0|879708.28|            0|  6245.09|1392901.44|     3394.63|         0|          0|              0|               0|       5937.9|        2116292.8|            AK|                  00|             |             |            |            |                    |                109350|              0|07/29/2020|     17866.19|           0|\n",
      "|H0AL01097|     AVERHART, JAMES|       O|     1|                 DEM|    50126.74|              0| 40699.28|            0|        0|   9427.46|           0|     26845|          0|              0|               0|        26845|         23281.74|            AL|                  01|             |             |            |            |                    |                     0|              0|06/30/2020|            0|           0|\n",
      "|H0AL01105|    GARDNER, KIANI A|       O|     1|                 DEM|   118661.85|              0|118661.85|            0|        0|         0|      764.97|      6000|          0|         138.91|               0|      5861.09|         92896.88|            AL|                  01|             |             |            |            |                    |                 19000|              0|07/31/2020|            0|           0|\n",
      "|H0AL01139|COLLINS, FREDERIC...|       O|     1|                 DEM|    62935.42|              0| 60825.97|            0|        0|   2109.45|       56500|         0|          0|              0|               0|            0|          5917.12|            AL|                  01|             |             |            |            |                    |                     0|              0|07/14/2020|            0|           0|\n",
      "+---------+--------------------+--------+------+--------------------+------------+---------------+---------+-------------+---------+----------+------------+----------+-----------+---------------+----------------+-------------+-----------------+--------------+--------------------+-------------+-------------+------------+------------+--------------------+----------------------+---------------+----------+-------------+------------+\n",
      "only showing top 5 rows\n",
      "\n"
     ]
    }
   ],
   "source": [
    "# webl: House Senate campaigns\n",
    "webl_df = read_data_in('webl', [])\n",
    "webl_df[year20].show(5)"
   ]
  },
  {
   "cell_type": "markdown",
   "metadata": {},
   "source": [
    "\n",
    "Contributions from committees to candidates file description\n",
    "\n",
    "The contributions from committees to candidates file is a subset of the itemized records (OTH) file and contains each contribution or independent expenditure made by a:\n",
    "\n",
    "    PAC\n",
    "    Party committee\n",
    "    Candidate committee\n",
    "    Other federal committee\n",
    "\n",
    "and given to a candidate during the two-year election cycle."
   ]
  },
  {
   "cell_type": "code",
   "execution_count": 15,
   "metadata": {},
   "outputs": [
    {
     "name": "stdout",
     "output_type": "stream",
     "text": [
      "+---------+---------+------+---------------+------------------+--------------+---------+--------------------+-----------+-----+--------+--------+----------+--------------+---------------+---------+---------+----------+--------+-------+---------+-------------------+\n",
      "|  CMTE_ID|AMNDT_IND|RPT_TP|TRANSACTION_PGI|         IMAGE_NUM|TRANSACTION_TP|ENTITY_TP|                NAME|       CITY|STATE|ZIP_CODE|EMPLOYER|OCCUPATION|TRANSACTION_DT|TRANSACTION_AMT| OTHER_ID|  CAND_ID|   TRAN_ID|FILE_NUM|MEMO_CD|MEMO_TEXT|             SUB_ID|\n",
      "+---------+---------+------+---------------+------------------+--------------+---------+--------------------+-----------+-----+--------+--------+----------+--------------+---------------+---------+---------+----------+--------+-------+---------+-------------------+\n",
      "|C00567180|        T|   TER|          P2020|201901099143774199|           24K|      PAC|TED YOHO FOR CONG...|GAINESVILLE|   FL|   32608|        |          |      01082019|           1880|C00494583|H2FL06109| SB23.4447| 1303604|       |         |4021920191640423011|\n",
      "|C00104885|        A|   TER|          G2020|201901289144031511|           24K|      CCM|     TEAM GRAHAM INC|   COLUMBIA|   SC|   29202|        |          |      12202018|           3000|C00458828|H4SC03087|SB23.17757| 1307636|       |         |4022220191643444985|\n",
      "|C00104885|        A|   TER|          P2022|201901289144031512|           24K|      CCM|TIM SCOTT FOR SENATE| CHARLESTON|   SC|   29407|        |          |      12202018|           1000|C00540302|H0SC01279|SB23.17756| 1307636|       |         |4022220191643444987|\n",
      "|C00104885|        A|   TER|          P2020|201901289144031511|           24K|      CCM|FRIENDS OF JIM CL...|   COLUMBIA|   SC|   29211|        |          |      01072019|            470|C00255562|H2SC02042|SB23.17755| 1307636|       |         |4022220191643444981|\n",
      "|C00688408|        T|   TER|          G2018|201901319144305867|           24E|      ORG|    JACKSON ADVOCATE|    JACKSON|   MS|   39207|        |          |      12122018|           1000|S8MS00287|S8MS00287|   SE.4233| 1310906|       |         |4022420191643632157|\n",
      "+---------+---------+------+---------------+------------------+--------------+---------+--------------------+-----------+-----+--------+--------+----------+--------------+---------------+---------+---------+----------+--------+-------+---------+-------------------+\n",
      "only showing top 5 rows\n",
      "\n"
     ]
    }
   ],
   "source": [
    "# pas2: Contributions from committees to candidates\n",
    "pas2_df = read_data_in('pas2', [])\n",
    "pas2_df[year20].show(5)"
   ]
  },
  {
   "cell_type": "markdown",
   "metadata": {},
   "source": [
    "\n",
    "Contributions by individuals file description\n",
    "\n",
    "The contributions by individuals file contains information for contributions given by individuals. The method used to include contributions in this file has changed over time.\n",
    "2015 - present: greater than $200\n",
    "\n",
    "A contribution will be included if:\n",
    "\n",
    "    The contribution’s election cycle-to-date amount is over $200 for contributions to candidate committees\n",
    "    The contribution’s calendar year-to-date amount is over $200 for contributions to political action committees (PACs) and party committees."
   ]
  },
  {
   "cell_type": "markdown",
   "metadata": {},
   "source": [
    "# The individual files are huge!\n",
    "## Need to download these files from the Dropbox link and put in the fec_data/indiv folder\n",
    "- We should make a subset of these to work with in our code\n",
    "- Then when stuff in getting close to final run on the whole file?"
   ]
  },
  {
   "cell_type": "code",
   "execution_count": 16,
   "metadata": {},
   "outputs": [
    {
     "name": "stdout",
     "output_type": "stream",
     "text": [
      "+---------+---------+------+---------------+-----------+--------------+---------+-----------------+------------+-----+---------+----------------+--------------------+--------------+---------------+--------+--------------------+--------+-------+---------+-------------------+\n",
      "|  CMTE_ID|AMNDT_IND|RPT_TP|TRANSACTION_PGI|  IMAGE_NUM|TRANSACTION_TP|ENTITY_TP|             NAME|        CITY|STATE| ZIP_CODE|        EMPLOYER|          OCCUPATION|TRANSACTION_DT|TRANSACTION_AMT|OTHER_ID|             TRAN_ID|FILE_NUM|MEMO_CD|MEMO_TEXT|             SUB_ID|\n",
      "+---------+---------+------+---------------+-----------+--------------+---------+-----------------+------------+-----+---------+----------------+--------------------+--------------+---------------+--------+--------------------+--------+-------+---------+-------------------+\n",
      "|C00088591|        N|    M3|              P|15970306895|            15|      IND|   BURCH, MARY K.|FALLS CHURCH|   VA|220424511|NORTHROP GRUMMAN|VP PROGRAM MANAGE...|      02132015|            500|        |2A8EE0688413416FA735|  998834|       |         |4032020151240885624|\n",
      "|C00088591|        N|    M3|              P|15970306960|            15|      IND|KOUNTZ, DONALD E.|FALLS CHURCH|   VA|220424511|NORTHROP GRUMMAN|        DIR PROGRAMS|      02132015|            200|        |  20150211113220-479|  998834|       |         |4032020151240885819|\n",
      "|C00088591|        N|    M3|              P|15970306960|            15|      IND|KOUNTZ, DONALD E.|FALLS CHURCH|   VA|220424511|NORTHROP GRUMMAN|        DIR PROGRAMS|      02272015|            200|        |  20150225112333-476|  998834|       |         |4032020151240885820|\n",
      "|C00088591|        N|    M3|              P|15970306915|            15|      IND| DOSHI, NIMISH M.|FALLS CHURCH|   VA|220424511|NORTHROP GRUMMAN|          VP AND CFO|      02132015|            200|        |       20150309_2943|  998834|       |         |4032020151240885683|\n",
      "|C00088591|        N|    M3|              P|15970306915|            15|      IND| DOSHI, NIMISH M.|FALLS CHURCH|   VA|220424511|NORTHROP GRUMMAN|          VP AND CFO|      02272015|            200|        | 20150224153748-2525|  998834|       |         |4032020151240885684|\n",
      "+---------+---------+------+---------------+-----------+--------------+---------+-----------------+------------+-----+---------+----------------+--------------------+--------------+---------------+--------+--------------------+--------+-------+---------+-------------------+\n",
      "only showing top 5 rows\n",
      "\n"
     ]
    }
   ],
   "source": [
    "indiv_df = read_data_in('indiv', [])\n",
    "indiv_df[year16].show(5)"
   ]
  },
  {
   "cell_type": "markdown",
   "metadata": {},
   "source": [
    "# New code that joins tables and counts the number of individual donations each candidate gets\n",
    "Now that I have this it should be easy to make other stats and aggregate by state, dem/rep, etc"
   ]
  },
  {
   "cell_type": "code",
   "execution_count": 31,
   "metadata": {},
   "outputs": [],
   "source": [
    "# keep only donations for 'G' the general election\n",
    "# so discard P primary, etc\n",
    "ind16 = indiv_df[year16].filter(col('TRANSACTION_PGI').startswith('G'))"
   ]
  },
  {
   "cell_type": "code",
   "execution_count": 32,
   "metadata": {},
   "outputs": [],
   "source": [
    "#ind16.count()"
   ]
  },
  {
   "cell_type": "code",
   "execution_count": 33,
   "metadata": {},
   "outputs": [],
   "source": [
    "# join on 'CMTE_ID', which gives us 'CAND_ID'\n",
    "ind16a = ind16.join(ccl_df[year16], on='CMTE_ID', how='inner')"
   ]
  },
  {
   "cell_type": "code",
   "execution_count": 35,
   "metadata": {},
   "outputs": [],
   "source": [
    "#ind16a.count()"
   ]
  },
  {
   "cell_type": "code",
   "execution_count": 36,
   "metadata": {},
   "outputs": [],
   "source": [
    "# join on 'CAND_ID', which gives us all the info about the candidate\n",
    "# turns out this step isn't needed, because after aggregating below you do this again.\n",
    "ind16b = ind16a.join(cn_df[year16], on='CAND_ID', how='inner')"
   ]
  },
  {
   "cell_type": "code",
   "execution_count": 37,
   "metadata": {},
   "outputs": [],
   "source": [
    "# TODO\n",
    "# for our purposes we need to combine multiple donations from one person to the same candidate into one row\n",
    "# using some groupby code or such"
   ]
  },
  {
   "cell_type": "code",
   "execution_count": 38,
   "metadata": {},
   "outputs": [],
   "source": [
    "# count number of individual donations each candidate recieve\n",
    "ind16agg = ind16b.groupby(col('CAND_ID')).agg(\n",
    "    count(lit(1)).alias('numdonat')\n",
    ")"
   ]
  },
  {
   "cell_type": "code",
   "execution_count": 41,
   "metadata": {},
   "outputs": [],
   "source": [
    "#ind16agg.show(10)"
   ]
  },
  {
   "cell_type": "code",
   "execution_count": 42,
   "metadata": {},
   "outputs": [],
   "source": [
    "# join candidates table to above table to get details about candidate\n",
    "numdonations = ind16agg.join(cn_df[year16], on='CAND_ID', how='inner')"
   ]
  },
  {
   "cell_type": "code",
   "execution_count": 43,
   "metadata": {},
   "outputs": [
    {
     "data": {
      "text/plain": [
       "DataFrame[CAND_ID: string, numdonat: bigint, CAND_NAME: string, CAND_PTY_AFFILIATION: string, CAND_ELECTION_YR: string, CAND_OFFICE_ST: string, CAND_OFFICE: string, CAND_OFFICE_DISTRICT: string, CAND_ICI: string, CAND_STATUS: string, CAND_PCC: string, CAND_ST1: string, CAND_ST2: string, CAND_CITY: string, CAND_ST: string, CAND_ZIP: string]"
      ]
     },
     "execution_count": 43,
     "metadata": {},
     "output_type": "execute_result"
    }
   ],
   "source": [
    "numdonations.cache()"
   ]
  },
  {
   "cell_type": "code",
   "execution_count": 45,
   "metadata": {},
   "outputs": [],
   "source": [
    "#numdonations.show(10)"
   ]
  },
  {
   "cell_type": "markdown",
   "metadata": {},
   "source": [
    "## Continutation of original notebook code"
   ]
  },
  {
   "cell_type": "code",
   "execution_count": 40,
   "metadata": {},
   "outputs": [
    {
     "data": {
      "text/plain": [
       "10476"
      ]
     },
     "execution_count": 40,
     "metadata": {},
     "output_type": "execute_result"
    }
   ],
   "source": [
    "df.count()"
   ]
  },
  {
   "cell_type": "markdown",
   "metadata": {},
   "source": [
    "---\n",
    "**Number of columns:**"
   ]
  },
  {
   "cell_type": "code",
   "execution_count": null,
   "metadata": {},
   "outputs": [],
   "source": [
    "len(df.columns)"
   ]
  },
  {
   "cell_type": "markdown",
   "metadata": {},
   "source": [
    "---\n",
    "**Statistical summary of response variable:**"
   ]
  },
  {
   "cell_type": "markdown",
   "metadata": {},
   "source": [
    "Our statistical summary will be based on whether a candidate won or lost the relevant political race.  \n",
    "  \n",
    "We are still gathering and joining that data to this set."
   ]
  },
  {
   "cell_type": "markdown",
   "metadata": {},
   "source": [
    "---\n",
    "**Statistical summary of potential predictor variables:**"
   ]
  },
  {
   "cell_type": "markdown",
   "metadata": {},
   "source": [
    "Total receipts -"
   ]
  },
  {
   "cell_type": "code",
   "execution_count": 46,
   "metadata": {},
   "outputs": [
    {
     "name": "stdout",
     "output_type": "stream",
     "text": [
      "+-------+-------------------+\n",
      "|summary|       TTL_RECEIPTS|\n",
      "+-------+-------------------+\n",
      "|  count|              10476|\n",
      "|   mean| 1594327.4810843852|\n",
      "| stddev|4.960967162034303E7|\n",
      "|    min|          -674132.5|\n",
      "|    max|      4.824617973E9|\n",
      "+-------+-------------------+\n",
      "\n"
     ]
    }
   ],
   "source": [
    "df.select('TTL_RECEIPTS').describe().show()"
   ]
  },
  {
   "cell_type": "code",
   "execution_count": 20,
   "metadata": {},
   "outputs": [
    {
     "name": "stdout",
     "output_type": "stream",
     "text": [
      "+-------+-------------------+\n",
      "|summary|       TTL_RECEIPTS|\n",
      "+-------+-------------------+\n",
      "|  count|              10476|\n",
      "|   mean| 1594327.4810843852|\n",
      "| stddev|4.960967162034303E7|\n",
      "|    min|          -674132.5|\n",
      "|    max|      4.824617973E9|\n",
      "+-------+-------------------+\n",
      "\n"
     ]
    }
   ],
   "source": [
    "df.select('TTL_RECEIPTS').describe().show()"
   ]
  },
  {
   "cell_type": "markdown",
   "metadata": {},
   "source": [
    "Contributions by individuals -"
   ]
  },
  {
   "cell_type": "code",
   "execution_count": 21,
   "metadata": {},
   "outputs": [
    {
     "name": "stdout",
     "output_type": "stream",
     "text": [
      "+-------+--------------------+\n",
      "|summary|   TTL_INDIV_CONTRIB|\n",
      "+-------+--------------------+\n",
      "|  count|               10476|\n",
      "|   mean|   2462247.248615882|\n",
      "| stddev|1.8436468552952343E8|\n",
      "|    min|             -2695.0|\n",
      "|    max|     1.8853982587E10|\n",
      "+-------+--------------------+\n",
      "\n"
     ]
    }
   ],
   "source": [
    "df.select('TTL_INDIV_CONTRIB').describe().show()"
   ]
  },
  {
   "cell_type": "markdown",
   "metadata": {},
   "source": [
    "Contributions by candidates -"
   ]
  },
  {
   "cell_type": "code",
   "execution_count": 22,
   "metadata": {},
   "outputs": [
    {
     "name": "stdout",
     "output_type": "stream",
     "text": [
      "+-------+-------------------+\n",
      "|summary|       CAND_CONTRIB|\n",
      "+-------+-------------------+\n",
      "|  count|              10476|\n",
      "|   mean|  427017.3470924015|\n",
      "| stddev|2.980191026125246E7|\n",
      "|    min|                0.0|\n",
      "|    max|      2.831281203E9|\n",
      "+-------+-------------------+\n",
      "\n"
     ]
    }
   ],
   "source": [
    "df.select('CAND_CONTRIB').describe().show()"
   ]
  },
  {
   "cell_type": "markdown",
   "metadata": {},
   "source": [
    "Contributions from party committees -"
   ]
  },
  {
   "cell_type": "code",
   "execution_count": 23,
   "metadata": {},
   "outputs": [
    {
     "name": "stdout",
     "output_type": "stream",
     "text": [
      "+-------+------------------+\n",
      "|summary|   POL_PTY_CONTRIB|\n",
      "+-------+------------------+\n",
      "|  count|             10476|\n",
      "|   mean| 1114.714221076747|\n",
      "| stddev|31051.635875742028|\n",
      "|    min|               0.0|\n",
      "|    max|         3100000.0|\n",
      "+-------+------------------+\n",
      "\n"
     ]
    }
   ],
   "source": [
    "df.select('POL_PTY_CONTRIB').describe().show()"
   ]
  },
  {
   "cell_type": "markdown",
   "metadata": {},
   "source": [
    "Contributions from other political committees -"
   ]
  },
  {
   "cell_type": "code",
   "execution_count": 24,
   "metadata": {},
   "outputs": [
    {
     "name": "stdout",
     "output_type": "stream",
     "text": [
      "+-------+----------------------+\n",
      "|summary|OTHER_POL_CMTE_CONTRIB|\n",
      "+-------+----------------------+\n",
      "|  count|                 10476|\n",
      "|   mean|    315356.70375429565|\n",
      "| stddev|  1.8795125581625413E7|\n",
      "|    min|                   0.0|\n",
      "|    max|           1.9235003E9|\n",
      "+-------+----------------------+\n",
      "\n"
     ]
    }
   ],
   "source": [
    "df.select('OTHER_POL_CMTE_CONTRIB').describe().show()"
   ]
  },
  {
   "cell_type": "markdown",
   "metadata": {},
   "source": [
    "Candidate status (C = Challenger, O = Open, I = Incumbent) -"
   ]
  },
  {
   "cell_type": "code",
   "execution_count": 25,
   "metadata": {},
   "outputs": [
    {
     "name": "stdout",
     "output_type": "stream",
     "text": [
      "+--------+-----+\n",
      "|CAND_ICI|count|\n",
      "+--------+-----+\n",
      "|       C| 5887|\n",
      "|       O| 2630|\n",
      "|       I| 1747|\n",
      "|        |  212|\n",
      "+--------+-----+\n",
      "\n"
     ]
    }
   ],
   "source": [
    "#some data cleaning to do for the blanks\n",
    "df.groupby('CAND_ICI').count().orderBy('count', ascending = False).show()"
   ]
  },
  {
   "cell_type": "markdown",
   "metadata": {},
   "source": [
    "Candidate party affiliation (count) -"
   ]
  },
  {
   "cell_type": "code",
   "execution_count": 52,
   "metadata": {},
   "outputs": [
    {
     "name": "stdout",
     "output_type": "stream",
     "text": [
      "+--------------------+-----+\n",
      "|CAND_PTY_AFFILIATION|count|\n",
      "+--------------------+-----+\n",
      "|                 REP| 4896|\n",
      "|                 DEM| 4633|\n",
      "|                 IND|  349|\n",
      "|                 LIB|  174|\n",
      "|                 GRE|   77|\n",
      "|                 OTH|   48|\n",
      "|                 DFL|   45|\n",
      "|                 NPA|   45|\n",
      "|                 NNE|   43|\n",
      "|                 UNK|   39|\n",
      "|                  UN|   25|\n",
      "|                 CON|   19|\n",
      "|                   W|   12|\n",
      "|                 NON|    7|\n",
      "|                 IDP|    7|\n",
      "|                 NOP|    5|\n",
      "|                 UNI|    4|\n",
      "|                 SEP|    4|\n",
      "|                 AMP|    3|\n",
      "|                 WFP|    3|\n",
      "+--------------------+-----+\n",
      "only showing top 20 rows\n",
      "\n"
     ]
    }
   ],
   "source": [
    "can_df = df.groupby('CAND_PTY_AFFILIATION').count().orderBy('count', ascending = False).show()"
   ]
  },
  {
   "cell_type": "markdown",
   "metadata": {},
   "source": [
    "Candidate state (count) - "
   ]
  },
  {
   "cell_type": "code",
   "execution_count": 27,
   "metadata": {},
   "outputs": [
    {
     "name": "stdout",
     "output_type": "stream",
     "text": [
      "+--------------+-----+\n",
      "|CAND_OFFICE_ST|count|\n",
      "+--------------+-----+\n",
      "|            CA|  972|\n",
      "|            TX|  781|\n",
      "|            FL|  668|\n",
      "|            NY|  552|\n",
      "|            00|  513|\n",
      "|            PA|  387|\n",
      "|            NC|  342|\n",
      "|            IL|  329|\n",
      "|            GA|  319|\n",
      "|            NJ|  281|\n",
      "|            VA|  280|\n",
      "|            OH|  280|\n",
      "|            MI|  275|\n",
      "|            AZ|  268|\n",
      "|            TN|  226|\n",
      "|            MD|  218|\n",
      "|            IN|  217|\n",
      "|            CO|  198|\n",
      "|            WA|  191|\n",
      "|            MN|  190|\n",
      "+--------------+-----+\n",
      "only showing top 20 rows\n",
      "\n"
     ]
    }
   ],
   "source": [
    "df.groupby('CAND_OFFICE_ST').count().orderBy('count', ascending = False).show()"
   ]
  },
  {
   "cell_type": "code",
   "execution_count": 28,
   "metadata": {},
   "outputs": [
    {
     "name": "stdout",
     "output_type": "stream",
     "text": [
      "+-------------------+--------------+--------------------+--------+------------+------------+-----------------+---------------+----------------------+\n",
      "|          CAND_NAME|CAND_OFFICE_ST|CAND_PTY_AFFILIATION|CAND_ICI|TTL_RECEIPTS|CAND_CONTRIB|TTL_INDIV_CONTRIB|POL_PTY_CONTRIB|OTHER_POL_CMTE_CONTRIB|\n",
      "+-------------------+--------------+--------------------+--------+------------+------------+-----------------+---------------+----------------------+\n",
      "|     SHEIN, DIMITRI|            AK|                 DEM|       C|         0.0|         0.0|              0.0|            0.0|                   0.0|\n",
      "|    YOUNG, DONALD E|            AK|                 REP|       I|  1362383.63|         0.0|        637025.31|            0.0|             584444.63|\n",
      "|NELSON, THOMAS JOHN|            AK|                 REP|       C|         0.0|         0.0|              0.0|            0.0|                   0.0|\n",
      "|      GALVIN, ALYSE|            AK|                 IND|       C|  2266364.63|     3394.63|        2116292.8|            0.0|              109350.0|\n",
      "|    AVERHART, JAMES|            AL|                 DEM|       O|    50126.74|         0.0|         23281.74|            0.0|                   0.0|\n",
      "+-------------------+--------------+--------------------+--------+------------+------------+-----------------+---------------+----------------------+\n",
      "only showing top 5 rows\n",
      "\n"
     ]
    }
   ],
   "source": [
    "df.select('CAND_NAME', \n",
    "          'CAND_OFFICE_ST',\n",
    "          'CAND_PTY_AFFILIATION', \n",
    "          'CAND_ICI', \n",
    "          'TTL_RECEIPTS',\n",
    "          'CAND_CONTRIB',    \n",
    "          'TTL_INDIV_CONTRIB',\n",
    "          'POL_PTY_CONTRIB',\n",
    "          'OTHER_POL_CMTE_CONTRIB').show(5)"
   ]
  },
  {
   "cell_type": "code",
   "execution_count": null,
   "metadata": {},
   "outputs": [],
   "source": []
  }
 ],
 "metadata": {
  "kernelspec": {
   "display_name": "DS 5559",
   "language": "python",
   "name": "ds5559"
  },
  "language_info": {
   "codemirror_mode": {
    "name": "ipython",
    "version": 3
   },
   "file_extension": ".py",
   "mimetype": "text/x-python",
   "name": "python",
   "nbconvert_exporter": "python",
   "pygments_lexer": "ipython3",
   "version": "3.7.6"
  }
 },
 "nbformat": 4,
 "nbformat_minor": 4
}
