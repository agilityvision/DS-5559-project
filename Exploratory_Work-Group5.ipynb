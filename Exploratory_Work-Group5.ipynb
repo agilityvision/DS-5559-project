{
 "cells": [
  {
   "cell_type": "markdown",
   "metadata": {},
   "source": [
    "## Exploratory Data Analysis"
   ]
  },
  {
   "cell_type": "markdown",
   "metadata": {},
   "source": [
    "5.11 Assignment \n",
    "\n",
    "Brad Howlett (bth2g)  \n",
    "Eric Larson (rel4yx)  \n",
    "Hanim Song (hs4cf) \n",
    "---"
   ]
  },
  {
   "cell_type": "code",
   "execution_count": 10,
   "metadata": {},
   "outputs": [],
   "source": [
    "## this is for my (Eric) Spark setup, you don't need to run this\n",
    "import findspark\n",
    "findspark.init()"
   ]
  },
  {
   "cell_type": "code",
   "execution_count": 11,
   "metadata": {},
   "outputs": [],
   "source": [
    "import os\n",
    "from pyspark.sql import SparkSession\n",
    "import pyspark.sql.types as typ\n",
    "import pyspark.sql.functions as F\n",
    "from pyspark.sql import DataFrame\n",
    "from functools import reduce\n",
    "from pyspark.sql.functions import col, asc\n",
    "from pyspark.sql import SQLContext\n",
    "from pyspark.sql.types import StructType\n",
    "from pyspark.sql.types import StructField\n",
    "from pyspark.sql.types import StringType, DoubleType, DateType\n",
    "from pyspark.sql import SparkSession\n",
    "import pandas as pd\n",
    "import numpy as np"
   ]
  },
  {
   "cell_type": "code",
   "execution_count": 12,
   "metadata": {},
   "outputs": [],
   "source": [
    "spark = SparkSession \\\n",
    "    .builder \\\n",
    "    .getOrCreate()\n",
    "\n",
    "sc = spark.sparkContext"
   ]
  },
  {
   "source": [
    "## Utility functions"
   ],
   "cell_type": "markdown",
   "metadata": {}
  },
  {
   "cell_type": "code",
   "execution_count": 5,
   "metadata": {},
   "outputs": [],
   "source": [
    "def csv_header(filename: str):\n",
    "    with open(filename, 'r') as csv:\n",
    "        line = csv.readline().rstrip()\n",
    "    headers = line.split(',')\n",
    "    return headers"
   ]
  },
  {
   "cell_type": "code",
   "execution_count": 6,
   "metadata": {},
   "outputs": [
    {
     "output_type": "execute_result",
     "data": {
      "text/plain": [
       "['CAND_ID',\n",
       " 'CAND_NAME',\n",
       " 'CAND_PTY_AFFILIATION',\n",
       " 'CAND_ELECTION_YR',\n",
       " 'CAND_OFFICE_ST',\n",
       " 'CAND_OFFICE',\n",
       " 'CAND_OFFICE_DISTRICT',\n",
       " 'CAND_ICI',\n",
       " 'CAND_STATUS',\n",
       " 'CAND_PCC',\n",
       " 'CAND_ST1',\n",
       " 'CAND_ST2',\n",
       " 'CAND_CITY',\n",
       " 'CAND_ST',\n",
       " 'CAND_ZIP']"
      ]
     },
     "metadata": {},
     "execution_count": 6
    }
   ],
   "source": [
    "csv_header('fec_data/cn/cn_header_file.csv')"
   ]
  },
  {
   "cell_type": "markdown",
   "metadata": {},
   "source": [
    "### Based on data from : https://www.fec.gov/data/browse-data/?tab=bulk-data   \n",
    "This is House/Senate campaign finance data:"
   ]
  },
  {
   "cell_type": "code",
   "execution_count": 32,
   "metadata": {},
   "outputs": [],
   "source": [
    "data_dir = 'fec_data'\n",
    "year20 = '20'\n",
    "year18 = '18'\n",
    "year16 = '16'\n",
    "years = [year20, year18, year16]\n"
   ]
  },
  {
   "cell_type": "code",
   "execution_count": 26,
   "metadata": {},
   "outputs": [],
   "source": [
    "def read_data_in(dataname: str, fields_to_double):\n",
    "    dfs = {}\n",
    "    header_row = csv_header(f'{data_dir}/{dataname}/{dataname}_header_file.csv')\n",
    "    #default to stringtype for ease of loading, then adjust below:\n",
    "    fields = [*[typ.StructField(h[:], typ.StringType(), True) for h in header_row]]\n",
    "    schema = typ.StructType(fields)\n",
    "\n",
    "    for year in years:\n",
    "        txt_filename = f'{data_dir}/{dataname}/{dataname}{year}.txt'\n",
    "        df_temp = sc.textFile(txt_filename).map(lambda row: [elem for elem in row.split('|')])\n",
    "        df = spark.createDataFrame(df_temp, schema)\n",
    "        for field in fields_to_double:\n",
    "            df = df.withColumn(field, df[field].cast(DoubleType()))\n",
    "        dfs[year] = df\n",
    "    return dfs"
   ]
  },
  {
   "cell_type": "markdown",
   "metadata": {},
   "source": [
    "**Create dataframes and combine the three files together for analysis:**"
   ]
  },
  {
   "source": [
    "### This is the original data that you had read in\n",
    "The all candidates file contains summary financial information for each candidate who raised or spent money during the period, regardless of when they are up for election.\n",
    "\n",
    "The file has one record per candidate and shows information about the candidate, total receipts, transfers received from authorized committees, total disbursements, transfers given to authorized committees, cash-on-hand totals, loans and debts, and other financial summary information."
   ],
   "cell_type": "markdown",
   "metadata": {}
  },
  {
   "cell_type": "code",
   "execution_count": 28,
   "metadata": {},
   "outputs": [],
   "source": [
    "# weball: create campaigns (weball data dir) dataframes\n",
    "weball_double_fields = [\n",
    "    'TTL_RECEIPTS', \n",
    "    'TTL_INDIV_CONTRIB', \n",
    "    'CAND_CONTRIB', \n",
    "    'OTHER_POL_CMTE_CONTRIB',\n",
    "    'POL_PTY_CONTRIB'\n",
    "]\n",
    "dfs = read_data_in('weball', weball_double_fields)\n",
    "df = reduce(DataFrame.unionAll, dfs.values())"
   ]
  },
  {
   "source": [
    "The candidate master file contains basic information for each candidate, including:\n",
    "\n",
    "    Candidates who have filed a Statement of Candidacy (Form 2) for the upcoming election\n",
    "\n",
    "    Candidates who have active campaign committees without regard to election year\n",
    "\n",
    "    Candidates who are referenced as a part of a draft committee or a nonconnected committee that registers as supporting or opposing a particular candidate\n",
    "\n",
    "The file shows the candidate's identification number, candidate’s name, party affiliation, election year, office state, office sought, district, incumbent/challenger status, status as a candidate, name of the candidate’s principal campaign committee, and address."
   ],
   "cell_type": "markdown",
   "metadata": {}
  },
  {
   "cell_type": "code",
   "execution_count": 33,
   "metadata": {},
   "outputs": [],
   "source": [
    "# cn: The candidate master file contains basic information for each candidate\n",
    "cn_df = read_data_in('cn', [])"
   ]
  },
  {
   "cell_type": "code",
   "execution_count": 34,
   "metadata": {},
   "outputs": [
    {
     "output_type": "stream",
     "name": "stdout",
     "text": [
      "+---------+--------------------+--------------------+----------------+--------------+-----------+--------------------+--------+-----------+---------+--------------------+--------+------------+-------+--------+\n|  CAND_ID|           CAND_NAME|CAND_PTY_AFFILIATION|CAND_ELECTION_YR|CAND_OFFICE_ST|CAND_OFFICE|CAND_OFFICE_DISTRICT|CAND_ICI|CAND_STATUS| CAND_PCC|            CAND_ST1|CAND_ST2|   CAND_CITY|CAND_ST|CAND_ZIP|\n+---------+--------------------+--------------------+----------------+--------------+-----------+--------------------+--------+-----------+---------+--------------------+--------+------------+-------+--------+\n|H0AK00105|        LAMB, THOMAS|                 NNE|            2020|            AK|          H|                  00|       C|          N|C00607515|1861 W LAKE LUCIL...|        |     WASILLA|     AK|   99654|\n|H0AK00113|   TUGATUK, RAY SEAN|                 DEM|            2020|            AK|          H|                  00|       C|          N|         |          PO BOX 172|        |   MANAKOTAK|     AK|   99628|\n|H0AK01046|    CATALANO, THOMAS|                 OTH|            2020|            AK|          H|                  00|        |          N|         |188 WEST NORTHERN...|        |   ANCHORAGE|     AK|   99503|\n|H0AL01055| CARL, JERRY LEE, JR|                 REP|            2020|            AL|          H|                  01|       O|          C|C00697789|       PO BOX 852138|        |      MOBILE|     AL|   36685|\n|H0AL01063|LAMBERT, DOUGLAS ...|                 REP|            2020|            AL|          H|                  01|       O|          C|C00701557|7194 STILLWATER BLVD|        |SPANISH FORT|     AL|   36527|\n+---------+--------------------+--------------------+----------------+--------------+-----------+--------------------+--------+-----------+---------+--------------------+--------+------------+-------+--------+\nonly showing top 5 rows\n\n"
     ]
    }
   ],
   "source": [
    "cn_df[year20].show(5)"
   ]
  },
  {
   "source": [
    "The committee master file contains one record for each committee registered with the Federal Election Commission. This includes federal political action committees and party committees, campaign committees for presidential, house and senate candidates, as well as groups or organizations who are spending money for or against candidates for federal office."
   ],
   "cell_type": "markdown",
   "metadata": {}
  },
  {
   "cell_type": "code",
   "execution_count": 36,
   "metadata": {},
   "outputs": [
    {
     "output_type": "stream",
     "name": "stdout",
     "text": [
      "+---------+--------------------+--------------------+--------------------+---------+-------------+-------+---------+---------+-------+--------------------+----------------+------+--------------------+-------+\n|  CMTE_ID|             CMTE_NM|             TRES_NM|            CMTE_ST1| CMTE_ST2|    CMTE_CITY|CMTE_ST| CMTE_ZIP|CMTE_DSGN|CMTE_TP|CMTE_PTY_AFFILIATION|CMTE_FILING_FREQ|ORG_TP|    CONNECTED_ORG_NM|CAND_ID|\n+---------+--------------------+--------------------+--------------------+---------+-------------+-------+---------+---------+-------+--------------------+----------------+------+--------------------+-------+\n|C00000059|  HALLMARK CARDS PAC|           SARAH MOE|          2501 MCGEE|  MD #500|  KANSAS CITY|     MO|    64108|        U|      Q|                 UNK|               M|     C|                    |       |\n|C00000422|AMERICAN MEDICAL ...|   WALKER, KEVIN MR.|25 MASSACHUSETTS ...|SUITE 600|   WASHINGTON|     DC|200017400|        B|      Q|                    |               M|     M|DELAWARE MEDICAL PAC|       |\n|C00000489|D R I V E POLITIC...|       JERRY SIMS JR|         3528 W RENO|         |OKLAHOMA CITY|     OK|    73107|        U|      N|                    |               Q|     L|                    |       |\n|C00000547|KANSAS MEDICAL SO...|     JERRY SLAUGHTER|     623 SW 10TH AVE|         |       TOPEKA|     KS|666121627|        U|      Q|                 UNK|               Q|     M|KANSAS MEDICAL SO...|       |\n|C00000638|INDIANA STATE MED...|ACHENBACH, GRANT MR.|322 CANAL WALK, C...|         | INDIANAPOLIS|     IN|    46202|        U|      Q|                    |               T|     M|                    |       |\n+---------+--------------------+--------------------+--------------------+---------+-------------+-------+---------+---------+-------+--------------------+----------------+------+--------------------+-------+\nonly showing top 5 rows\n\n"
     ]
    }
   ],
   "source": [
    "# cm: committee master file\n",
    "cm_df = read_data_in('cm', [])\n",
    "cm_df[year20].show(5)"
   ]
  },
  {
   "cell_type": "code",
   "execution_count": 37,
   "metadata": {},
   "outputs": [
    {
     "output_type": "stream",
     "name": "stdout",
     "text": [
      "+---------+----------------+---------------+---------+-------+---------+----------+\n|  CAND_ID|CAND_ELECTION_YR|FEC_ELECTION_YR|  CMTE_ID|CMTE_TP|CMTE_DSGN|LINKAGE_ID|\n+---------+----------------+---------------+---------+-------+---------+----------+\n|C00713602|            2019|           2020|C00712851|      O|        U|    228963|\n|H0AK00105|            2020|           2020|C00607515|      H|        P|    229250|\n|H0AL01055|            2020|           2020|C00697789|      H|        P|    226125|\n|H0AL01063|            2020|           2020|C00701557|      H|        P|    227053|\n|H0AL01071|            2020|           2020|C00701409|      H|        P|    227054|\n+---------+----------------+---------------+---------+-------+---------+----------+\nonly showing top 5 rows\n\n"
     ]
    }
   ],
   "source": [
    "# ccl: This file contains one record for each candidate to committee linkage.\n",
    "ccl_df = read_data_in('ccl', [])\n",
    "ccl_df[year20].show(5)"
   ]
  },
  {
   "source": [
    "The file has one record per House and Senate campaign committee and shows information about the candidate, total receipts, transfers received from authorized committees, total disbursements, transfers given to authorized committees, cash-on-hand totals, loans and debts, and other financial summary information."
   ],
   "cell_type": "markdown",
   "metadata": {}
  },
  {
   "cell_type": "code",
   "execution_count": 39,
   "metadata": {},
   "outputs": [
    {
     "output_type": "stream",
     "name": "stdout",
     "text": [
      "+---------+--------------------+--------+------+--------------------+------------+---------------+---------+-------------+---------+----------+------------+----------+-----------+---------------+----------------+-------------+-----------------+--------------+--------------------+-------------+-------------+------------+------------+--------------------+----------------------+---------------+----------+-------------+------------+\n|  CAND_ID|           CAND_NAME|CAND_ICI|PTY_CD|CAND_PTY_AFFILIATION|TTL_RECEIPTS|TRANS_FROM_AUTH| TTL_DISB|TRANS_TO_AUTH|  COH_BOP|   COH_COP|CAND_CONTRIB|CAND_LOANS|OTHER_LOANS|CAND_LOAN_REPAY|OTHER_LOAN_REPAY|DEBTS_OWED_BY|TTL_INDIV_CONTRIB|CAND_OFFICE_ST|CAND_OFFICE_DISTRICT|SPEC_ELECTION|PRIM_ELECTION|RUN_ELECTION|GEN_ELECTION|GEN_ELECTION_PRECENT|OTHER_POL_CMTE_CONTRIB|POL_PTY_CONTRIB|CVG_END_DT|INDIV_REFUNDS|CMTE_REFUNDS|\n+---------+--------------------+--------+------+--------------------+------------+---------------+---------+-------------+---------+----------+------------+----------+-----------+---------------+----------------+-------------+-----------------+--------------+--------------------+-------------+-------------+------------+------------+--------------------+----------------------+---------------+----------+-------------+------------+\n|H6AK00045|     YOUNG, DONALD E|       I|     2|                 REP|  1362383.63|      132712.44|767973.99|            0|116720.12| 711129.76|           0|         0|          0|              0|               0|            0|        637025.31|            AK|                  00|             |             |            |            |                    |             584444.63|              0|07/29/2020|        15300|        3500|\n|H8AK00140|       GALVIN, ALYSE|       C|     3|                 IND|  2266364.63|              0|879708.28|            0|  6245.09|1392901.44|     3394.63|         0|          0|              0|               0|       5937.9|        2116292.8|            AK|                  00|             |             |            |            |                    |                109350|              0|07/29/2020|     17866.19|           0|\n|H0AL01097|     AVERHART, JAMES|       O|     1|                 DEM|    50126.74|              0| 40699.28|            0|        0|   9427.46|           0|     26845|          0|              0|               0|        26845|         23281.74|            AL|                  01|             |             |            |            |                    |                     0|              0|06/30/2020|            0|           0|\n|H0AL01105|    GARDNER, KIANI A|       O|     1|                 DEM|   118661.85|              0|118661.85|            0|        0|         0|      764.97|      6000|          0|         138.91|               0|      5861.09|         92896.88|            AL|                  01|             |             |            |            |                    |                 19000|              0|07/31/2020|            0|           0|\n|H0AL01139|COLLINS, FREDERIC...|       O|     1|                 DEM|    62935.42|              0| 60825.97|            0|        0|   2109.45|       56500|         0|          0|              0|               0|            0|          5917.12|            AL|                  01|             |             |            |            |                    |                     0|              0|07/14/2020|            0|           0|\n+---------+--------------------+--------+------+--------------------+------------+---------------+---------+-------------+---------+----------+------------+----------+-----------+---------------+----------------+-------------+-----------------+--------------+--------------------+-------------+-------------+------------+------------+--------------------+----------------------+---------------+----------+-------------+------------+\nonly showing top 5 rows\n\n"
     ]
    }
   ],
   "source": [
    "# webl: House Senate campaigns\n",
    "webl_df = read_data_in('webl', [])\n",
    "webl_df[year20].show(5)"
   ]
  },
  {
   "source": [
    "\n",
    "Contributions from committees to candidates file description\n",
    "\n",
    "The contributions from committees to candidates file is a subset of the itemized records (OTH) file and contains each contribution or independent expenditure made by a:\n",
    "\n",
    "    PAC\n",
    "    Party committee\n",
    "    Candidate committee\n",
    "    Other federal committee\n",
    "\n",
    "and given to a candidate during the two-year election cycle."
   ],
   "cell_type": "markdown",
   "metadata": {}
  },
  {
   "cell_type": "code",
   "execution_count": 40,
   "metadata": {},
   "outputs": [
    {
     "output_type": "stream",
     "name": "stdout",
     "text": [
      "+---------+---------+------+---------------+------------------+--------------+---------+--------------------+-----------+-----+--------+--------+----------+--------------+---------------+---------+---------+----------+--------+-------+---------+-------------------+\n|  CMTE_ID|AMNDT_IND|RPT_TP|TRANSACTION_PGI|         IMAGE_NUM|TRANSACTION_TP|ENTITY_TP|                NAME|       CITY|STATE|ZIP_CODE|EMPLOYER|OCCUPATION|TRANSACTION_DT|TRANSACTION_AMT| OTHER_ID|  CAND_ID|   TRAN_ID|FILE_NUM|MEMO_CD|MEMO_TEXT|             SUB_ID|\n+---------+---------+------+---------------+------------------+--------------+---------+--------------------+-----------+-----+--------+--------+----------+--------------+---------------+---------+---------+----------+--------+-------+---------+-------------------+\n|C00567180|        T|   TER|          P2020|201901099143774199|           24K|      PAC|TED YOHO FOR CONG...|GAINESVILLE|   FL|   32608|        |          |      01082019|           1880|C00494583|H2FL06109| SB23.4447| 1303604|       |         |4021920191640423011|\n|C00104885|        A|   TER|          G2020|201901289144031511|           24K|      CCM|     TEAM GRAHAM INC|   COLUMBIA|   SC|   29202|        |          |      12202018|           3000|C00458828|H4SC03087|SB23.17757| 1307636|       |         |4022220191643444985|\n|C00104885|        A|   TER|          P2022|201901289144031512|           24K|      CCM|TIM SCOTT FOR SENATE| CHARLESTON|   SC|   29407|        |          |      12202018|           1000|C00540302|H0SC01279|SB23.17756| 1307636|       |         |4022220191643444987|\n|C00104885|        A|   TER|          P2020|201901289144031511|           24K|      CCM|FRIENDS OF JIM CL...|   COLUMBIA|   SC|   29211|        |          |      01072019|            470|C00255562|H2SC02042|SB23.17755| 1307636|       |         |4022220191643444981|\n|C00688408|        T|   TER|          G2018|201901319144305867|           24E|      ORG|    JACKSON ADVOCATE|    JACKSON|   MS|   39207|        |          |      12122018|           1000|S8MS00287|S8MS00287|   SE.4233| 1310906|       |         |4022420191643632157|\n+---------+---------+------+---------------+------------------+--------------+---------+--------------------+-----------+-----+--------+--------+----------+--------------+---------------+---------+---------+----------+--------+-------+---------+-------------------+\nonly showing top 5 rows\n\n"
     ]
    }
   ],
   "source": [
    "# pas2: Contributions from committees to candidates\n",
    "pas2_df = read_data_in('pas2', [])\n",
    "pas2_df[year20].show(5)"
   ]
  },
  {
   "source": [
    "The PAC and party summary file contains summary financial information for each PAC and party committee.\n",
    "\n",
    "The file has one record per PAC and Party committee and shows information about the committee, total receipts and disbursements, receipts and disbursements broken down by type, contributions to other committees, independent expenditures made by the committee, and other financial summary information"
   ],
   "cell_type": "markdown",
   "metadata": {}
  },
  {
   "cell_type": "code",
   "execution_count": null,
   "metadata": {},
   "outputs": [],
   "source": []
  },
  {
   "cell_type": "markdown",
   "metadata": {},
   "source": [
    "---\n",
    "**Number of records:**"
   ]
  },
  {
   "cell_type": "code",
   "execution_count": 29,
   "metadata": {},
   "outputs": [
    {
     "output_type": "execute_result",
     "data": {
      "text/plain": [
       "10476"
      ]
     },
     "metadata": {},
     "execution_count": 29
    }
   ],
   "source": [
    "df.count()"
   ]
  },
  {
   "cell_type": "markdown",
   "metadata": {},
   "source": [
    "---\n",
    "**Number of columns:**"
   ]
  },
  {
   "cell_type": "code",
   "execution_count": 30,
   "metadata": {},
   "outputs": [
    {
     "output_type": "execute_result",
     "data": {
      "text/plain": [
       "30"
      ]
     },
     "metadata": {},
     "execution_count": 30
    }
   ],
   "source": [
    "len(df.columns)"
   ]
  },
  {
   "cell_type": "markdown",
   "metadata": {},
   "source": [
    "---\n",
    "**Statistical summary of response variable:**"
   ]
  },
  {
   "cell_type": "markdown",
   "metadata": {},
   "source": [
    "Our statistical summary will be based on whether a candidate won or lost the relevant political race.  \n",
    "  \n",
    "We are still gathering and joining that data to this set."
   ]
  },
  {
   "cell_type": "markdown",
   "metadata": {},
   "source": [
    "---\n",
    "**Statistical summary of potential predictor variables:**"
   ]
  },
  {
   "cell_type": "markdown",
   "metadata": {},
   "source": [
    "Total receipts -"
   ]
  },
  {
   "cell_type": "code",
   "execution_count": 31,
   "metadata": {},
   "outputs": [
    {
     "output_type": "stream",
     "name": "stdout",
     "text": [
      "+-------+-------------------+\n|summary|       TTL_RECEIPTS|\n+-------+-------------------+\n|  count|              10476|\n|   mean| 1594327.4810843852|\n| stddev|4.960967162034303E7|\n|    min|          -674132.5|\n|    max|      4.824617973E9|\n+-------+-------------------+\n\n"
     ]
    }
   ],
   "source": [
    "df.select('TTL_RECEIPTS').describe().show()"
   ]
  },
  {
   "cell_type": "code",
   "execution_count": 54,
   "metadata": {},
   "outputs": [
    {
     "name": "stdout",
     "output_type": "stream",
     "text": [
      "+-------+-------------------+\n",
      "|summary|       TTL_RECEIPTS|\n",
      "+-------+-------------------+\n",
      "|  count|               7149|\n",
      "|   mean| 2266553.4508938333|\n",
      "| stddev|6.004019782547508E7|\n",
      "|    min|                0.0|\n",
      "|    max|      4.824617973E9|\n",
      "+-------+-------------------+\n",
      "\n"
     ]
    }
   ],
   "source": [
    "df.select('TTL_RECEIPTS').describe().show()"
   ]
  },
  {
   "cell_type": "markdown",
   "metadata": {},
   "source": [
    "Contributions by individuals -"
   ]
  },
  {
   "cell_type": "code",
   "execution_count": 55,
   "metadata": {},
   "outputs": [
    {
     "name": "stdout",
     "output_type": "stream",
     "text": [
      "+-------+-------------------+\n",
      "|summary|  TTL_INDIV_CONTRIB|\n",
      "+-------+-------------------+\n",
      "|  count|               7149|\n",
      "|   mean|  3570474.139283814|\n",
      "| stddev|2.231747534710199E8|\n",
      "|    min|                0.0|\n",
      "|    max|    1.8853982587E10|\n",
      "+-------+-------------------+\n",
      "\n"
     ]
    }
   ],
   "source": [
    "df.select('TTL_INDIV_CONTRIB').describe().show()"
   ]
  },
  {
   "cell_type": "markdown",
   "metadata": {},
   "source": [
    "Contributions by candidates -"
   ]
  },
  {
   "cell_type": "code",
   "execution_count": 57,
   "metadata": {},
   "outputs": [
    {
     "name": "stdout",
     "output_type": "stream",
     "text": [
      "+-------+-------------------+\n",
      "|summary|       CAND_CONTRIB|\n",
      "+-------+-------------------+\n",
      "|  count|               7149|\n",
      "|   mean|  621843.8302853543|\n",
      "| stddev|3.607460293607057E7|\n",
      "|    min|                0.0|\n",
      "|    max|      2.831281203E9|\n",
      "+-------+-------------------+\n",
      "\n"
     ]
    }
   ],
   "source": [
    "df.select('CAND_CONTRIB').describe().show()"
   ]
  },
  {
   "cell_type": "markdown",
   "metadata": {},
   "source": [
    "Contributions from party committees -"
   ]
  },
  {
   "cell_type": "code",
   "execution_count": 64,
   "metadata": {},
   "outputs": [
    {
     "name": "stdout",
     "output_type": "stream",
     "text": [
      "+-------+------------------+\n",
      "|summary|   POL_PTY_CONTRIB|\n",
      "+-------+------------------+\n",
      "|  count|              7149|\n",
      "|   mean|1594.4136438662752|\n",
      "| stddev| 37564.26071346217|\n",
      "|    min|               0.0|\n",
      "|    max|         3100000.0|\n",
      "+-------+------------------+\n",
      "\n"
     ]
    }
   ],
   "source": [
    "df.select('POL_PTY_CONTRIB').describe().show()"
   ]
  },
  {
   "cell_type": "markdown",
   "metadata": {},
   "source": [
    "Contributions from other political committees -"
   ]
  },
  {
   "cell_type": "code",
   "execution_count": 65,
   "metadata": {},
   "outputs": [
    {
     "name": "stdout",
     "output_type": "stream",
     "text": [
      "+-------+----------------------+\n",
      "|summary|OTHER_POL_CMTE_CONTRIB|\n",
      "+-------+----------------------+\n",
      "|  count|                  7149|\n",
      "|   mean|     449703.3054748916|\n",
      "| stddev|  2.2751089972151406E7|\n",
      "|    min|                   0.0|\n",
      "|    max|           1.9235003E9|\n",
      "+-------+----------------------+\n",
      "\n"
     ]
    }
   ],
   "source": [
    "df.select('OTHER_POL_CMTE_CONTRIB').describe().show()"
   ]
  },
  {
   "cell_type": "markdown",
   "metadata": {},
   "source": [
    "Candidate status (C = Challenger, O = Open, I = Incumbent) -"
   ]
  },
  {
   "cell_type": "code",
   "execution_count": 61,
   "metadata": {},
   "outputs": [
    {
     "name": "stdout",
     "output_type": "stream",
     "text": [
      "+--------+-----+\n",
      "|CAND_ICI|count|\n",
      "+--------+-----+\n",
      "|       C| 3857|\n",
      "|       O| 1779|\n",
      "|       I| 1441|\n",
      "|        |   72|\n",
      "+--------+-----+\n",
      "\n"
     ]
    }
   ],
   "source": [
    "#some data cleaning to do for the blanks\n",
    "df.groupby('CAND_ICI').count().orderBy('count', ascending = False).show()"
   ]
  },
  {
   "cell_type": "markdown",
   "metadata": {},
   "source": [
    "Candidate party affiliation (count) -"
   ]
  },
  {
   "cell_type": "code",
   "execution_count": 41,
   "metadata": {},
   "outputs": [
    {
     "name": "stdout",
     "output_type": "stream",
     "text": [
      "+--------------------+-----+\n",
      "|CAND_PTY_AFFILIATION|count|\n",
      "+--------------------+-----+\n",
      "|                 DEM| 3227|\n",
      "|                 REP| 3193|\n",
      "|                 IND|  272|\n",
      "|                 LIB|  136|\n",
      "|                 GRE|   55|\n",
      "|                 NPA|   37|\n",
      "|                 DFL|   36|\n",
      "|                 OTH|   35|\n",
      "|                 NNE|   32|\n",
      "|                 UNK|   26|\n",
      "|                  UN|   23|\n",
      "|                 CON|   14|\n",
      "|                   W|    9|\n",
      "|                 NON|    7|\n",
      "|                 IDP|    5|\n",
      "|                 NOP|    5|\n",
      "|                 AMP|    3|\n",
      "|                 PPY|    3|\n",
      "|                 SEP|    3|\n",
      "|                 UNI|    3|\n",
      "+--------------------+-----+\n",
      "only showing top 20 rows\n",
      "\n"
     ]
    }
   ],
   "source": [
    "df.groupby('CAND_PTY_AFFILIATION').count().orderBy('count', ascending = False).show()"
   ]
  },
  {
   "cell_type": "markdown",
   "metadata": {},
   "source": [
    "Candidate state (count) - "
   ]
  },
  {
   "cell_type": "code",
   "execution_count": 59,
   "metadata": {},
   "outputs": [
    {
     "name": "stdout",
     "output_type": "stream",
     "text": [
      "+--------------+-----+\n",
      "|CAND_OFFICE_ST|count|\n",
      "+--------------+-----+\n",
      "|            CA|  695|\n",
      "|            TX|  604|\n",
      "|            00|  513|\n",
      "|            FL|  486|\n",
      "|            NY|  364|\n",
      "|            PA|  263|\n",
      "|            GA|  235|\n",
      "|            IL|  228|\n",
      "|            NC|  224|\n",
      "|            MI|  189|\n",
      "|            OH|  183|\n",
      "|            VA|  171|\n",
      "|            AZ|  170|\n",
      "|            NJ|  170|\n",
      "|            IN|  148|\n",
      "|            TN|  147|\n",
      "|            MD|  147|\n",
      "|            WA|  132|\n",
      "|            MN|  129|\n",
      "|            CO|  125|\n",
      "+--------------+-----+\n",
      "only showing top 20 rows\n",
      "\n"
     ]
    }
   ],
   "source": [
    "df.groupby('CAND_OFFICE_ST').count().orderBy('count', ascending = False).show()"
   ]
  },
  {
   "cell_type": "code",
   "execution_count": 66,
   "metadata": {},
   "outputs": [
    {
     "name": "stdout",
     "output_type": "stream",
     "text": [
      "+--------------------+--------------+--------------------+--------+------------+------------+-----------------+---------------+----------------------+\n",
      "|           CAND_NAME|CAND_OFFICE_ST|CAND_PTY_AFFILIATION|CAND_ICI|TTL_RECEIPTS|CAND_CONTRIB|TTL_INDIV_CONTRIB|POL_PTY_CONTRIB|OTHER_POL_CMTE_CONTRIB|\n",
      "+--------------------+--------------+--------------------+--------+------------+------------+-----------------+---------------+----------------------+\n",
      "|     YOUNG, DONALD E|            AK|                 REP|       I|  1362383.63|         0.0|        637025.31|            0.0|             584444.63|\n",
      "|       GALVIN, ALYSE|            AK|                 IND|       C|  2266364.63|     3394.63|        2116292.8|            0.0|              109350.0|\n",
      "|     AVERHART, JAMES|            AL|                 DEM|       O|    50126.74|         0.0|         23281.74|            0.0|                   0.0|\n",
      "|    GARDNER, KIANI A|            AL|                 DEM|       O|   118661.85|      764.97|         92896.88|            0.0|               19000.0|\n",
      "|COLLINS, FREDERIC...|            AL|                 DEM|       O|    62935.42|     56500.0|          5917.12|            0.0|                   0.0|\n",
      "+--------------------+--------------+--------------------+--------+------------+------------+-----------------+---------------+----------------------+\n",
      "only showing top 5 rows\n",
      "\n"
     ]
    }
   ],
   "source": [
    "df.select('CAND_NAME', \n",
    "          'CAND_OFFICE_ST',\n",
    "          'CAND_PTY_AFFILIATION', \n",
    "          'CAND_ICI', \n",
    "          'TTL_RECEIPTS',\n",
    "          'CAND_CONTRIB',    \n",
    "          'TTL_INDIV_CONTRIB',\n",
    "          'POL_PTY_CONTRIB',\n",
    "          'OTHER_POL_CMTE_CONTRIB').show(5)"
   ]
  },
  {
   "cell_type": "code",
   "execution_count": 67,
   "metadata": {},
   "outputs": [
    {
     "name": "stdout",
     "output_type": "stream",
     "text": [
      "[NbConvertApp] Converting notebook Exploratory_Work-Group5.ipynb to pdf\n",
      "[NbConvertApp] Writing 43970 bytes to ./notebook.tex\n",
      "[NbConvertApp] Building PDF\n",
      "[NbConvertApp] Running xelatex 3 times: ['xelatex', './notebook.tex', '-quiet']\n",
      "[NbConvertApp] Running bibtex 1 time: ['bibtex', './notebook']\n",
      "[NbConvertApp] WARNING | bibtex had problems, most likely because there were no citations\n",
      "[NbConvertApp] PDF successfully created\n",
      "[NbConvertApp] Writing 51768 bytes to Exploratory_Work-Group5.pdf\n"
     ]
    }
   ],
   "source": [
    "!jupyter nbconvert --to pdf Exploratory_Work-Group5.ipynb"
   ]
  }
 ],
 "metadata": {
  "kernelspec": {
   "name": "Python 3.7.9 64-bit ('env')",
   "display_name": "Python 3.7.9 64-bit ('env')",
   "metadata": {
    "interpreter": {
     "hash": "53e1348cb9e13546a001ff7c0933f0b9c9f06027dec6172b0029b16a05920823"
    }
   }
  },
  "language_info": {
   "codemirror_mode": {
    "name": "ipython",
    "version": 3
   },
   "file_extension": ".py",
   "mimetype": "text/x-python",
   "name": "python",
   "nbconvert_exporter": "python",
   "pygments_lexer": "ipython3",
   "version": "3.7.9-final"
  }
 },
 "nbformat": 4,
 "nbformat_minor": 4
}